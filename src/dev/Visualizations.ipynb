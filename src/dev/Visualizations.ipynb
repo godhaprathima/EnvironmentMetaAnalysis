{
 "cells": [
  {
   "cell_type": "code",
   "execution_count": 1,
   "id": "e0433ac0",
   "metadata": {},
   "outputs": [
    {
     "name": "stdout",
     "output_type": "stream",
     "text": [
      "Total number of Articles: 1024395\n"
     ]
    }
   ],
   "source": [
    "from pymongo.mongo_client import MongoClient\n",
    "from pymongo.server_api import ServerApi\n",
    "\n",
    "uri = \"mongodb://localhost:27017/?retryWrites=true&w=majority\"\n",
    "client = MongoClient(uri, server_api=ServerApi('1'))\n",
    "database = client[\"OpenAlexEnvironmental\"]\n",
    "collection = database[\"journals\"]\n",
    "\n",
    "print(f\"Total number of Articles: {collection.count_documents({})}\")"
   ]
  },
  {
   "cell_type": "code",
   "execution_count": 2,
   "id": "8792424a",
   "metadata": {},
   "outputs": [
    {
     "data": {
      "text/plain": [
       "{'_id': ObjectId('64b7436b3edda9a6dab014da'),\n",
       " 'title': 'Triclosan exposure, transformation, and human health effects',\n",
       " 'language': 'en',\n",
       " 'publication_year': 2017,\n",
       " 'publication_date': '2017-11-17',\n",
       " 'type': 'journal-article',\n",
       " 'primary_location': {'is_oa': False,\n",
       "  'landing_page_url': 'https://doi.org/10.1080/10937404.2017.1399306',\n",
       "  'pdf_url': None,\n",
       "  'source': {'id': 'https://openalex.org/S96923654',\n",
       "   'display_name': 'Journal of Toxicology and Environmental Health-part B-critical Reviews',\n",
       "   'issn_l': '1093-7404',\n",
       "   'issn': ['1521-6950', '1093-7404'],\n",
       "   'is_oa': False,\n",
       "   'is_in_doaj': False,\n",
       "   'host_organization': 'https://openalex.org/P4310320547',\n",
       "   'host_organization_name': 'Taylor & Francis',\n",
       "   'host_organization_lineage': ['https://openalex.org/P4310320547'],\n",
       "   'host_organization_lineage_names': ['Taylor & Francis'],\n",
       "   'type': 'journal'},\n",
       "  'license': None,\n",
       "  'version': None},\n",
       " 'authorships': [{'author_position': 'first',\n",
       "   'author': {'id': 'https://openalex.org/A4332055002',\n",
       "    'display_name': 'Lisa Weatherly',\n",
       "    'orcid': None},\n",
       "   'institutions': [{'id': 'https://openalex.org/I7947594',\n",
       "     'display_name': 'University of Maine',\n",
       "     'ror': 'https://ror.org/01adr0w49',\n",
       "     'country_code': 'US',\n",
       "     'type': 'education'}],\n",
       "   'is_corresponding': False,\n",
       "   'raw_affiliation_string': 'a Graduate School of Biomedical Science and Engineering , University of Maine , Orono , ME , USA.',\n",
       "   'raw_affiliation_strings': ['a Graduate School of Biomedical Science and Engineering , University of Maine , Orono , ME , USA.']},\n",
       "  {'author_position': 'last',\n",
       "   'author': {'id': 'https://openalex.org/A2051750003',\n",
       "    'display_name': 'Julie A. Gosse',\n",
       "    'orcid': 'https://orcid.org/0000-0002-2457-4039'},\n",
       "   'institutions': [{'id': 'https://openalex.org/I7947594',\n",
       "     'display_name': 'University of Maine',\n",
       "     'ror': 'https://ror.org/01adr0w49',\n",
       "     'country_code': 'US',\n",
       "     'type': 'education'}],\n",
       "   'is_corresponding': False,\n",
       "   'raw_affiliation_string': 'b Department of Molecular and Biomedical Sciences , University of Maine , Orono , ME , USA.',\n",
       "   'raw_affiliation_strings': ['b Department of Molecular and Biomedical Sciences , University of Maine , Orono , ME , USA.']}],\n",
       " 'biblio': {'volume': '20',\n",
       "  'issue': '8',\n",
       "  'first_page': '447',\n",
       "  'last_page': '469'},\n",
       " 'concepts': [{'id': 'https://openalex.org/C2781289450',\n",
       "   'wikidata': 'https://www.wikidata.org/wiki/Q408646',\n",
       "   'display_name': 'Triclosan',\n",
       "   'level': 2,\n",
       "   'score': 0.9709624},\n",
       "  {'id': 'https://openalex.org/C3018890749',\n",
       "   'wikidata': 'https://www.wikidata.org/wiki/Q204711',\n",
       "   'display_name': 'Food and drug administration',\n",
       "   'level': 2,\n",
       "   'score': 0.68914425},\n",
       "  {'id': 'https://openalex.org/C143432726',\n",
       "   'wikidata': 'https://www.wikidata.org/wiki/Q520181',\n",
       "   'display_name': 'Hand sanitizer',\n",
       "   'level': 2,\n",
       "   'score': 0.63388824},\n",
       "  {'id': 'https://openalex.org/C2776866151',\n",
       "   'wikidata': 'https://www.wikidata.org/wiki/Q35855',\n",
       "   'display_name': 'Toothpaste',\n",
       "   'level': 2,\n",
       "   'score': 0.5975416},\n",
       "  {'id': 'https://openalex.org/C2987857752',\n",
       "   'wikidata': 'https://www.wikidata.org/wiki/Q12147',\n",
       "   'display_name': 'Human health',\n",
       "   'level': 2,\n",
       "   'score': 0.5535524},\n",
       "  {'id': 'https://openalex.org/C71924100',\n",
       "   'wikidata': 'https://www.wikidata.org/wiki/Q11190',\n",
       "   'display_name': 'Medicine',\n",
       "   'level': 0,\n",
       "   'score': 0.47784802},\n",
       "  {'id': 'https://openalex.org/C2908647359',\n",
       "   'wikidata': 'https://www.wikidata.org/wiki/Q2625603',\n",
       "   'display_name': 'Population',\n",
       "   'level': 2,\n",
       "   'score': 0.4776762},\n",
       "  {'id': 'https://openalex.org/C2780035454',\n",
       "   'wikidata': 'https://www.wikidata.org/wiki/Q8386',\n",
       "   'display_name': 'Drug',\n",
       "   'level': 2,\n",
       "   'score': 0.46354717},\n",
       "  {'id': 'https://openalex.org/C98274493',\n",
       "   'wikidata': 'https://www.wikidata.org/wiki/Q128406',\n",
       "   'display_name': 'Pharmacology',\n",
       "   'level': 1,\n",
       "   'score': 0.3782525},\n",
       "  {'id': 'https://openalex.org/C99454951',\n",
       "   'wikidata': 'https://www.wikidata.org/wiki/Q932068',\n",
       "   'display_name': 'Environmental health',\n",
       "   'level': 1,\n",
       "   'score': 0.3534659},\n",
       "  {'id': 'https://openalex.org/C199343813',\n",
       "   'wikidata': 'https://www.wikidata.org/wiki/Q12128',\n",
       "   'display_name': 'Dentistry',\n",
       "   'level': 1,\n",
       "   'score': 0.16849786},\n",
       "  {'id': 'https://openalex.org/C142724271',\n",
       "   'wikidata': 'https://www.wikidata.org/wiki/Q7208',\n",
       "   'display_name': 'Pathology',\n",
       "   'level': 1,\n",
       "   'score': 0.12375158}],\n",
       " 'abstract_inverted_index': {'Triclosan': [0],\n",
       "  '(TCS)': [1],\n",
       "  'is': [2, 14, 70],\n",
       "  'an': [3],\n",
       "  'antimicrobial': [4],\n",
       "  'used': [5],\n",
       "  'so': [6],\n",
       "  'ubiquitously': [7],\n",
       "  'that': [8],\n",
       "  '75%': [9],\n",
       "  'of': [10, 89],\n",
       "  'the': [11, 37, 41],\n",
       "  'US': [12, 42],\n",
       "  'population': [13],\n",
       "  'likely': [15],\n",
       "  'exposed': [16],\n",
       "  'to': [17, 93],\n",
       "  'this': [18, 90],\n",
       "  'compound': [19],\n",
       "  'via': [20],\n",
       "  'consumer': [21],\n",
       "  'goods': [22],\n",
       "  'and': [23, 44, 66, 76, 79, 85, 98, 104],\n",
       "  'personal': [24, 57],\n",
       "  'care': [25, 58],\n",
       "  'products.': [26],\n",
       "  'In': [27],\n",
       "  'September': [28],\n",
       "  '2016,': [29],\n",
       "  'TCS': [30, 49, 69, 95, 116],\n",
       "  'was': [31, 92, 122],\n",
       "  'banned': [32],\n",
       "  'from': [33],\n",
       "  'soap': [34],\n",
       "  'products': [35, 59],\n",
       "  'following': [36],\n",
       "  'risk': [38],\n",
       "  'assessment': [39],\n",
       "  'by': [40],\n",
       "  'Food': [43],\n",
       "  'Drug': [45],\n",
       "  'Administration': [46],\n",
       "  '(FDA).': [47],\n",
       "  'However,': [48],\n",
       "  'still': [50],\n",
       "  'remains,': [51],\n",
       "  'at': [52],\n",
       "  'high': [53],\n",
       "  'concentrations,': [54],\n",
       "  'in': [55, 81],\n",
       "  'other': [56],\n",
       "  'such': [60, 118],\n",
       "  'as': [61, 100, 102, 119],\n",
       "  'toothpaste,': [62],\n",
       "  'mouthwash,': [63],\n",
       "  'hand': [64],\n",
       "  'sanitizer,': [65],\n",
       "  'surgical': [67],\n",
       "  'soaps.': [68],\n",
       "  'readily': [71],\n",
       "  'absorbed': [72],\n",
       "  'into': [73],\n",
       "  'human': [74, 83, 111],\n",
       "  'skin': [75],\n",
       "  'oral': [77],\n",
       "  'mucosa': [78],\n",
       "  'found': [80],\n",
       "  'various': [82],\n",
       "  'tissues': [84],\n",
       "  'fluids.': [86],\n",
       "  'The': [87, 107],\n",
       "  'aim': [88],\n",
       "  'review': [91],\n",
       "  'describe': [94],\n",
       "  'exposure': [96],\n",
       "  'routes': [97],\n",
       "  'levels': [99],\n",
       "  'well': [101],\n",
       "  'metabolism': [103],\n",
       "  'transformation': [105],\n",
       "  'processes.': [106],\n",
       "  'burgeoning': [108],\n",
       "  'literature': [109],\n",
       "  'on': [110],\n",
       "  'health': [112],\n",
       "  'effects': [113],\n",
       "  'associated': [114],\n",
       "  'with': [115],\n",
       "  'exposure,': [117],\n",
       "  'reproductive': [120],\n",
       "  'problems,': [121],\n",
       "  'also': [123],\n",
       "  'summarized.': [124]}}"
      ]
     },
     "execution_count": 2,
     "metadata": {},
     "output_type": "execute_result"
    }
   ],
   "source": [
    "collection.find_one()"
   ]
  },
  {
   "cell_type": "raw",
   "id": "d33a0ac4-a21f-416a-b7cb-df430d1c2d17",
   "metadata": {},
   "source": []
  },
  {
   "cell_type": "code",
   "execution_count": 3,
   "id": "5cf0f888",
   "metadata": {},
   "outputs": [
    {
     "name": "stdout",
     "output_type": "stream",
     "text": [
      "0--10000--20000--30000--40000--50000--60000--70000--80000--90000--100000--110000--120000--130000--140000--150000--160000--170000--180000--190000--200000--210000--220000--230000--240000--250000--260000--270000--280000--290000--300000--310000--320000--330000--340000--350000--360000--370000--380000--390000--400000--410000--420000--430000--440000--450000--460000--470000--480000--490000--500000--510000--520000--530000--540000--550000--560000--570000--580000--590000--600000--610000--620000--630000--640000--650000--660000--670000--680000--690000--700000--710000--720000--730000--740000--750000--760000--770000--780000--790000--800000--810000--820000--830000--840000--850000--860000--870000--880000--890000--900000--910000--920000--930000--940000--950000--960000--970000--980000--990000--1000000--1010000--1020000--"
     ]
    }
   ],
   "source": [
    "publications_data_list=[]\n",
    "c=0\n",
    "for x in collection.find():\n",
    "    if(len(x['authorships'])>0):\n",
    "        for aut in x['authorships']:\n",
    "            if(aut['author_position']=='first' and len(aut['institutions'])>0 and ('country_code' in aut['institutions'][0].keys())):\n",
    "                first_author_ctrycode=aut['institutions'][0]['country_code']\n",
    "    if(len(x['authorships'])>0):\n",
    "        for aut in x['authorships']:\n",
    "            if(aut['author_position']=='last' and len(aut['institutions'])>0 and ('country_code' in aut['institutions'][0].keys())):\n",
    "                last_author_ctrycode=aut['institutions'][0]['country_code']\n",
    "    if(c%10000==0):\n",
    "        print(c, end=\"--\")\n",
    "    c=c+1\n",
    "    publications_data_list.append((x['_id'],x['publication_year'],x['type'],first_author_ctrycode, last_author_ctrycode)) \n",
    "                \n",
    "     "
   ]
  },
  {
   "cell_type": "code",
   "execution_count": 5,
   "id": "25c0a5a7",
   "metadata": {},
   "outputs": [
    {
     "data": {
      "text/plain": [
       "(ObjectId('64b7436b3edda9a6dab014da'), 2017, 'journal-article', 'US', 'US')"
      ]
     },
     "execution_count": 5,
     "metadata": {},
     "output_type": "execute_result"
    }
   ],
   "source": [
    "publications_data_list[0]"
   ]
  },
  {
   "cell_type": "code",
   "execution_count": 6,
   "id": "07b71e8a",
   "metadata": {},
   "outputs": [
    {
     "data": {
      "text/html": [
       "<div>\n",
       "<style scoped>\n",
       "    .dataframe tbody tr th:only-of-type {\n",
       "        vertical-align: middle;\n",
       "    }\n",
       "\n",
       "    .dataframe tbody tr th {\n",
       "        vertical-align: top;\n",
       "    }\n",
       "\n",
       "    .dataframe thead th {\n",
       "        text-align: right;\n",
       "    }\n",
       "</style>\n",
       "<table border=\"1\" class=\"dataframe\">\n",
       "  <thead>\n",
       "    <tr style=\"text-align: right;\">\n",
       "      <th></th>\n",
       "      <th>id</th>\n",
       "      <th>year</th>\n",
       "      <th>type</th>\n",
       "      <th>first_aut_cc</th>\n",
       "      <th>last_aut_cc</th>\n",
       "    </tr>\n",
       "  </thead>\n",
       "  <tbody>\n",
       "    <tr>\n",
       "      <th>0</th>\n",
       "      <td>64b7436b3edda9a6dab014da</td>\n",
       "      <td>2017</td>\n",
       "      <td>journal-article</td>\n",
       "      <td>US</td>\n",
       "      <td>US</td>\n",
       "    </tr>\n",
       "    <tr>\n",
       "      <th>1</th>\n",
       "      <td>64b7436b3edda9a6dab014db</td>\n",
       "      <td>2018</td>\n",
       "      <td>journal-article</td>\n",
       "      <td>DK</td>\n",
       "      <td>DK</td>\n",
       "    </tr>\n",
       "    <tr>\n",
       "      <th>2</th>\n",
       "      <td>64b7436b3edda9a6dab014dc</td>\n",
       "      <td>2013</td>\n",
       "      <td>journal-article</td>\n",
       "      <td>DK</td>\n",
       "      <td>DK</td>\n",
       "    </tr>\n",
       "    <tr>\n",
       "      <th>3</th>\n",
       "      <td>64b7436b3edda9a6dab014dd</td>\n",
       "      <td>2014</td>\n",
       "      <td>journal-article</td>\n",
       "      <td>GB</td>\n",
       "      <td>GB</td>\n",
       "    </tr>\n",
       "    <tr>\n",
       "      <th>4</th>\n",
       "      <td>64b7436b3edda9a6dab014de</td>\n",
       "      <td>2013</td>\n",
       "      <td>journal-article</td>\n",
       "      <td>US</td>\n",
       "      <td>US</td>\n",
       "    </tr>\n",
       "  </tbody>\n",
       "</table>\n",
       "</div>"
      ],
      "text/plain": [
       "                         id  year             type first_aut_cc last_aut_cc\n",
       "0  64b7436b3edda9a6dab014da  2017  journal-article           US          US\n",
       "1  64b7436b3edda9a6dab014db  2018  journal-article           DK          DK\n",
       "2  64b7436b3edda9a6dab014dc  2013  journal-article           DK          DK\n",
       "3  64b7436b3edda9a6dab014dd  2014  journal-article           GB          GB\n",
       "4  64b7436b3edda9a6dab014de  2013  journal-article           US          US"
      ]
     },
     "execution_count": 6,
     "metadata": {},
     "output_type": "execute_result"
    }
   ],
   "source": [
    "import pandas as pd\n",
    "publications_df = pd.DataFrame(publications_data_list, columns =['id', 'year', 'type','first_aut_cc','last_aut_cc'])\n",
    "publications_df.head()"
   ]
  },
  {
   "cell_type": "code",
   "execution_count": 7,
   "id": "89de20cc",
   "metadata": {},
   "outputs": [],
   "source": [
    "firstauthor_pub_cnt=publications_df.loc[:, ['first_aut_cc','id']].groupby('first_aut_cc').count()\n",
    "lastauthor_pub_cnt=publications_df.loc[:, ['last_aut_cc','id']].groupby('last_aut_cc').count()"
   ]
  },
  {
   "cell_type": "code",
   "execution_count": 8,
   "id": "2370b407",
   "metadata": {},
   "outputs": [
    {
     "data": {
      "text/plain": [
       "(197, 1)"
      ]
     },
     "execution_count": 8,
     "metadata": {},
     "output_type": "execute_result"
    }
   ],
   "source": [
    "firstauthor_pub_cnt.shape"
   ]
  },
  {
   "cell_type": "code",
   "execution_count": 9,
   "id": "0050e47a",
   "metadata": {},
   "outputs": [
    {
     "data": {
      "text/plain": [
       "(205, 1)"
      ]
     },
     "execution_count": 9,
     "metadata": {},
     "output_type": "execute_result"
    }
   ],
   "source": [
    "lastauthor_pub_cnt.shape"
   ]
  },
  {
   "cell_type": "code",
   "execution_count": 10,
   "id": "014ea5cf",
   "metadata": {},
   "outputs": [],
   "source": [
    "from iso3166 import countries\n",
    "first_aut_ctry = []\n",
    "last_aut_ctry=[]\n",
    "first_aut_cc3 = []\n",
    "last_aut_cc3=[]\n",
    "c=0\n",
    "for idx in firstauthor_pub_cnt.index:\n",
    "    if(idx is not None):\n",
    "        first_aut_ctry.append(countries.get(idx).name)\n",
    "        #print(countries.get(idx).name)\n",
    "        first_aut_cc3.append(countries.get(idx).alpha3)\n",
    "    else:\n",
    "        first_aut_ctry.append(None)\n",
    "        first_aut_cc3.append(None)\n",
    "\n",
    "for idx in lastauthor_pub_cnt.index:\n",
    "    if(idx is not None):\n",
    "        last_aut_ctry.append(countries.get(idx).name)\n",
    "        last_aut_cc3.append(countries.get(idx).alpha3)\n",
    "    else:\n",
    "        last_aut_ctry.append(None)\n",
    "        last_aut_cc3.append(None)\n",
    "    "
   ]
  },
  {
   "cell_type": "code",
   "execution_count": 11,
   "id": "498d4ef0",
   "metadata": {},
   "outputs": [],
   "source": [
    "firstauthor_pub_cnt['Country']=first_aut_ctry\n",
    "firstauthor_pub_cnt['Country Code']=first_aut_cc3\n",
    "lastauthor_pub_cnt['Country']=last_aut_ctry\n",
    "lastauthor_pub_cnt['Country Code']=last_aut_cc3\n"
   ]
  },
  {
   "cell_type": "code",
   "execution_count": 12,
   "id": "25171021",
   "metadata": {},
   "outputs": [
    {
     "data": {
      "text/html": [
       "<div>\n",
       "<style scoped>\n",
       "    .dataframe tbody tr th:only-of-type {\n",
       "        vertical-align: middle;\n",
       "    }\n",
       "\n",
       "    .dataframe tbody tr th {\n",
       "        vertical-align: top;\n",
       "    }\n",
       "\n",
       "    .dataframe thead th {\n",
       "        text-align: right;\n",
       "    }\n",
       "</style>\n",
       "<table border=\"1\" class=\"dataframe\">\n",
       "  <thead>\n",
       "    <tr style=\"text-align: right;\">\n",
       "      <th></th>\n",
       "      <th>Articles Count</th>\n",
       "      <th>Country</th>\n",
       "      <th>Country Code</th>\n",
       "    </tr>\n",
       "    <tr>\n",
       "      <th>last_aut_cc</th>\n",
       "      <th></th>\n",
       "      <th></th>\n",
       "      <th></th>\n",
       "    </tr>\n",
       "  </thead>\n",
       "  <tbody>\n",
       "    <tr>\n",
       "      <th>AD</th>\n",
       "      <td>7</td>\n",
       "      <td>Andorra</td>\n",
       "      <td>AND</td>\n",
       "    </tr>\n",
       "    <tr>\n",
       "      <th>AE</th>\n",
       "      <td>1100</td>\n",
       "      <td>United Arab Emirates</td>\n",
       "      <td>ARE</td>\n",
       "    </tr>\n",
       "    <tr>\n",
       "      <th>AF</th>\n",
       "      <td>21</td>\n",
       "      <td>Afghanistan</td>\n",
       "      <td>AFG</td>\n",
       "    </tr>\n",
       "    <tr>\n",
       "      <th>AL</th>\n",
       "      <td>63</td>\n",
       "      <td>Albania</td>\n",
       "      <td>ALB</td>\n",
       "    </tr>\n",
       "    <tr>\n",
       "      <th>AM</th>\n",
       "      <td>90</td>\n",
       "      <td>Armenia</td>\n",
       "      <td>ARM</td>\n",
       "    </tr>\n",
       "  </tbody>\n",
       "</table>\n",
       "</div>"
      ],
      "text/plain": [
       "             Articles Count               Country Country Code\n",
       "last_aut_cc                                                   \n",
       "AD                        7               Andorra          AND\n",
       "AE                     1100  United Arab Emirates          ARE\n",
       "AF                       21           Afghanistan          AFG\n",
       "AL                       63               Albania          ALB\n",
       "AM                       90               Armenia          ARM"
      ]
     },
     "execution_count": 12,
     "metadata": {},
     "output_type": "execute_result"
    }
   ],
   "source": [
    "lastauthor_pub_cnt=lastauthor_pub_cnt.rename(columns={'id':'Articles Count'})\n",
    "lastauthor_pub_cnt.head()"
   ]
  },
  {
   "cell_type": "code",
   "execution_count": 13,
   "id": "a9429f10",
   "metadata": {},
   "outputs": [
    {
     "data": {
      "text/html": [
       "<div>\n",
       "<style scoped>\n",
       "    .dataframe tbody tr th:only-of-type {\n",
       "        vertical-align: middle;\n",
       "    }\n",
       "\n",
       "    .dataframe tbody tr th {\n",
       "        vertical-align: top;\n",
       "    }\n",
       "\n",
       "    .dataframe thead th {\n",
       "        text-align: right;\n",
       "    }\n",
       "</style>\n",
       "<table border=\"1\" class=\"dataframe\">\n",
       "  <thead>\n",
       "    <tr style=\"text-align: right;\">\n",
       "      <th></th>\n",
       "      <th>Articles Count</th>\n",
       "      <th>Country</th>\n",
       "      <th>Country Code</th>\n",
       "    </tr>\n",
       "    <tr>\n",
       "      <th>first_aut_cc</th>\n",
       "      <th></th>\n",
       "      <th></th>\n",
       "      <th></th>\n",
       "    </tr>\n",
       "  </thead>\n",
       "  <tbody>\n",
       "    <tr>\n",
       "      <th>AD</th>\n",
       "      <td>1</td>\n",
       "      <td>Andorra</td>\n",
       "      <td>AND</td>\n",
       "    </tr>\n",
       "    <tr>\n",
       "      <th>AE</th>\n",
       "      <td>1049</td>\n",
       "      <td>United Arab Emirates</td>\n",
       "      <td>ARE</td>\n",
       "    </tr>\n",
       "    <tr>\n",
       "      <th>AF</th>\n",
       "      <td>24</td>\n",
       "      <td>Afghanistan</td>\n",
       "      <td>AFG</td>\n",
       "    </tr>\n",
       "    <tr>\n",
       "      <th>AL</th>\n",
       "      <td>90</td>\n",
       "      <td>Albania</td>\n",
       "      <td>ALB</td>\n",
       "    </tr>\n",
       "    <tr>\n",
       "      <th>AM</th>\n",
       "      <td>108</td>\n",
       "      <td>Armenia</td>\n",
       "      <td>ARM</td>\n",
       "    </tr>\n",
       "  </tbody>\n",
       "</table>\n",
       "</div>"
      ],
      "text/plain": [
       "              Articles Count               Country Country Code\n",
       "first_aut_cc                                                   \n",
       "AD                         1               Andorra          AND\n",
       "AE                      1049  United Arab Emirates          ARE\n",
       "AF                        24           Afghanistan          AFG\n",
       "AL                        90               Albania          ALB\n",
       "AM                       108               Armenia          ARM"
      ]
     },
     "execution_count": 13,
     "metadata": {},
     "output_type": "execute_result"
    }
   ],
   "source": [
    "firstauthor_pub_cnt=firstauthor_pub_cnt.rename(columns={'id':'Articles Count'})\n",
    "firstauthor_pub_cnt.head()\n"
   ]
  },
  {
   "cell_type": "code",
   "execution_count": 14,
   "id": "b0984789",
   "metadata": {},
   "outputs": [],
   "source": [
    "income_level_data=pd.read_excel('world bank income division.xlsx')\n",
    "income_level_data2=pd.read_excel('world bank income2.xlsx')\n",
    "gdp_data=pd.read_excel('world bank GDP data.xls')\n"
   ]
  },
  {
   "cell_type": "code",
   "execution_count": 15,
   "id": "d74d1352",
   "metadata": {},
   "outputs": [],
   "source": [
    "income_level_data=income_level_data.drop(columns={'Income Group Code','Income Group'})\n",
    "income_level_data=income_level_data.drop_duplicates()"
   ]
  },
  {
   "cell_type": "code",
   "execution_count": 16,
   "id": "ae5382e5",
   "metadata": {},
   "outputs": [
    {
     "data": {
      "text/html": [
       "<div>\n",
       "<style scoped>\n",
       "    .dataframe tbody tr th:only-of-type {\n",
       "        vertical-align: middle;\n",
       "    }\n",
       "\n",
       "    .dataframe tbody tr th {\n",
       "        vertical-align: top;\n",
       "    }\n",
       "\n",
       "    .dataframe thead th {\n",
       "        text-align: right;\n",
       "    }\n",
       "</style>\n",
       "<table border=\"1\" class=\"dataframe\">\n",
       "  <thead>\n",
       "    <tr style=\"text-align: right;\">\n",
       "      <th></th>\n",
       "      <th>Country Code</th>\n",
       "      <th>Country</th>\n",
       "    </tr>\n",
       "  </thead>\n",
       "  <tbody>\n",
       "    <tr>\n",
       "      <th>0</th>\n",
       "      <td>ASM</td>\n",
       "      <td>American Samoa</td>\n",
       "    </tr>\n",
       "    <tr>\n",
       "      <th>1</th>\n",
       "      <td>AND</td>\n",
       "      <td>Andorra</td>\n",
       "    </tr>\n",
       "    <tr>\n",
       "      <th>2</th>\n",
       "      <td>ATG</td>\n",
       "      <td>Antigua and Barbuda</td>\n",
       "    </tr>\n",
       "    <tr>\n",
       "      <th>3</th>\n",
       "      <td>ABW</td>\n",
       "      <td>Aruba</td>\n",
       "    </tr>\n",
       "    <tr>\n",
       "      <th>4</th>\n",
       "      <td>AUS</td>\n",
       "      <td>Australia</td>\n",
       "    </tr>\n",
       "  </tbody>\n",
       "</table>\n",
       "</div>"
      ],
      "text/plain": [
       "  Country Code              Country\n",
       "0          ASM       American Samoa\n",
       "1          AND              Andorra\n",
       "2          ATG  Antigua and Barbuda\n",
       "3          ABW                Aruba\n",
       "4          AUS            Australia"
      ]
     },
     "execution_count": 16,
     "metadata": {},
     "output_type": "execute_result"
    }
   ],
   "source": [
    "income_level_data.head()"
   ]
  },
  {
   "cell_type": "code",
   "execution_count": 17,
   "id": "592f6de2",
   "metadata": {},
   "outputs": [
    {
     "data": {
      "text/html": [
       "<div>\n",
       "<style scoped>\n",
       "    .dataframe tbody tr th:only-of-type {\n",
       "        vertical-align: middle;\n",
       "    }\n",
       "\n",
       "    .dataframe tbody tr th {\n",
       "        vertical-align: top;\n",
       "    }\n",
       "\n",
       "    .dataframe thead th {\n",
       "        text-align: right;\n",
       "    }\n",
       "</style>\n",
       "<table border=\"1\" class=\"dataframe\">\n",
       "  <thead>\n",
       "    <tr style=\"text-align: right;\">\n",
       "      <th></th>\n",
       "      <th>Economy</th>\n",
       "      <th>Income group</th>\n",
       "    </tr>\n",
       "  </thead>\n",
       "  <tbody>\n",
       "    <tr>\n",
       "      <th>0</th>\n",
       "      <td>Aruba</td>\n",
       "      <td>High income</td>\n",
       "    </tr>\n",
       "    <tr>\n",
       "      <th>1</th>\n",
       "      <td>Afghanistan</td>\n",
       "      <td>Low income</td>\n",
       "    </tr>\n",
       "    <tr>\n",
       "      <th>2</th>\n",
       "      <td>Angola</td>\n",
       "      <td>Lower middle income</td>\n",
       "    </tr>\n",
       "    <tr>\n",
       "      <th>3</th>\n",
       "      <td>Albania</td>\n",
       "      <td>Upper middle income</td>\n",
       "    </tr>\n",
       "    <tr>\n",
       "      <th>4</th>\n",
       "      <td>Andorra</td>\n",
       "      <td>High income</td>\n",
       "    </tr>\n",
       "  </tbody>\n",
       "</table>\n",
       "</div>"
      ],
      "text/plain": [
       "       Economy         Income group\n",
       "0        Aruba          High income\n",
       "1  Afghanistan           Low income\n",
       "2       Angola  Lower middle income\n",
       "3      Albania  Upper middle income\n",
       "4      Andorra          High income"
      ]
     },
     "execution_count": 17,
     "metadata": {},
     "output_type": "execute_result"
    }
   ],
   "source": [
    "\n",
    "income_level_data2.head()"
   ]
  },
  {
   "cell_type": "code",
   "execution_count": 18,
   "id": "1d3555ef",
   "metadata": {},
   "outputs": [
    {
     "data": {
      "text/plain": [
       "(218, 2)"
      ]
     },
     "execution_count": 18,
     "metadata": {},
     "output_type": "execute_result"
    }
   ],
   "source": [
    "income_level_data2.shape"
   ]
  },
  {
   "cell_type": "code",
   "execution_count": 19,
   "id": "d83016e0",
   "metadata": {},
   "outputs": [
    {
     "data": {
      "text/plain": [
       "(217, 2)"
      ]
     },
     "execution_count": 19,
     "metadata": {},
     "output_type": "execute_result"
    }
   ],
   "source": [
    "income_level_data.shape"
   ]
  },
  {
   "cell_type": "code",
   "execution_count": 20,
   "id": "a80da06c",
   "metadata": {},
   "outputs": [],
   "source": [
    "income_level_data=income_level_data.merge(income_level_data2, right_on='Economy', left_on='Country')\n",
    "income_level_data=income_level_data.drop(columns={'Economy'})"
   ]
  },
  {
   "cell_type": "code",
   "execution_count": 21,
   "id": "a4828853",
   "metadata": {},
   "outputs": [
    {
     "data": {
      "text/html": [
       "<div>\n",
       "<style scoped>\n",
       "    .dataframe tbody tr th:only-of-type {\n",
       "        vertical-align: middle;\n",
       "    }\n",
       "\n",
       "    .dataframe tbody tr th {\n",
       "        vertical-align: top;\n",
       "    }\n",
       "\n",
       "    .dataframe thead th {\n",
       "        text-align: right;\n",
       "    }\n",
       "</style>\n",
       "<table border=\"1\" class=\"dataframe\">\n",
       "  <thead>\n",
       "    <tr style=\"text-align: right;\">\n",
       "      <th></th>\n",
       "      <th>Country Code</th>\n",
       "      <th>Country</th>\n",
       "      <th>Income group</th>\n",
       "    </tr>\n",
       "  </thead>\n",
       "  <tbody>\n",
       "    <tr>\n",
       "      <th>0</th>\n",
       "      <td>ASM</td>\n",
       "      <td>American Samoa</td>\n",
       "      <td>High income</td>\n",
       "    </tr>\n",
       "    <tr>\n",
       "      <th>1</th>\n",
       "      <td>AND</td>\n",
       "      <td>Andorra</td>\n",
       "      <td>High income</td>\n",
       "    </tr>\n",
       "    <tr>\n",
       "      <th>2</th>\n",
       "      <td>ATG</td>\n",
       "      <td>Antigua and Barbuda</td>\n",
       "      <td>High income</td>\n",
       "    </tr>\n",
       "    <tr>\n",
       "      <th>3</th>\n",
       "      <td>ABW</td>\n",
       "      <td>Aruba</td>\n",
       "      <td>High income</td>\n",
       "    </tr>\n",
       "    <tr>\n",
       "      <th>4</th>\n",
       "      <td>AUS</td>\n",
       "      <td>Australia</td>\n",
       "      <td>High income</td>\n",
       "    </tr>\n",
       "  </tbody>\n",
       "</table>\n",
       "</div>"
      ],
      "text/plain": [
       "  Country Code              Country Income group\n",
       "0          ASM       American Samoa  High income\n",
       "1          AND              Andorra  High income\n",
       "2          ATG  Antigua and Barbuda  High income\n",
       "3          ABW                Aruba  High income\n",
       "4          AUS            Australia  High income"
      ]
     },
     "execution_count": 21,
     "metadata": {},
     "output_type": "execute_result"
    }
   ],
   "source": [
    "income_level_data.head()"
   ]
  },
  {
   "cell_type": "code",
   "execution_count": 22,
   "id": "1b5fb49a",
   "metadata": {},
   "outputs": [
    {
     "data": {
      "text/html": [
       "<div>\n",
       "<style scoped>\n",
       "    .dataframe tbody tr th:only-of-type {\n",
       "        vertical-align: middle;\n",
       "    }\n",
       "\n",
       "    .dataframe tbody tr th {\n",
       "        vertical-align: top;\n",
       "    }\n",
       "\n",
       "    .dataframe thead th {\n",
       "        text-align: right;\n",
       "    }\n",
       "</style>\n",
       "<table border=\"1\" class=\"dataframe\">\n",
       "  <thead>\n",
       "    <tr style=\"text-align: right;\">\n",
       "      <th></th>\n",
       "      <th>Country Name</th>\n",
       "      <th>Country Code</th>\n",
       "      <th>GDP per capita(US$)</th>\n",
       "    </tr>\n",
       "  </thead>\n",
       "  <tbody>\n",
       "    <tr>\n",
       "      <th>0</th>\n",
       "      <td>Aruba</td>\n",
       "      <td>ABW</td>\n",
       "      <td>29342.100730</td>\n",
       "    </tr>\n",
       "    <tr>\n",
       "      <th>1</th>\n",
       "      <td>Africa Eastern and Southern</td>\n",
       "      <td>AFE</td>\n",
       "      <td>1622.391720</td>\n",
       "    </tr>\n",
       "    <tr>\n",
       "      <th>2</th>\n",
       "      <td>Afghanistan</td>\n",
       "      <td>AFG</td>\n",
       "      <td>363.674087</td>\n",
       "    </tr>\n",
       "    <tr>\n",
       "      <th>3</th>\n",
       "      <td>Africa Western and Central</td>\n",
       "      <td>AFW</td>\n",
       "      <td>1790.348800</td>\n",
       "    </tr>\n",
       "    <tr>\n",
       "      <th>4</th>\n",
       "      <td>Angola</td>\n",
       "      <td>AGO</td>\n",
       "      <td>2998.501158</td>\n",
       "    </tr>\n",
       "  </tbody>\n",
       "</table>\n",
       "</div>"
      ],
      "text/plain": [
       "                  Country Name Country Code  GDP per capita(US$)\n",
       "0                        Aruba          ABW         29342.100730\n",
       "1  Africa Eastern and Southern          AFE          1622.391720\n",
       "2                  Afghanistan          AFG           363.674087\n",
       "3   Africa Western and Central          AFW          1790.348800\n",
       "4                       Angola          AGO          2998.501158"
      ]
     },
     "execution_count": 22,
     "metadata": {},
     "output_type": "execute_result"
    }
   ],
   "source": [
    "gdp_data=gdp_data.drop(columns={'Indicator Name'})\n",
    "gdp_data=gdp_data.rename(columns={'2022':'GDP per capita(US$)'})\n",
    "gdp_data=gdp_data.drop_duplicates()\n",
    "gdp_data.head()"
   ]
  },
  {
   "cell_type": "code",
   "execution_count": 23,
   "id": "d9d68e0d",
   "metadata": {},
   "outputs": [
    {
     "data": {
      "text/html": [
       "<div>\n",
       "<style scoped>\n",
       "    .dataframe tbody tr th:only-of-type {\n",
       "        vertical-align: middle;\n",
       "    }\n",
       "\n",
       "    .dataframe tbody tr th {\n",
       "        vertical-align: top;\n",
       "    }\n",
       "\n",
       "    .dataframe thead th {\n",
       "        text-align: right;\n",
       "    }\n",
       "</style>\n",
       "<table border=\"1\" class=\"dataframe\">\n",
       "  <thead>\n",
       "    <tr style=\"text-align: right;\">\n",
       "      <th></th>\n",
       "      <th>Articles Count</th>\n",
       "      <th>Country_pub</th>\n",
       "      <th>Country Code</th>\n",
       "      <th>Country_inc</th>\n",
       "      <th>Income group</th>\n",
       "      <th>Country Name</th>\n",
       "      <th>GDP per capita(US$)</th>\n",
       "    </tr>\n",
       "  </thead>\n",
       "  <tbody>\n",
       "    <tr>\n",
       "      <th>0</th>\n",
       "      <td>1</td>\n",
       "      <td>Andorra</td>\n",
       "      <td>AND</td>\n",
       "      <td>Andorra</td>\n",
       "      <td>High income</td>\n",
       "      <td>Andorra</td>\n",
       "      <td>41992.793358</td>\n",
       "    </tr>\n",
       "    <tr>\n",
       "      <th>1</th>\n",
       "      <td>1049</td>\n",
       "      <td>United Arab Emirates</td>\n",
       "      <td>ARE</td>\n",
       "      <td>United Arab Emirates</td>\n",
       "      <td>High income</td>\n",
       "      <td>United Arab Emirates</td>\n",
       "      <td>53757.863251</td>\n",
       "    </tr>\n",
       "    <tr>\n",
       "      <th>2</th>\n",
       "      <td>24</td>\n",
       "      <td>Afghanistan</td>\n",
       "      <td>AFG</td>\n",
       "      <td>Afghanistan</td>\n",
       "      <td>Low income</td>\n",
       "      <td>Afghanistan</td>\n",
       "      <td>363.674087</td>\n",
       "    </tr>\n",
       "    <tr>\n",
       "      <th>3</th>\n",
       "      <td>90</td>\n",
       "      <td>Albania</td>\n",
       "      <td>ALB</td>\n",
       "      <td>Albania</td>\n",
       "      <td>Upper middle income</td>\n",
       "      <td>Albania</td>\n",
       "      <td>6802.804519</td>\n",
       "    </tr>\n",
       "    <tr>\n",
       "      <th>4</th>\n",
       "      <td>108</td>\n",
       "      <td>Armenia</td>\n",
       "      <td>ARM</td>\n",
       "      <td>Armenia</td>\n",
       "      <td>Upper middle income</td>\n",
       "      <td>Armenia</td>\n",
       "      <td>7014.206592</td>\n",
       "    </tr>\n",
       "  </tbody>\n",
       "</table>\n",
       "</div>"
      ],
      "text/plain": [
       "   Articles Count           Country_pub Country Code           Country_inc  \\\n",
       "0               1               Andorra          AND               Andorra   \n",
       "1            1049  United Arab Emirates          ARE  United Arab Emirates   \n",
       "2              24           Afghanistan          AFG           Afghanistan   \n",
       "3              90               Albania          ALB               Albania   \n",
       "4             108               Armenia          ARM               Armenia   \n",
       "\n",
       "          Income group          Country Name  GDP per capita(US$)  \n",
       "0          High income               Andorra         41992.793358  \n",
       "1          High income  United Arab Emirates         53757.863251  \n",
       "2           Low income           Afghanistan           363.674087  \n",
       "3  Upper middle income               Albania          6802.804519  \n",
       "4  Upper middle income               Armenia          7014.206592  "
      ]
     },
     "execution_count": 23,
     "metadata": {},
     "output_type": "execute_result"
    }
   ],
   "source": [
    "first_author_data=firstauthor_pub_cnt.merge(income_level_data, on='Country Code',how='left', suffixes=('_pub','_inc'))\n",
    "first_author_data=first_author_data.merge(gdp_data, on='Country Code', how='left')\n",
    "first_author_data.head()"
   ]
  },
  {
   "cell_type": "code",
   "execution_count": 24,
   "id": "9f8e9ed6",
   "metadata": {},
   "outputs": [
    {
     "data": {
      "text/html": [
       "<div>\n",
       "<style scoped>\n",
       "    .dataframe tbody tr th:only-of-type {\n",
       "        vertical-align: middle;\n",
       "    }\n",
       "\n",
       "    .dataframe tbody tr th {\n",
       "        vertical-align: top;\n",
       "    }\n",
       "\n",
       "    .dataframe thead th {\n",
       "        text-align: right;\n",
       "    }\n",
       "</style>\n",
       "<table border=\"1\" class=\"dataframe\">\n",
       "  <thead>\n",
       "    <tr style=\"text-align: right;\">\n",
       "      <th></th>\n",
       "      <th>Articles Count</th>\n",
       "      <th>Country_pub</th>\n",
       "      <th>Country Code</th>\n",
       "      <th>Country_inc</th>\n",
       "      <th>Income group</th>\n",
       "      <th>Country Name</th>\n",
       "      <th>GDP per capita(US$)</th>\n",
       "    </tr>\n",
       "  </thead>\n",
       "  <tbody>\n",
       "    <tr>\n",
       "      <th>0</th>\n",
       "      <td>7</td>\n",
       "      <td>Andorra</td>\n",
       "      <td>AND</td>\n",
       "      <td>Andorra</td>\n",
       "      <td>High income</td>\n",
       "      <td>Andorra</td>\n",
       "      <td>41992.793358</td>\n",
       "    </tr>\n",
       "    <tr>\n",
       "      <th>1</th>\n",
       "      <td>1100</td>\n",
       "      <td>United Arab Emirates</td>\n",
       "      <td>ARE</td>\n",
       "      <td>United Arab Emirates</td>\n",
       "      <td>High income</td>\n",
       "      <td>United Arab Emirates</td>\n",
       "      <td>53757.863251</td>\n",
       "    </tr>\n",
       "    <tr>\n",
       "      <th>2</th>\n",
       "      <td>21</td>\n",
       "      <td>Afghanistan</td>\n",
       "      <td>AFG</td>\n",
       "      <td>Afghanistan</td>\n",
       "      <td>Low income</td>\n",
       "      <td>Afghanistan</td>\n",
       "      <td>363.674087</td>\n",
       "    </tr>\n",
       "    <tr>\n",
       "      <th>3</th>\n",
       "      <td>63</td>\n",
       "      <td>Albania</td>\n",
       "      <td>ALB</td>\n",
       "      <td>Albania</td>\n",
       "      <td>Upper middle income</td>\n",
       "      <td>Albania</td>\n",
       "      <td>6802.804519</td>\n",
       "    </tr>\n",
       "    <tr>\n",
       "      <th>4</th>\n",
       "      <td>90</td>\n",
       "      <td>Armenia</td>\n",
       "      <td>ARM</td>\n",
       "      <td>Armenia</td>\n",
       "      <td>Upper middle income</td>\n",
       "      <td>Armenia</td>\n",
       "      <td>7014.206592</td>\n",
       "    </tr>\n",
       "  </tbody>\n",
       "</table>\n",
       "</div>"
      ],
      "text/plain": [
       "   Articles Count           Country_pub Country Code           Country_inc  \\\n",
       "0               7               Andorra          AND               Andorra   \n",
       "1            1100  United Arab Emirates          ARE  United Arab Emirates   \n",
       "2              21           Afghanistan          AFG           Afghanistan   \n",
       "3              63               Albania          ALB               Albania   \n",
       "4              90               Armenia          ARM               Armenia   \n",
       "\n",
       "          Income group          Country Name  GDP per capita(US$)  \n",
       "0          High income               Andorra         41992.793358  \n",
       "1          High income  United Arab Emirates         53757.863251  \n",
       "2           Low income           Afghanistan           363.674087  \n",
       "3  Upper middle income               Albania          6802.804519  \n",
       "4  Upper middle income               Armenia          7014.206592  "
      ]
     },
     "execution_count": 24,
     "metadata": {},
     "output_type": "execute_result"
    }
   ],
   "source": [
    "last_author_data=lastauthor_pub_cnt.merge(income_level_data, on='Country Code',how='left', suffixes=('_pub','_inc'))\n",
    "last_author_data=last_author_data.merge(gdp_data, on='Country Code', how='left')\n",
    "last_author_data.head()"
   ]
  },
  {
   "cell_type": "code",
   "execution_count": 25,
   "id": "8d6317ea",
   "metadata": {},
   "outputs": [],
   "source": [
    "first_author_data=first_author_data.sort_values(by=['Articles Count'], ascending=False)\n",
    "last_author_data=last_author_data.sort_values(by=['Articles Count'], ascending=False)"
   ]
  },
  {
   "cell_type": "code",
   "execution_count": 26,
   "id": "2a8da480",
   "metadata": {},
   "outputs": [
    {
     "data": {
      "text/html": [
       "<div>\n",
       "<style scoped>\n",
       "    .dataframe tbody tr th:only-of-type {\n",
       "        vertical-align: middle;\n",
       "    }\n",
       "\n",
       "    .dataframe tbody tr th {\n",
       "        vertical-align: top;\n",
       "    }\n",
       "\n",
       "    .dataframe thead th {\n",
       "        text-align: right;\n",
       "    }\n",
       "</style>\n",
       "<table border=\"1\" class=\"dataframe\">\n",
       "  <thead>\n",
       "    <tr style=\"text-align: right;\">\n",
       "      <th></th>\n",
       "      <th>Articles Count</th>\n",
       "      <th>Country_pub</th>\n",
       "      <th>Country Code</th>\n",
       "      <th>Country_inc</th>\n",
       "      <th>Income group</th>\n",
       "      <th>Country Name</th>\n",
       "      <th>GDP per capita(US$)</th>\n",
       "    </tr>\n",
       "  </thead>\n",
       "  <tbody>\n",
       "    <tr>\n",
       "      <th>36</th>\n",
       "      <td>276703</td>\n",
       "      <td>China</td>\n",
       "      <td>CHN</td>\n",
       "      <td>China</td>\n",
       "      <td>Upper middle income</td>\n",
       "      <td>China</td>\n",
       "      <td>12720.215640</td>\n",
       "    </tr>\n",
       "    <tr>\n",
       "      <th>184</th>\n",
       "      <td>127527</td>\n",
       "      <td>United States of America</td>\n",
       "      <td>USA</td>\n",
       "      <td>United States</td>\n",
       "      <td>High income</td>\n",
       "      <td>United States</td>\n",
       "      <td>76398.591742</td>\n",
       "    </tr>\n",
       "    <tr>\n",
       "      <th>80</th>\n",
       "      <td>39469</td>\n",
       "      <td>India</td>\n",
       "      <td>IND</td>\n",
       "      <td>India</td>\n",
       "      <td>Lower middle income</td>\n",
       "      <td>India</td>\n",
       "      <td>2388.621198</td>\n",
       "    </tr>\n",
       "    <tr>\n",
       "      <th>53</th>\n",
       "      <td>31149</td>\n",
       "      <td>Spain</td>\n",
       "      <td>ESP</td>\n",
       "      <td>Spain</td>\n",
       "      <td>High income</td>\n",
       "      <td>Spain</td>\n",
       "      <td>29350.168521</td>\n",
       "    </tr>\n",
       "    <tr>\n",
       "      <th>61</th>\n",
       "      <td>30720</td>\n",
       "      <td>United Kingdom of Great Britain and Northern I...</td>\n",
       "      <td>GBR</td>\n",
       "      <td>United Kingdom</td>\n",
       "      <td>High income</td>\n",
       "      <td>United Kingdom</td>\n",
       "      <td>45850.426122</td>\n",
       "    </tr>\n",
       "  </tbody>\n",
       "</table>\n",
       "</div>"
      ],
      "text/plain": [
       "     Articles Count                                        Country_pub  \\\n",
       "36           276703                                              China   \n",
       "184          127527                           United States of America   \n",
       "80            39469                                              India   \n",
       "53            31149                                              Spain   \n",
       "61            30720  United Kingdom of Great Britain and Northern I...   \n",
       "\n",
       "    Country Code     Country_inc         Income group    Country Name  \\\n",
       "36           CHN           China  Upper middle income           China   \n",
       "184          USA   United States          High income   United States   \n",
       "80           IND           India  Lower middle income           India   \n",
       "53           ESP           Spain          High income           Spain   \n",
       "61           GBR  United Kingdom          High income  United Kingdom   \n",
       "\n",
       "     GDP per capita(US$)  \n",
       "36          12720.215640  \n",
       "184         76398.591742  \n",
       "80           2388.621198  \n",
       "53          29350.168521  \n",
       "61          45850.426122  "
      ]
     },
     "execution_count": 26,
     "metadata": {},
     "output_type": "execute_result"
    }
   ],
   "source": [
    "first_author_data.head()\n"
   ]
  },
  {
   "cell_type": "code",
   "execution_count": 27,
   "id": "859034fb",
   "metadata": {},
   "outputs": [
    {
     "data": {
      "text/html": [
       "<div>\n",
       "<style scoped>\n",
       "    .dataframe tbody tr th:only-of-type {\n",
       "        vertical-align: middle;\n",
       "    }\n",
       "\n",
       "    .dataframe tbody tr th {\n",
       "        vertical-align: top;\n",
       "    }\n",
       "\n",
       "    .dataframe thead th {\n",
       "        text-align: right;\n",
       "    }\n",
       "</style>\n",
       "<table border=\"1\" class=\"dataframe\">\n",
       "  <thead>\n",
       "    <tr style=\"text-align: right;\">\n",
       "      <th></th>\n",
       "      <th>Articles Count</th>\n",
       "      <th>Country_pub</th>\n",
       "      <th>Country Code</th>\n",
       "      <th>Country_inc</th>\n",
       "      <th>Income group</th>\n",
       "      <th>Country Name</th>\n",
       "      <th>GDP per capita(US$)</th>\n",
       "    </tr>\n",
       "  </thead>\n",
       "  <tbody>\n",
       "    <tr>\n",
       "      <th>36</th>\n",
       "      <td>261895</td>\n",
       "      <td>China</td>\n",
       "      <td>CHN</td>\n",
       "      <td>China</td>\n",
       "      <td>Upper middle income</td>\n",
       "      <td>China</td>\n",
       "      <td>12720.215640</td>\n",
       "    </tr>\n",
       "    <tr>\n",
       "      <th>191</th>\n",
       "      <td>132677</td>\n",
       "      <td>United States of America</td>\n",
       "      <td>USA</td>\n",
       "      <td>United States</td>\n",
       "      <td>High income</td>\n",
       "      <td>United States</td>\n",
       "      <td>76398.591742</td>\n",
       "    </tr>\n",
       "    <tr>\n",
       "      <th>83</th>\n",
       "      <td>38635</td>\n",
       "      <td>India</td>\n",
       "      <td>IND</td>\n",
       "      <td>India</td>\n",
       "      <td>Lower middle income</td>\n",
       "      <td>India</td>\n",
       "      <td>2388.621198</td>\n",
       "    </tr>\n",
       "    <tr>\n",
       "      <th>53</th>\n",
       "      <td>33032</td>\n",
       "      <td>Spain</td>\n",
       "      <td>ESP</td>\n",
       "      <td>Spain</td>\n",
       "      <td>High income</td>\n",
       "      <td>Spain</td>\n",
       "      <td>29350.168521</td>\n",
       "    </tr>\n",
       "    <tr>\n",
       "      <th>62</th>\n",
       "      <td>32439</td>\n",
       "      <td>United Kingdom of Great Britain and Northern I...</td>\n",
       "      <td>GBR</td>\n",
       "      <td>United Kingdom</td>\n",
       "      <td>High income</td>\n",
       "      <td>United Kingdom</td>\n",
       "      <td>45850.426122</td>\n",
       "    </tr>\n",
       "  </tbody>\n",
       "</table>\n",
       "</div>"
      ],
      "text/plain": [
       "     Articles Count                                        Country_pub  \\\n",
       "36           261895                                              China   \n",
       "191          132677                           United States of America   \n",
       "83            38635                                              India   \n",
       "53            33032                                              Spain   \n",
       "62            32439  United Kingdom of Great Britain and Northern I...   \n",
       "\n",
       "    Country Code     Country_inc         Income group    Country Name  \\\n",
       "36           CHN           China  Upper middle income           China   \n",
       "191          USA   United States          High income   United States   \n",
       "83           IND           India  Lower middle income           India   \n",
       "53           ESP           Spain          High income           Spain   \n",
       "62           GBR  United Kingdom          High income  United Kingdom   \n",
       "\n",
       "     GDP per capita(US$)  \n",
       "36          12720.215640  \n",
       "191         76398.591742  \n",
       "83           2388.621198  \n",
       "53          29350.168521  \n",
       "62          45850.426122  "
      ]
     },
     "execution_count": 27,
     "metadata": {},
     "output_type": "execute_result"
    }
   ],
   "source": [
    "last_author_data.head()"
   ]
  },
  {
   "cell_type": "code",
   "execution_count": 37,
   "id": "50eb3e75",
   "metadata": {},
   "outputs": [
    {
     "name": "stdout",
     "output_type": "stream",
     "text": [
      "(197, 7)\n",
      "(205, 7)\n"
     ]
    }
   ],
   "source": [
    "print(first_author_data.shape)\n",
    "print(last_author_data.shape)\n",
    "first_author_data.to_excel(\"First_author_ctry_corresponding_data.xlsx\")\n",
    "last_author_data.to_excel(\"Last_author_ctry_corresponding_data.xlsx\")"
   ]
  },
  {
   "cell_type": "code",
   "execution_count": 34,
   "id": "c470a74b",
   "metadata": {},
   "outputs": [
    {
     "name": "stdout",
     "output_type": "stream",
     "text": [
      "First author country Null Income levels 8\n",
      "First author country Null  GDP per capita 11\n",
      "Last author country Null Income levels 9\n",
      "Last author country Null  GDP per capita 13\n"
     ]
    }
   ],
   "source": [
    "print(\"First author country Null Income levels\", first_author_data['Income group'].isna().sum())\n",
    "print(\"First author country Null  GDP per capita\", first_author_data['GDP per capita(US$)'].isna().sum())\n",
    "print(\"Last author country Null Income levels\", last_author_data['Income group'].isna().sum())\n",
    "print(\"Last author country Null  GDP per capita\", last_author_data['GDP per capita(US$)'].isna().sum())"
   ]
  },
  {
   "cell_type": "code",
   "execution_count": 35,
   "id": "6caa0ce7",
   "metadata": {},
   "outputs": [],
   "source": [
    "first_author_ctry_data=first_author_data.dropna(axis=0, subset=['Income group', 'GDP per capita(US$)'])\n",
    "last_author_ctry_data=last_author_data.dropna(axis=0, subset=['Income group','GDP per capita(US$)'])"
   ]
  },
  {
   "cell_type": "code",
   "execution_count": 36,
   "id": "10992910",
   "metadata": {},
   "outputs": [
    {
     "name": "stdout",
     "output_type": "stream",
     "text": [
      "(185, 7)\n",
      "(191, 7)\n"
     ]
    }
   ],
   "source": [
    "print(first_author_ctry_data.shape)\n",
    "print(last_author_ctry_data.shape)"
   ]
  },
  {
   "cell_type": "markdown",
   "id": "ba527c8c",
   "metadata": {},
   "source": [
    "# Visualization-1 (First Author Country with Corresponding Income level)"
   ]
  },
  {
   "cell_type": "code",
   "execution_count": 52,
   "id": "a6d102b4",
   "metadata": {},
   "outputs": [
    {
     "data": {
      "application/vnd.plotly.v1+json": {
       "config": {
        "plotlyServerURL": "https://plot.ly"
       },
       "data": [
        {
         "alignmentgroup": "True",
         "cliponaxis": false,
         "hovertemplate": "Income group=High income<br>Country Name=%{x}<br>Log of Articles Count=%{y}<extra></extra>",
         "legendgroup": "High income",
         "marker": {
          "color": "blue",
          "pattern": {
           "shape": ""
          }
         },
         "name": "High income",
         "offsetgroup": "High income",
         "orientation": "v",
         "showlegend": true,
         "textposition": "auto",
         "texttemplate": "%{y}",
         "type": "bar",
         "x": [
          "United States",
          "Spain",
          "United Kingdom",
          "Italy",
          "Germany",
          "Canada",
          "Australia",
          "Korea, Rep.",
          "Poland",
          "Japan",
          "France",
          "Netherlands",
          "Sweden",
          "Portugal",
          "Switzerland",
          "Greece",
          "Belgium",
          "Finland",
          "Denmark",
          "Norway",
          "Czechia",
          "Austria",
          "Saudi Arabia",
          "Romania",
          "Chile",
          "New Zealand",
          "Israel",
          "Singapore",
          "Hungary",
          "Ireland",
          "Slovak Republic",
          "Croatia",
          "Lithuania",
          "Slovenia",
          "United Arab Emirates",
          "Cyprus",
          "Qatar",
          "Estonia",
          "Oman",
          "Kuwait",
          "Iceland",
          "Luxembourg",
          "Latvia",
          "Uruguay",
          "Brunei Darussalam",
          "Trinidad and Tobago",
          "Malta",
          "Bahrain",
          "New Caledonia",
          "Panama",
          "Monaco",
          "French Polynesia",
          "Barbados",
          "Greenland",
          "Guyana",
          "Bahamas, The",
          "Seychelles",
          "Bermuda",
          "Faroe Islands",
          "St. Kitts and Nevis",
          "Liechtenstein",
          "San Marino",
          "Turks and Caicos Islands",
          "Curacao",
          "Andorra"
         ],
         "xaxis": "x",
         "y": [
          127527,
          31149,
          30720,
          29463,
          28023,
          26800,
          25711,
          23459,
          20894,
          20074,
          16458,
          11042,
          10510,
          9483,
          7722,
          6959,
          6261,
          5837,
          5778,
          5656,
          5145,
          4768,
          4597,
          4205,
          3708,
          3338,
          2971,
          2898,
          2818,
          2392,
          2027,
          1504,
          1502,
          1437,
          1049,
          886,
          793,
          779,
          529,
          480,
          408,
          324,
          295,
          286,
          123,
          107,
          102,
          90,
          72,
          67,
          60,
          38,
          30,
          28,
          15,
          14,
          12,
          9,
          8,
          2,
          2,
          2,
          1,
          1,
          1
         ],
         "yaxis": "y"
        },
        {
         "alignmentgroup": "True",
         "cliponaxis": false,
         "hovertemplate": "Income group=Upper middle income<br>Country Name=%{x}<br>Log of Articles Count=%{y}<extra></extra>",
         "legendgroup": "Upper middle income",
         "marker": {
          "color": "green",
          "pattern": {
           "shape": ""
          }
         },
         "name": "Upper middle income",
         "offsetgroup": "Upper middle income",
         "orientation": "v",
         "showlegend": true,
         "textposition": "auto",
         "texttemplate": "%{y}",
         "type": "bar",
         "x": [
          "China",
          "Brazil",
          "Indonesia",
          "Russian Federation",
          "Malaysia",
          "Turkiye",
          "South Africa",
          "Mexico",
          "Thailand",
          "Argentina",
          "Colombia",
          "Serbia",
          "Iraq",
          "Peru",
          "Kazakhstan",
          "Ecuador",
          "Bulgaria",
          "West Bank and Gaza",
          "Costa Rica",
          "Georgia",
          "Belarus",
          "Cuba",
          "Bosnia and Herzegovina",
          "North Macedonia",
          "Botswana",
          "Azerbaijan",
          "Armenia",
          "Mauritius",
          "Montenegro",
          "Albania",
          "Fiji",
          "Kosovo",
          "Namibia",
          "Moldova",
          "Jamaica",
          "Libya",
          "Suriname",
          "Guatemala",
          "Paraguay",
          "Maldives",
          "Dominican Republic",
          "Grenada",
          "Turkmenistan",
          "Gabon",
          "Belize",
          "St. Lucia",
          "Palau",
          "El Salvador"
         ],
         "xaxis": "x",
         "y": [
          276703,
          24481,
          24295,
          24051,
          13170,
          11534,
          7292,
          7169,
          4638,
          3953,
          2496,
          2402,
          1988,
          1106,
          944,
          866,
          688,
          275,
          263,
          228,
          185,
          172,
          153,
          151,
          151,
          109,
          108,
          103,
          100,
          90,
          88,
          80,
          57,
          51,
          42,
          35,
          20,
          19,
          19,
          17,
          13,
          13,
          12,
          7,
          4,
          3,
          3,
          2
         ],
         "yaxis": "y"
        },
        {
         "alignmentgroup": "True",
         "cliponaxis": false,
         "hovertemplate": "Income group=Lower middle income<br>Country Name=%{x}<br>Log of Articles Count=%{y}<extra></extra>",
         "legendgroup": "Lower middle income",
         "marker": {
          "color": "yellow",
          "pattern": {
           "shape": ""
          }
         },
         "name": "Lower middle income",
         "offsetgroup": "Lower middle income",
         "orientation": "v",
         "showlegend": true,
         "textposition": "auto",
         "texttemplate": "%{y}",
         "type": "bar",
         "x": [
          "India",
          "Iran, Islamic Rep.",
          "Pakistan",
          "Egypt, Arab Rep.",
          "Nigeria",
          "Vietnam",
          "Tunisia",
          "Morocco",
          "Bangladesh",
          "Algeria",
          "Ukraine",
          "Uzbekistan",
          "Philippines",
          "Ghana",
          "Jordan",
          "Sri Lanka",
          "Kenya",
          "Lebanon",
          "Nepal",
          "Tanzania",
          "Cameroon",
          "Zimbabwe",
          "Benin",
          "Cote d'Ivoire",
          "Senegal",
          "Kyrgyz Republic",
          "Mongolia",
          "Zambia",
          "Tajikistan",
          "Cambodia",
          "Lao PDR",
          "Bolivia",
          "Myanmar",
          "Lesotho",
          "Bhutan",
          "Angola",
          "Papua New Guinea",
          "Honduras",
          "Nicaragua",
          "Congo, Rep.",
          "Djibouti",
          "Mauritania",
          "Eswatini",
          "Cabo Verde",
          "Haiti",
          "Vanuatu",
          "Guinea",
          "Timor-Leste",
          "Samoa"
         ],
         "xaxis": "x",
         "y": [
          39469,
          21386,
          7755,
          5270,
          3726,
          2785,
          2303,
          2150,
          2033,
          1801,
          1711,
          1631,
          1238,
          981,
          860,
          812,
          735,
          594,
          462,
          400,
          400,
          251,
          134,
          132,
          126,
          101,
          91,
          83,
          63,
          63,
          59,
          58,
          38,
          23,
          23,
          19,
          17,
          17,
          8,
          6,
          6,
          6,
          4,
          3,
          2,
          2,
          2,
          2,
          1
         ],
         "yaxis": "y"
        },
        {
         "alignmentgroup": "True",
         "cliponaxis": false,
         "hovertemplate": "Income group=Low income<br>Country Name=%{x}<br>Log of Articles Count=%{y}<extra></extra>",
         "legendgroup": "Low income",
         "marker": {
          "color": "#FFA15A",
          "pattern": {
           "shape": ""
          }
         },
         "name": "Low income",
         "offsetgroup": "Low income",
         "orientation": "v",
         "showlegend": true,
         "textposition": "auto",
         "texttemplate": "%{y}",
         "type": "bar",
         "x": [
          "Ethiopia",
          "Uganda",
          "Rwanda",
          "Syrian Arab Republic",
          "Burkina Faso",
          "Sudan",
          "Congo, Dem. Rep.",
          "Malawi",
          "Mozambique",
          "Yemen, Rep.",
          "Mali",
          "Togo",
          "Madagascar",
          "Afghanistan",
          "Burundi",
          "Somalia",
          "Niger",
          "Sierra Leone",
          "South Sudan",
          "Gambia, The",
          "Chad",
          "Central African Republic",
          "Liberia"
         ],
         "xaxis": "x",
         "y": [
          1943,
          328,
          158,
          113,
          109,
          104,
          88,
          86,
          60,
          55,
          51,
          45,
          36,
          24,
          22,
          17,
          17,
          16,
          10,
          8,
          2,
          2,
          2
         ],
         "yaxis": "y"
        }
       ],
       "layout": {
        "barmode": "relative",
        "height": 800,
        "legend": {
         "title": {
          "text": "Income group"
         },
         "tracegroupgap": 0
        },
        "template": {
         "data": {
          "bar": [
           {
            "error_x": {
             "color": "#2a3f5f"
            },
            "error_y": {
             "color": "#2a3f5f"
            },
            "marker": {
             "line": {
              "color": "#E5ECF6",
              "width": 0.5
             },
             "pattern": {
              "fillmode": "overlay",
              "size": 10,
              "solidity": 0.2
             }
            },
            "type": "bar"
           }
          ],
          "barpolar": [
           {
            "marker": {
             "line": {
              "color": "#E5ECF6",
              "width": 0.5
             },
             "pattern": {
              "fillmode": "overlay",
              "size": 10,
              "solidity": 0.2
             }
            },
            "type": "barpolar"
           }
          ],
          "carpet": [
           {
            "aaxis": {
             "endlinecolor": "#2a3f5f",
             "gridcolor": "white",
             "linecolor": "white",
             "minorgridcolor": "white",
             "startlinecolor": "#2a3f5f"
            },
            "baxis": {
             "endlinecolor": "#2a3f5f",
             "gridcolor": "white",
             "linecolor": "white",
             "minorgridcolor": "white",
             "startlinecolor": "#2a3f5f"
            },
            "type": "carpet"
           }
          ],
          "choropleth": [
           {
            "colorbar": {
             "outlinewidth": 0,
             "ticks": ""
            },
            "type": "choropleth"
           }
          ],
          "contour": [
           {
            "colorbar": {
             "outlinewidth": 0,
             "ticks": ""
            },
            "colorscale": [
             [
              0,
              "#0d0887"
             ],
             [
              0.1111111111111111,
              "#46039f"
             ],
             [
              0.2222222222222222,
              "#7201a8"
             ],
             [
              0.3333333333333333,
              "#9c179e"
             ],
             [
              0.4444444444444444,
              "#bd3786"
             ],
             [
              0.5555555555555556,
              "#d8576b"
             ],
             [
              0.6666666666666666,
              "#ed7953"
             ],
             [
              0.7777777777777778,
              "#fb9f3a"
             ],
             [
              0.8888888888888888,
              "#fdca26"
             ],
             [
              1,
              "#f0f921"
             ]
            ],
            "type": "contour"
           }
          ],
          "contourcarpet": [
           {
            "colorbar": {
             "outlinewidth": 0,
             "ticks": ""
            },
            "type": "contourcarpet"
           }
          ],
          "heatmap": [
           {
            "colorbar": {
             "outlinewidth": 0,
             "ticks": ""
            },
            "colorscale": [
             [
              0,
              "#0d0887"
             ],
             [
              0.1111111111111111,
              "#46039f"
             ],
             [
              0.2222222222222222,
              "#7201a8"
             ],
             [
              0.3333333333333333,
              "#9c179e"
             ],
             [
              0.4444444444444444,
              "#bd3786"
             ],
             [
              0.5555555555555556,
              "#d8576b"
             ],
             [
              0.6666666666666666,
              "#ed7953"
             ],
             [
              0.7777777777777778,
              "#fb9f3a"
             ],
             [
              0.8888888888888888,
              "#fdca26"
             ],
             [
              1,
              "#f0f921"
             ]
            ],
            "type": "heatmap"
           }
          ],
          "heatmapgl": [
           {
            "colorbar": {
             "outlinewidth": 0,
             "ticks": ""
            },
            "colorscale": [
             [
              0,
              "#0d0887"
             ],
             [
              0.1111111111111111,
              "#46039f"
             ],
             [
              0.2222222222222222,
              "#7201a8"
             ],
             [
              0.3333333333333333,
              "#9c179e"
             ],
             [
              0.4444444444444444,
              "#bd3786"
             ],
             [
              0.5555555555555556,
              "#d8576b"
             ],
             [
              0.6666666666666666,
              "#ed7953"
             ],
             [
              0.7777777777777778,
              "#fb9f3a"
             ],
             [
              0.8888888888888888,
              "#fdca26"
             ],
             [
              1,
              "#f0f921"
             ]
            ],
            "type": "heatmapgl"
           }
          ],
          "histogram": [
           {
            "marker": {
             "pattern": {
              "fillmode": "overlay",
              "size": 10,
              "solidity": 0.2
             }
            },
            "type": "histogram"
           }
          ],
          "histogram2d": [
           {
            "colorbar": {
             "outlinewidth": 0,
             "ticks": ""
            },
            "colorscale": [
             [
              0,
              "#0d0887"
             ],
             [
              0.1111111111111111,
              "#46039f"
             ],
             [
              0.2222222222222222,
              "#7201a8"
             ],
             [
              0.3333333333333333,
              "#9c179e"
             ],
             [
              0.4444444444444444,
              "#bd3786"
             ],
             [
              0.5555555555555556,
              "#d8576b"
             ],
             [
              0.6666666666666666,
              "#ed7953"
             ],
             [
              0.7777777777777778,
              "#fb9f3a"
             ],
             [
              0.8888888888888888,
              "#fdca26"
             ],
             [
              1,
              "#f0f921"
             ]
            ],
            "type": "histogram2d"
           }
          ],
          "histogram2dcontour": [
           {
            "colorbar": {
             "outlinewidth": 0,
             "ticks": ""
            },
            "colorscale": [
             [
              0,
              "#0d0887"
             ],
             [
              0.1111111111111111,
              "#46039f"
             ],
             [
              0.2222222222222222,
              "#7201a8"
             ],
             [
              0.3333333333333333,
              "#9c179e"
             ],
             [
              0.4444444444444444,
              "#bd3786"
             ],
             [
              0.5555555555555556,
              "#d8576b"
             ],
             [
              0.6666666666666666,
              "#ed7953"
             ],
             [
              0.7777777777777778,
              "#fb9f3a"
             ],
             [
              0.8888888888888888,
              "#fdca26"
             ],
             [
              1,
              "#f0f921"
             ]
            ],
            "type": "histogram2dcontour"
           }
          ],
          "mesh3d": [
           {
            "colorbar": {
             "outlinewidth": 0,
             "ticks": ""
            },
            "type": "mesh3d"
           }
          ],
          "parcoords": [
           {
            "line": {
             "colorbar": {
              "outlinewidth": 0,
              "ticks": ""
             }
            },
            "type": "parcoords"
           }
          ],
          "pie": [
           {
            "automargin": true,
            "type": "pie"
           }
          ],
          "scatter": [
           {
            "fillpattern": {
             "fillmode": "overlay",
             "size": 10,
             "solidity": 0.2
            },
            "type": "scatter"
           }
          ],
          "scatter3d": [
           {
            "line": {
             "colorbar": {
              "outlinewidth": 0,
              "ticks": ""
             }
            },
            "marker": {
             "colorbar": {
              "outlinewidth": 0,
              "ticks": ""
             }
            },
            "type": "scatter3d"
           }
          ],
          "scattercarpet": [
           {
            "marker": {
             "colorbar": {
              "outlinewidth": 0,
              "ticks": ""
             }
            },
            "type": "scattercarpet"
           }
          ],
          "scattergeo": [
           {
            "marker": {
             "colorbar": {
              "outlinewidth": 0,
              "ticks": ""
             }
            },
            "type": "scattergeo"
           }
          ],
          "scattergl": [
           {
            "marker": {
             "colorbar": {
              "outlinewidth": 0,
              "ticks": ""
             }
            },
            "type": "scattergl"
           }
          ],
          "scattermapbox": [
           {
            "marker": {
             "colorbar": {
              "outlinewidth": 0,
              "ticks": ""
             }
            },
            "type": "scattermapbox"
           }
          ],
          "scatterpolar": [
           {
            "marker": {
             "colorbar": {
              "outlinewidth": 0,
              "ticks": ""
             }
            },
            "type": "scatterpolar"
           }
          ],
          "scatterpolargl": [
           {
            "marker": {
             "colorbar": {
              "outlinewidth": 0,
              "ticks": ""
             }
            },
            "type": "scatterpolargl"
           }
          ],
          "scatterternary": [
           {
            "marker": {
             "colorbar": {
              "outlinewidth": 0,
              "ticks": ""
             }
            },
            "type": "scatterternary"
           }
          ],
          "surface": [
           {
            "colorbar": {
             "outlinewidth": 0,
             "ticks": ""
            },
            "colorscale": [
             [
              0,
              "#0d0887"
             ],
             [
              0.1111111111111111,
              "#46039f"
             ],
             [
              0.2222222222222222,
              "#7201a8"
             ],
             [
              0.3333333333333333,
              "#9c179e"
             ],
             [
              0.4444444444444444,
              "#bd3786"
             ],
             [
              0.5555555555555556,
              "#d8576b"
             ],
             [
              0.6666666666666666,
              "#ed7953"
             ],
             [
              0.7777777777777778,
              "#fb9f3a"
             ],
             [
              0.8888888888888888,
              "#fdca26"
             ],
             [
              1,
              "#f0f921"
             ]
            ],
            "type": "surface"
           }
          ],
          "table": [
           {
            "cells": {
             "fill": {
              "color": "#EBF0F8"
             },
             "line": {
              "color": "white"
             }
            },
            "header": {
             "fill": {
              "color": "#C8D4E3"
             },
             "line": {
              "color": "white"
             }
            },
            "type": "table"
           }
          ]
         },
         "layout": {
          "annotationdefaults": {
           "arrowcolor": "#2a3f5f",
           "arrowhead": 0,
           "arrowwidth": 1
          },
          "autotypenumbers": "strict",
          "coloraxis": {
           "colorbar": {
            "outlinewidth": 0,
            "ticks": ""
           }
          },
          "colorscale": {
           "diverging": [
            [
             0,
             "#8e0152"
            ],
            [
             0.1,
             "#c51b7d"
            ],
            [
             0.2,
             "#de77ae"
            ],
            [
             0.3,
             "#f1b6da"
            ],
            [
             0.4,
             "#fde0ef"
            ],
            [
             0.5,
             "#f7f7f7"
            ],
            [
             0.6,
             "#e6f5d0"
            ],
            [
             0.7,
             "#b8e186"
            ],
            [
             0.8,
             "#7fbc41"
            ],
            [
             0.9,
             "#4d9221"
            ],
            [
             1,
             "#276419"
            ]
           ],
           "sequential": [
            [
             0,
             "#0d0887"
            ],
            [
             0.1111111111111111,
             "#46039f"
            ],
            [
             0.2222222222222222,
             "#7201a8"
            ],
            [
             0.3333333333333333,
             "#9c179e"
            ],
            [
             0.4444444444444444,
             "#bd3786"
            ],
            [
             0.5555555555555556,
             "#d8576b"
            ],
            [
             0.6666666666666666,
             "#ed7953"
            ],
            [
             0.7777777777777778,
             "#fb9f3a"
            ],
            [
             0.8888888888888888,
             "#fdca26"
            ],
            [
             1,
             "#f0f921"
            ]
           ],
           "sequentialminus": [
            [
             0,
             "#0d0887"
            ],
            [
             0.1111111111111111,
             "#46039f"
            ],
            [
             0.2222222222222222,
             "#7201a8"
            ],
            [
             0.3333333333333333,
             "#9c179e"
            ],
            [
             0.4444444444444444,
             "#bd3786"
            ],
            [
             0.5555555555555556,
             "#d8576b"
            ],
            [
             0.6666666666666666,
             "#ed7953"
            ],
            [
             0.7777777777777778,
             "#fb9f3a"
            ],
            [
             0.8888888888888888,
             "#fdca26"
            ],
            [
             1,
             "#f0f921"
            ]
           ]
          },
          "colorway": [
           "#636efa",
           "#EF553B",
           "#00cc96",
           "#ab63fa",
           "#FFA15A",
           "#19d3f3",
           "#FF6692",
           "#B6E880",
           "#FF97FF",
           "#FECB52"
          ],
          "font": {
           "color": "#2a3f5f"
          },
          "geo": {
           "bgcolor": "white",
           "lakecolor": "white",
           "landcolor": "#E5ECF6",
           "showlakes": true,
           "showland": true,
           "subunitcolor": "white"
          },
          "hoverlabel": {
           "align": "left"
          },
          "hovermode": "closest",
          "mapbox": {
           "style": "light"
          },
          "paper_bgcolor": "white",
          "plot_bgcolor": "#E5ECF6",
          "polar": {
           "angularaxis": {
            "gridcolor": "white",
            "linecolor": "white",
            "ticks": ""
           },
           "bgcolor": "#E5ECF6",
           "radialaxis": {
            "gridcolor": "white",
            "linecolor": "white",
            "ticks": ""
           }
          },
          "scene": {
           "xaxis": {
            "backgroundcolor": "#E5ECF6",
            "gridcolor": "white",
            "gridwidth": 2,
            "linecolor": "white",
            "showbackground": true,
            "ticks": "",
            "zerolinecolor": "white"
           },
           "yaxis": {
            "backgroundcolor": "#E5ECF6",
            "gridcolor": "white",
            "gridwidth": 2,
            "linecolor": "white",
            "showbackground": true,
            "ticks": "",
            "zerolinecolor": "white"
           },
           "zaxis": {
            "backgroundcolor": "#E5ECF6",
            "gridcolor": "white",
            "gridwidth": 2,
            "linecolor": "white",
            "showbackground": true,
            "ticks": "",
            "zerolinecolor": "white"
           }
          },
          "shapedefaults": {
           "line": {
            "color": "#2a3f5f"
           }
          },
          "ternary": {
           "aaxis": {
            "gridcolor": "white",
            "linecolor": "white",
            "ticks": ""
           },
           "baxis": {
            "gridcolor": "white",
            "linecolor": "white",
            "ticks": ""
           },
           "bgcolor": "#E5ECF6",
           "caxis": {
            "gridcolor": "white",
            "linecolor": "white",
            "ticks": ""
           }
          },
          "title": {
           "x": 0.05
          },
          "xaxis": {
           "automargin": true,
           "gridcolor": "white",
           "linecolor": "white",
           "ticks": "",
           "title": {
            "standoff": 15
           },
           "zerolinecolor": "white",
           "zerolinewidth": 2
          },
          "yaxis": {
           "automargin": true,
           "gridcolor": "white",
           "linecolor": "white",
           "ticks": "",
           "title": {
            "standoff": 15
           },
           "zerolinecolor": "white",
           "zerolinewidth": 2
          }
         }
        },
        "title": {
         "text": "First Author Country with Corresponding Income level"
        },
        "width": 1500,
        "xaxis": {
         "anchor": "y",
         "autorange": true,
         "categoryorder": "total descending",
         "domain": [
          0,
          1
         ],
         "range": [
          -0.5,
          184.5
         ],
         "tickfont": {
          "size": 5
         },
         "title": {
          "text": "Country Name"
         },
         "type": "category"
        },
        "yaxis": {
         "anchor": "x",
         "autorange": true,
         "domain": [
          0,
          1
         ],
         "range": [
          -0.3023341037647441,
          5.7443479715301375
         ],
         "title": {
          "text": "Log of Articles Count"
         },
         "type": "log"
        }
       }
      },
      "image/png": "[encoded data removed]",
      "text/html": [
       "<div>                            <div id=\"5917b1a3-facf-4628-99cf-f1fac84e3d74\" class=\"plotly-graph-div\" style=\"height:800px; width:1500px;\"></div>            <script type=\"text/javascript\">                require([\"plotly\"], function(Plotly) {                    window.PLOTLYENV=window.PLOTLYENV || {};                                    if (document.getElementById(\"5917b1a3-facf-4628-99cf-f1fac84e3d74\")) {                    Plotly.newPlot(                        \"5917b1a3-facf-4628-99cf-f1fac84e3d74\",                        [{\"alignmentgroup\":\"True\",\"hovertemplate\":\"Income group=High income<br>Country Name=%{x}<br>Log of Articles Count=%{y}<extra></extra>\",\"legendgroup\":\"High income\",\"marker\":{\"color\":\"blue\",\"pattern\":{\"shape\":\"\"}},\"name\":\"High income\",\"offsetgroup\":\"High income\",\"orientation\":\"v\",\"showlegend\":true,\"textposition\":\"auto\",\"texttemplate\":\"%{y}\",\"x\":[\"United States\",\"Spain\",\"United Kingdom\",\"Italy\",\"Germany\",\"Canada\",\"Australia\",\"Korea, Rep.\",\"Poland\",\"Japan\",\"France\",\"Netherlands\",\"Sweden\",\"Portugal\",\"Switzerland\",\"Greece\",\"Belgium\",\"Finland\",\"Denmark\",\"Norway\",\"Czechia\",\"Austria\",\"Saudi Arabia\",\"Romania\",\"Chile\",\"New Zealand\",\"Israel\",\"Singapore\",\"Hungary\",\"Ireland\",\"Slovak Republic\",\"Croatia\",\"Lithuania\",\"Slovenia\",\"United Arab Emirates\",\"Cyprus\",\"Qatar\",\"Estonia\",\"Oman\",\"Kuwait\",\"Iceland\",\"Luxembourg\",\"Latvia\",\"Uruguay\",\"Brunei Darussalam\",\"Trinidad and Tobago\",\"Malta\",\"Bahrain\",\"New Caledonia\",\"Panama\",\"Monaco\",\"French Polynesia\",\"Barbados\",\"Greenland\",\"Guyana\",\"Bahamas, The\",\"Seychelles\",\"Bermuda\",\"Faroe Islands\",\"St. Kitts and Nevis\",\"Liechtenstein\",\"San Marino\",\"Turks and Caicos Islands\",\"Curacao\",\"Andorra\"],\"xaxis\":\"x\",\"y\":[127527,31149,30720,29463,28023,26800,25711,23459,20894,20074,16458,11042,10510,9483,7722,6959,6261,5837,5778,5656,5145,4768,4597,4205,3708,3338,2971,2898,2818,2392,2027,1504,1502,1437,1049,886,793,779,529,480,408,324,295,286,123,107,102,90,72,67,60,38,30,28,15,14,12,9,8,2,2,2,1,1,1],\"yaxis\":\"y\",\"type\":\"bar\",\"cliponaxis\":false},{\"alignmentgroup\":\"True\",\"hovertemplate\":\"Income group=Upper middle income<br>Country Name=%{x}<br>Log of Articles Count=%{y}<extra></extra>\",\"legendgroup\":\"Upper middle income\",\"marker\":{\"color\":\"green\",\"pattern\":{\"shape\":\"\"}},\"name\":\"Upper middle income\",\"offsetgroup\":\"Upper middle income\",\"orientation\":\"v\",\"showlegend\":true,\"textposition\":\"auto\",\"texttemplate\":\"%{y}\",\"x\":[\"China\",\"Brazil\",\"Indonesia\",\"Russian Federation\",\"Malaysia\",\"Turkiye\",\"South Africa\",\"Mexico\",\"Thailand\",\"Argentina\",\"Colombia\",\"Serbia\",\"Iraq\",\"Peru\",\"Kazakhstan\",\"Ecuador\",\"Bulgaria\",\"West Bank and Gaza\",\"Costa Rica\",\"Georgia\",\"Belarus\",\"Cuba\",\"Bosnia and Herzegovina\",\"North Macedonia\",\"Botswana\",\"Azerbaijan\",\"Armenia\",\"Mauritius\",\"Montenegro\",\"Albania\",\"Fiji\",\"Kosovo\",\"Namibia\",\"Moldova\",\"Jamaica\",\"Libya\",\"Suriname\",\"Guatemala\",\"Paraguay\",\"Maldives\",\"Dominican Republic\",\"Grenada\",\"Turkmenistan\",\"Gabon\",\"Belize\",\"St. Lucia\",\"Palau\",\"El Salvador\"],\"xaxis\":\"x\",\"y\":[276703,24481,24295,24051,13170,11534,7292,7169,4638,3953,2496,2402,1988,1106,944,866,688,275,263,228,185,172,153,151,151,109,108,103,100,90,88,80,57,51,42,35,20,19,19,17,13,13,12,7,4,3,3,2],\"yaxis\":\"y\",\"type\":\"bar\",\"cliponaxis\":false},{\"alignmentgroup\":\"True\",\"hovertemplate\":\"Income group=Lower middle income<br>Country Name=%{x}<br>Log of Articles Count=%{y}<extra></extra>\",\"legendgroup\":\"Lower middle income\",\"marker\":{\"color\":\"yellow\",\"pattern\":{\"shape\":\"\"}},\"name\":\"Lower middle income\",\"offsetgroup\":\"Lower middle income\",\"orientation\":\"v\",\"showlegend\":true,\"textposition\":\"auto\",\"texttemplate\":\"%{y}\",\"x\":[\"India\",\"Iran, Islamic Rep.\",\"Pakistan\",\"Egypt, Arab Rep.\",\"Nigeria\",\"Vietnam\",\"Tunisia\",\"Morocco\",\"Bangladesh\",\"Algeria\",\"Ukraine\",\"Uzbekistan\",\"Philippines\",\"Ghana\",\"Jordan\",\"Sri Lanka\",\"Kenya\",\"Lebanon\",\"Nepal\",\"Tanzania\",\"Cameroon\",\"Zimbabwe\",\"Benin\",\"Cote d'Ivoire\",\"Senegal\",\"Kyrgyz Republic\",\"Mongolia\",\"Zambia\",\"Tajikistan\",\"Cambodia\",\"Lao PDR\",\"Bolivia\",\"Myanmar\",\"Lesotho\",\"Bhutan\",\"Angola\",\"Papua New Guinea\",\"Honduras\",\"Nicaragua\",\"Congo, Rep.\",\"Djibouti\",\"Mauritania\",\"Eswatini\",\"Cabo Verde\",\"Haiti\",\"Vanuatu\",\"Guinea\",\"Timor-Leste\",\"Samoa\"],\"xaxis\":\"x\",\"y\":[39469,21386,7755,5270,3726,2785,2303,2150,2033,1801,1711,1631,1238,981,860,812,735,594,462,400,400,251,134,132,126,101,91,83,63,63,59,58,38,23,23,19,17,17,8,6,6,6,4,3,2,2,2,2,1],\"yaxis\":\"y\",\"type\":\"bar\",\"cliponaxis\":false},{\"alignmentgroup\":\"True\",\"hovertemplate\":\"Income group=Low income<br>Country Name=%{x}<br>Log of Articles Count=%{y}<extra></extra>\",\"legendgroup\":\"Low income\",\"marker\":{\"color\":\"#FFA15A\",\"pattern\":{\"shape\":\"\"}},\"name\":\"Low income\",\"offsetgroup\":\"Low income\",\"orientation\":\"v\",\"showlegend\":true,\"textposition\":\"auto\",\"texttemplate\":\"%{y}\",\"x\":[\"Ethiopia\",\"Uganda\",\"Rwanda\",\"Syrian Arab Republic\",\"Burkina Faso\",\"Sudan\",\"Congo, Dem. Rep.\",\"Malawi\",\"Mozambique\",\"Yemen, Rep.\",\"Mali\",\"Togo\",\"Madagascar\",\"Afghanistan\",\"Burundi\",\"Somalia\",\"Niger\",\"Sierra Leone\",\"South Sudan\",\"Gambia, The\",\"Chad\",\"Central African Republic\",\"Liberia\"],\"xaxis\":\"x\",\"y\":[1943,328,158,113,109,104,88,86,60,55,51,45,36,24,22,17,17,16,10,8,2,2,2],\"yaxis\":\"y\",\"type\":\"bar\",\"cliponaxis\":false}],                        {\"template\":{\"data\":{\"histogram2dcontour\":[{\"type\":\"histogram2dcontour\",\"colorbar\":{\"outlinewidth\":0,\"ticks\":\"\"},\"colorscale\":[[0.0,\"#0d0887\"],[0.1111111111111111,\"#46039f\"],[0.2222222222222222,\"#7201a8\"],[0.3333333333333333,\"#9c179e\"],[0.4444444444444444,\"#bd3786\"],[0.5555555555555556,\"#d8576b\"],[0.6666666666666666,\"#ed7953\"],[0.7777777777777778,\"#fb9f3a\"],[0.8888888888888888,\"#fdca26\"],[1.0,\"#f0f921\"]]}],\"choropleth\":[{\"type\":\"choropleth\",\"colorbar\":{\"outlinewidth\":0,\"ticks\":\"\"}}],\"histogram2d\":[{\"type\":\"histogram2d\",\"colorbar\":{\"outlinewidth\":0,\"ticks\":\"\"},\"colorscale\":[[0.0,\"#0d0887\"],[0.1111111111111111,\"#46039f\"],[0.2222222222222222,\"#7201a8\"],[0.3333333333333333,\"#9c179e\"],[0.4444444444444444,\"#bd3786\"],[0.5555555555555556,\"#d8576b\"],[0.6666666666666666,\"#ed7953\"],[0.7777777777777778,\"#fb9f3a\"],[0.8888888888888888,\"#fdca26\"],[1.0,\"#f0f921\"]]}],\"heatmap\":[{\"type\":\"heatmap\",\"colorbar\":{\"outlinewidth\":0,\"ticks\":\"\"},\"colorscale\":[[0.0,\"#0d0887\"],[0.1111111111111111,\"#46039f\"],[0.2222222222222222,\"#7201a8\"],[0.3333333333333333,\"#9c179e\"],[0.4444444444444444,\"#bd3786\"],[0.5555555555555556,\"#d8576b\"],[0.6666666666666666,\"#ed7953\"],[0.7777777777777778,\"#fb9f3a\"],[0.8888888888888888,\"#fdca26\"],[1.0,\"#f0f921\"]]}],\"heatmapgl\":[{\"type\":\"heatmapgl\",\"colorbar\":{\"outlinewidth\":0,\"ticks\":\"\"},\"colorscale\":[[0.0,\"#0d0887\"],[0.1111111111111111,\"#46039f\"],[0.2222222222222222,\"#7201a8\"],[0.3333333333333333,\"#9c179e\"],[0.4444444444444444,\"#bd3786\"],[0.5555555555555556,\"#d8576b\"],[0.6666666666666666,\"#ed7953\"],[0.7777777777777778,\"#fb9f3a\"],[0.8888888888888888,\"#fdca26\"],[1.0,\"#f0f921\"]]}],\"contourcarpet\":[{\"type\":\"contourcarpet\",\"colorbar\":{\"outlinewidth\":0,\"ticks\":\"\"}}],\"contour\":[{\"type\":\"contour\",\"colorbar\":{\"outlinewidth\":0,\"ticks\":\"\"},\"colorscale\":[[0.0,\"#0d0887\"],[0.1111111111111111,\"#46039f\"],[0.2222222222222222,\"#7201a8\"],[0.3333333333333333,\"#9c179e\"],[0.4444444444444444,\"#bd3786\"],[0.5555555555555556,\"#d8576b\"],[0.6666666666666666,\"#ed7953\"],[0.7777777777777778,\"#fb9f3a\"],[0.8888888888888888,\"#fdca26\"],[1.0,\"#f0f921\"]]}],\"surface\":[{\"type\":\"surface\",\"colorbar\":{\"outlinewidth\":0,\"ticks\":\"\"},\"colorscale\":[[0.0,\"#0d0887\"],[0.1111111111111111,\"#46039f\"],[0.2222222222222222,\"#7201a8\"],[0.3333333333333333,\"#9c179e\"],[0.4444444444444444,\"#bd3786\"],[0.5555555555555556,\"#d8576b\"],[0.6666666666666666,\"#ed7953\"],[0.7777777777777778,\"#fb9f3a\"],[0.8888888888888888,\"#fdca26\"],[1.0,\"#f0f921\"]]}],\"mesh3d\":[{\"type\":\"mesh3d\",\"colorbar\":{\"outlinewidth\":0,\"ticks\":\"\"}}],\"scatter\":[{\"fillpattern\":{\"fillmode\":\"overlay\",\"size\":10,\"solidity\":0.2},\"type\":\"scatter\"}],\"parcoords\":[{\"type\":\"parcoords\",\"line\":{\"colorbar\":{\"outlinewidth\":0,\"ticks\":\"\"}}}],\"scatterpolargl\":[{\"type\":\"scatterpolargl\",\"marker\":{\"colorbar\":{\"outlinewidth\":0,\"ticks\":\"\"}}}],\"bar\":[{\"error_x\":{\"color\":\"#2a3f5f\"},\"error_y\":{\"color\":\"#2a3f5f\"},\"marker\":{\"line\":{\"color\":\"#E5ECF6\",\"width\":0.5},\"pattern\":{\"fillmode\":\"overlay\",\"size\":10,\"solidity\":0.2}},\"type\":\"bar\"}],\"scattergeo\":[{\"type\":\"scattergeo\",\"marker\":{\"colorbar\":{\"outlinewidth\":0,\"ticks\":\"\"}}}],\"scatterpolar\":[{\"type\":\"scatterpolar\",\"marker\":{\"colorbar\":{\"outlinewidth\":0,\"ticks\":\"\"}}}],\"histogram\":[{\"marker\":{\"pattern\":{\"fillmode\":\"overlay\",\"size\":10,\"solidity\":0.2}},\"type\":\"histogram\"}],\"scattergl\":[{\"type\":\"scattergl\",\"marker\":{\"colorbar\":{\"outlinewidth\":0,\"ticks\":\"\"}}}],\"scatter3d\":[{\"type\":\"scatter3d\",\"line\":{\"colorbar\":{\"outlinewidth\":0,\"ticks\":\"\"}},\"marker\":{\"colorbar\":{\"outlinewidth\":0,\"ticks\":\"\"}}}],\"scattermapbox\":[{\"type\":\"scattermapbox\",\"marker\":{\"colorbar\":{\"outlinewidth\":0,\"ticks\":\"\"}}}],\"scatterternary\":[{\"type\":\"scatterternary\",\"marker\":{\"colorbar\":{\"outlinewidth\":0,\"ticks\":\"\"}}}],\"scattercarpet\":[{\"type\":\"scattercarpet\",\"marker\":{\"colorbar\":{\"outlinewidth\":0,\"ticks\":\"\"}}}],\"carpet\":[{\"aaxis\":{\"endlinecolor\":\"#2a3f5f\",\"gridcolor\":\"white\",\"linecolor\":\"white\",\"minorgridcolor\":\"white\",\"startlinecolor\":\"#2a3f5f\"},\"baxis\":{\"endlinecolor\":\"#2a3f5f\",\"gridcolor\":\"white\",\"linecolor\":\"white\",\"minorgridcolor\":\"white\",\"startlinecolor\":\"#2a3f5f\"},\"type\":\"carpet\"}],\"table\":[{\"cells\":{\"fill\":{\"color\":\"#EBF0F8\"},\"line\":{\"color\":\"white\"}},\"header\":{\"fill\":{\"color\":\"#C8D4E3\"},\"line\":{\"color\":\"white\"}},\"type\":\"table\"}],\"barpolar\":[{\"marker\":{\"line\":{\"color\":\"#E5ECF6\",\"width\":0.5},\"pattern\":{\"fillmode\":\"overlay\",\"size\":10,\"solidity\":0.2}},\"type\":\"barpolar\"}],\"pie\":[{\"automargin\":true,\"type\":\"pie\"}]},\"layout\":{\"autotypenumbers\":\"strict\",\"colorway\":[\"#636efa\",\"#EF553B\",\"#00cc96\",\"#ab63fa\",\"#FFA15A\",\"#19d3f3\",\"#FF6692\",\"#B6E880\",\"#FF97FF\",\"#FECB52\"],\"font\":{\"color\":\"#2a3f5f\"},\"hovermode\":\"closest\",\"hoverlabel\":{\"align\":\"left\"},\"paper_bgcolor\":\"white\",\"plot_bgcolor\":\"#E5ECF6\",\"polar\":{\"bgcolor\":\"#E5ECF6\",\"angularaxis\":{\"gridcolor\":\"white\",\"linecolor\":\"white\",\"ticks\":\"\"},\"radialaxis\":{\"gridcolor\":\"white\",\"linecolor\":\"white\",\"ticks\":\"\"}},\"ternary\":{\"bgcolor\":\"#E5ECF6\",\"aaxis\":{\"gridcolor\":\"white\",\"linecolor\":\"white\",\"ticks\":\"\"},\"baxis\":{\"gridcolor\":\"white\",\"linecolor\":\"white\",\"ticks\":\"\"},\"caxis\":{\"gridcolor\":\"white\",\"linecolor\":\"white\",\"ticks\":\"\"}},\"coloraxis\":{\"colorbar\":{\"outlinewidth\":0,\"ticks\":\"\"}},\"colorscale\":{\"sequential\":[[0.0,\"#0d0887\"],[0.1111111111111111,\"#46039f\"],[0.2222222222222222,\"#7201a8\"],[0.3333333333333333,\"#9c179e\"],[0.4444444444444444,\"#bd3786\"],[0.5555555555555556,\"#d8576b\"],[0.6666666666666666,\"#ed7953\"],[0.7777777777777778,\"#fb9f3a\"],[0.8888888888888888,\"#fdca26\"],[1.0,\"#f0f921\"]],\"sequentialminus\":[[0.0,\"#0d0887\"],[0.1111111111111111,\"#46039f\"],[0.2222222222222222,\"#7201a8\"],[0.3333333333333333,\"#9c179e\"],[0.4444444444444444,\"#bd3786\"],[0.5555555555555556,\"#d8576b\"],[0.6666666666666666,\"#ed7953\"],[0.7777777777777778,\"#fb9f3a\"],[0.8888888888888888,\"#fdca26\"],[1.0,\"#f0f921\"]],\"diverging\":[[0,\"#8e0152\"],[0.1,\"#c51b7d\"],[0.2,\"#de77ae\"],[0.3,\"#f1b6da\"],[0.4,\"#fde0ef\"],[0.5,\"#f7f7f7\"],[0.6,\"#e6f5d0\"],[0.7,\"#b8e186\"],[0.8,\"#7fbc41\"],[0.9,\"#4d9221\"],[1,\"#276419\"]]},\"xaxis\":{\"gridcolor\":\"white\",\"linecolor\":\"white\",\"ticks\":\"\",\"title\":{\"standoff\":15},\"zerolinecolor\":\"white\",\"automargin\":true,\"zerolinewidth\":2},\"yaxis\":{\"gridcolor\":\"white\",\"linecolor\":\"white\",\"ticks\":\"\",\"title\":{\"standoff\":15},\"zerolinecolor\":\"white\",\"automargin\":true,\"zerolinewidth\":2},\"scene\":{\"xaxis\":{\"backgroundcolor\":\"#E5ECF6\",\"gridcolor\":\"white\",\"linecolor\":\"white\",\"showbackground\":true,\"ticks\":\"\",\"zerolinecolor\":\"white\",\"gridwidth\":2},\"yaxis\":{\"backgroundcolor\":\"#E5ECF6\",\"gridcolor\":\"white\",\"linecolor\":\"white\",\"showbackground\":true,\"ticks\":\"\",\"zerolinecolor\":\"white\",\"gridwidth\":2},\"zaxis\":{\"backgroundcolor\":\"#E5ECF6\",\"gridcolor\":\"white\",\"linecolor\":\"white\",\"showbackground\":true,\"ticks\":\"\",\"zerolinecolor\":\"white\",\"gridwidth\":2}},\"shapedefaults\":{\"line\":{\"color\":\"#2a3f5f\"}},\"annotationdefaults\":{\"arrowcolor\":\"#2a3f5f\",\"arrowhead\":0,\"arrowwidth\":1},\"geo\":{\"bgcolor\":\"white\",\"landcolor\":\"#E5ECF6\",\"subunitcolor\":\"white\",\"showland\":true,\"showlakes\":true,\"lakecolor\":\"white\"},\"title\":{\"x\":0.05},\"mapbox\":{\"style\":\"light\"}}},\"xaxis\":{\"anchor\":\"y\",\"domain\":[0.0,1.0],\"title\":{\"text\":\"Country Name\"},\"categoryorder\":\"total descending\",\"tickfont\":{\"size\":5}},\"yaxis\":{\"anchor\":\"x\",\"domain\":[0.0,1.0],\"title\":{\"text\":\"Log of Articles Count\"},\"type\":\"log\"},\"legend\":{\"title\":{\"text\":\"Income group\"},\"tracegroupgap\":0},\"title\":{\"text\":\"First Author Country with Corresponding Income level\"},\"barmode\":\"relative\",\"height\":800,\"width\":1500},                        {\"responsive\": true}                    ).then(function(){\n",
       "                            \n",
       "var gd = document.getElementById('5917b1a3-facf-4628-99cf-f1fac84e3d74');\n",
       "var x = new MutationObserver(function (mutations, observer) {{\n",
       "        var display = window.getComputedStyle(gd).display;\n",
       "        if (!display || display === 'none') {{\n",
       "            console.log([gd, 'removed!']);\n",
       "            Plotly.purge(gd);\n",
       "            observer.disconnect();\n",
       "        }}\n",
       "}});\n",
       "\n",
       "// Listen for the removal of the full notebook cells\n",
       "var notebookContainer = gd.closest('#notebook-container');\n",
       "if (notebookContainer) {{\n",
       "    x.observe(notebookContainer, {childList: true});\n",
       "}}\n",
       "\n",
       "// Listen for the clearing of the current output cell\n",
       "var outputEl = gd.closest('.output');\n",
       "if (outputEl) {{\n",
       "    x.observe(outputEl, {childList: true});\n",
       "}}\n",
       "\n",
       "                        })                };                });            </script>        </div>"
      ]
     },
     "metadata": {},
     "output_type": "display_data"
    }
   ],
   "source": [
    "import plotly.express as px\n",
    "fig=px.bar(first_author_ctry_data, x='Country Name', y='Articles Count', color='Income group', log_y=True, color_discrete_map={\n",
    "                'High income': 'blue',\n",
    "                'Upper middle income' : 'green',\n",
    "                'Lower middle income': 'yellow',\n",
    "                'Low Income' : 'red'},\n",
    "            labels={\"Articles Count\": \"Log of Articles Count\"},\n",
    "           title='First Author Country with Corresponding Income level',\n",
    "               category_orders={'Income group':['High income', 'Upper middle income', 'Lower middle income','Low Income']}, width=1500, height=800, text_auto=True)\n",
    "fig.update_layout(xaxis_categoryorder = 'total descending')\n",
    "fig.update_layout(\n",
    "xaxis = dict(\n",
    "tickfont = dict(size=5)))\n",
    "fig.update_traces(cliponaxis=False)\n",
    "'''\n",
    "fig.update_layout(color_discrete_map={\n",
    "                'High income': 'blue',\n",
    "                'Upper middle income' : 'green',\n",
    "                'Lower middle income': 'yellow',\n",
    "                'Low Income' : 'red'})\n",
    "'''\n",
    "#fig.write_html(\"/Users/prathimagodha/Desktop/plot1.html\")\n",
    "fig.show()"
   ]
  },
  {
   "cell_type": "code",
   "execution_count": 55,
   "id": "f00a215d",
   "metadata": {},
   "outputs": [],
   "source": [
    "first_aut_ctry_Income_grp=first_author_ctry_data.loc[:, ['Income group','Articles Count']].groupby('Income group').sum()\n",
    "first_aut_ctry_Income_grp=first_aut_ctry_Income_grp.sort_values(by='Articles Count', ascending=False)"
   ]
  },
  {
   "cell_type": "code",
   "execution_count": 56,
   "id": "4deb4fcb",
   "metadata": {},
   "outputs": [
    {
     "data": {
      "application/vnd.plotly.v1+json": {
       "config": {
        "plotlyServerURL": "https://plot.ly"
       },
       "data": [
        {
         "alignmentgroup": "True",
         "hovertemplate": "Income group=%{x}<br>Articles Count=%{y}<extra></extra>",
         "legendgroup": "High income",
         "marker": {
          "color": "#636efa",
          "pattern": {
           "shape": ""
          }
         },
         "name": "High income",
         "offsetgroup": "High income",
         "orientation": "v",
         "showlegend": true,
         "textposition": "auto",
         "texttemplate": "%{y}",
         "type": "bar",
         "x": [
          "High income"
         ],
         "xaxis": "x",
         "y": [
          499449
         ],
         "yaxis": "y"
        },
        {
         "alignmentgroup": "True",
         "hovertemplate": "Income group=%{x}<br>Articles Count=%{y}<extra></extra>",
         "legendgroup": "Upper middle income",
         "marker": {
          "color": "#EF553B",
          "pattern": {
           "shape": ""
          }
         },
         "name": "Upper middle income",
         "offsetgroup": "Upper middle income",
         "orientation": "v",
         "showlegend": true,
         "textposition": "auto",
         "texttemplate": "%{y}",
         "type": "bar",
         "x": [
          "Upper middle income"
         ],
         "xaxis": "x",
         "y": [
          410349
         ],
         "yaxis": "y"
        },
        {
         "alignmentgroup": "True",
         "hovertemplate": "Income group=%{x}<br>Articles Count=%{y}<extra></extra>",
         "legendgroup": "Lower middle income",
         "marker": {
          "color": "#00cc96",
          "pattern": {
           "shape": ""
          }
         },
         "name": "Lower middle income",
         "offsetgroup": "Lower middle income",
         "orientation": "v",
         "showlegend": true,
         "textposition": "auto",
         "texttemplate": "%{y}",
         "type": "bar",
         "x": [
          "Lower middle income"
         ],
         "xaxis": "x",
         "y": [
          99842
         ],
         "yaxis": "y"
        },
        {
         "alignmentgroup": "True",
         "hovertemplate": "Income group=%{x}<br>Articles Count=%{y}<extra></extra>",
         "legendgroup": "Low income",
         "marker": {
          "color": "#ab63fa",
          "pattern": {
           "shape": ""
          }
         },
         "name": "Low income",
         "offsetgroup": "Low income",
         "orientation": "v",
         "showlegend": true,
         "textposition": "auto",
         "texttemplate": "%{y}",
         "type": "bar",
         "x": [
          "Low income"
         ],
         "xaxis": "x",
         "y": [
          3296
         ],
         "yaxis": "y"
        }
       ],
       "layout": {
        "autosize": true,
        "barmode": "relative",
        "legend": {
         "title": {
          "text": "Income group"
         },
         "tracegroupgap": 0
        },
        "template": {
         "data": {
          "bar": [
           {
            "error_x": {
             "color": "#2a3f5f"
            },
            "error_y": {
             "color": "#2a3f5f"
            },
            "marker": {
             "line": {
              "color": "#E5ECF6",
              "width": 0.5
             },
             "pattern": {
              "fillmode": "overlay",
              "size": 10,
              "solidity": 0.2
             }
            },
            "type": "bar"
           }
          ],
          "barpolar": [
           {
            "marker": {
             "line": {
              "color": "#E5ECF6",
              "width": 0.5
             },
             "pattern": {
              "fillmode": "overlay",
              "size": 10,
              "solidity": 0.2
             }
            },
            "type": "barpolar"
           }
          ],
          "carpet": [
           {
            "aaxis": {
             "endlinecolor": "#2a3f5f",
             "gridcolor": "white",
             "linecolor": "white",
             "minorgridcolor": "white",
             "startlinecolor": "#2a3f5f"
            },
            "baxis": {
             "endlinecolor": "#2a3f5f",
             "gridcolor": "white",
             "linecolor": "white",
             "minorgridcolor": "white",
             "startlinecolor": "#2a3f5f"
            },
            "type": "carpet"
           }
          ],
          "choropleth": [
           {
            "colorbar": {
             "outlinewidth": 0,
             "ticks": ""
            },
            "type": "choropleth"
           }
          ],
          "contour": [
           {
            "colorbar": {
             "outlinewidth": 0,
             "ticks": ""
            },
            "colorscale": [
             [
              0,
              "#0d0887"
             ],
             [
              0.1111111111111111,
              "#46039f"
             ],
             [
              0.2222222222222222,
              "#7201a8"
             ],
             [
              0.3333333333333333,
              "#9c179e"
             ],
             [
              0.4444444444444444,
              "#bd3786"
             ],
             [
              0.5555555555555556,
              "#d8576b"
             ],
             [
              0.6666666666666666,
              "#ed7953"
             ],
             [
              0.7777777777777778,
              "#fb9f3a"
             ],
             [
              0.8888888888888888,
              "#fdca26"
             ],
             [
              1,
              "#f0f921"
             ]
            ],
            "type": "contour"
           }
          ],
          "contourcarpet": [
           {
            "colorbar": {
             "outlinewidth": 0,
             "ticks": ""
            },
            "type": "contourcarpet"
           }
          ],
          "heatmap": [
           {
            "colorbar": {
             "outlinewidth": 0,
             "ticks": ""
            },
            "colorscale": [
             [
              0,
              "#0d0887"
             ],
             [
              0.1111111111111111,
              "#46039f"
             ],
             [
              0.2222222222222222,
              "#7201a8"
             ],
             [
              0.3333333333333333,
              "#9c179e"
             ],
             [
              0.4444444444444444,
              "#bd3786"
             ],
             [
              0.5555555555555556,
              "#d8576b"
             ],
             [
              0.6666666666666666,
              "#ed7953"
             ],
             [
              0.7777777777777778,
              "#fb9f3a"
             ],
             [
              0.8888888888888888,
              "#fdca26"
             ],
             [
              1,
              "#f0f921"
             ]
            ],
            "type": "heatmap"
           }
          ],
          "heatmapgl": [
           {
            "colorbar": {
             "outlinewidth": 0,
             "ticks": ""
            },
            "colorscale": [
             [
              0,
              "#0d0887"
             ],
             [
              0.1111111111111111,
              "#46039f"
             ],
             [
              0.2222222222222222,
              "#7201a8"
             ],
             [
              0.3333333333333333,
              "#9c179e"
             ],
             [
              0.4444444444444444,
              "#bd3786"
             ],
             [
              0.5555555555555556,
              "#d8576b"
             ],
             [
              0.6666666666666666,
              "#ed7953"
             ],
             [
              0.7777777777777778,
              "#fb9f3a"
             ],
             [
              0.8888888888888888,
              "#fdca26"
             ],
             [
              1,
              "#f0f921"
             ]
            ],
            "type": "heatmapgl"
           }
          ],
          "histogram": [
           {
            "marker": {
             "pattern": {
              "fillmode": "overlay",
              "size": 10,
              "solidity": 0.2
             }
            },
            "type": "histogram"
           }
          ],
          "histogram2d": [
           {
            "colorbar": {
             "outlinewidth": 0,
             "ticks": ""
            },
            "colorscale": [
             [
              0,
              "#0d0887"
             ],
             [
              0.1111111111111111,
              "#46039f"
             ],
             [
              0.2222222222222222,
              "#7201a8"
             ],
             [
              0.3333333333333333,
              "#9c179e"
             ],
             [
              0.4444444444444444,
              "#bd3786"
             ],
             [
              0.5555555555555556,
              "#d8576b"
             ],
             [
              0.6666666666666666,
              "#ed7953"
             ],
             [
              0.7777777777777778,
              "#fb9f3a"
             ],
             [
              0.8888888888888888,
              "#fdca26"
             ],
             [
              1,
              "#f0f921"
             ]
            ],
            "type": "histogram2d"
           }
          ],
          "histogram2dcontour": [
           {
            "colorbar": {
             "outlinewidth": 0,
             "ticks": ""
            },
            "colorscale": [
             [
              0,
              "#0d0887"
             ],
             [
              0.1111111111111111,
              "#46039f"
             ],
             [
              0.2222222222222222,
              "#7201a8"
             ],
             [
              0.3333333333333333,
              "#9c179e"
             ],
             [
              0.4444444444444444,
              "#bd3786"
             ],
             [
              0.5555555555555556,
              "#d8576b"
             ],
             [
              0.6666666666666666,
              "#ed7953"
             ],
             [
              0.7777777777777778,
              "#fb9f3a"
             ],
             [
              0.8888888888888888,
              "#fdca26"
             ],
             [
              1,
              "#f0f921"
             ]
            ],
            "type": "histogram2dcontour"
           }
          ],
          "mesh3d": [
           {
            "colorbar": {
             "outlinewidth": 0,
             "ticks": ""
            },
            "type": "mesh3d"
           }
          ],
          "parcoords": [
           {
            "line": {
             "colorbar": {
              "outlinewidth": 0,
              "ticks": ""
             }
            },
            "type": "parcoords"
           }
          ],
          "pie": [
           {
            "automargin": true,
            "type": "pie"
           }
          ],
          "scatter": [
           {
            "fillpattern": {
             "fillmode": "overlay",
             "size": 10,
             "solidity": 0.2
            },
            "type": "scatter"
           }
          ],
          "scatter3d": [
           {
            "line": {
             "colorbar": {
              "outlinewidth": 0,
              "ticks": ""
             }
            },
            "marker": {
             "colorbar": {
              "outlinewidth": 0,
              "ticks": ""
             }
            },
            "type": "scatter3d"
           }
          ],
          "scattercarpet": [
           {
            "marker": {
             "colorbar": {
              "outlinewidth": 0,
              "ticks": ""
             }
            },
            "type": "scattercarpet"
           }
          ],
          "scattergeo": [
           {
            "marker": {
             "colorbar": {
              "outlinewidth": 0,
              "ticks": ""
             }
            },
            "type": "scattergeo"
           }
          ],
          "scattergl": [
           {
            "marker": {
             "colorbar": {
              "outlinewidth": 0,
              "ticks": ""
             }
            },
            "type": "scattergl"
           }
          ],
          "scattermapbox": [
           {
            "marker": {
             "colorbar": {
              "outlinewidth": 0,
              "ticks": ""
             }
            },
            "type": "scattermapbox"
           }
          ],
          "scatterpolar": [
           {
            "marker": {
             "colorbar": {
              "outlinewidth": 0,
              "ticks": ""
             }
            },
            "type": "scatterpolar"
           }
          ],
          "scatterpolargl": [
           {
            "marker": {
             "colorbar": {
              "outlinewidth": 0,
              "ticks": ""
             }
            },
            "type": "scatterpolargl"
           }
          ],
          "scatterternary": [
           {
            "marker": {
             "colorbar": {
              "outlinewidth": 0,
              "ticks": ""
             }
            },
            "type": "scatterternary"
           }
          ],
          "surface": [
           {
            "colorbar": {
             "outlinewidth": 0,
             "ticks": ""
            },
            "colorscale": [
             [
              0,
              "#0d0887"
             ],
             [
              0.1111111111111111,
              "#46039f"
             ],
             [
              0.2222222222222222,
              "#7201a8"
             ],
             [
              0.3333333333333333,
              "#9c179e"
             ],
             [
              0.4444444444444444,
              "#bd3786"
             ],
             [
              0.5555555555555556,
              "#d8576b"
             ],
             [
              0.6666666666666666,
              "#ed7953"
             ],
             [
              0.7777777777777778,
              "#fb9f3a"
             ],
             [
              0.8888888888888888,
              "#fdca26"
             ],
             [
              1,
              "#f0f921"
             ]
            ],
            "type": "surface"
           }
          ],
          "table": [
           {
            "cells": {
             "fill": {
              "color": "#EBF0F8"
             },
             "line": {
              "color": "white"
             }
            },
            "header": {
             "fill": {
              "color": "#C8D4E3"
             },
             "line": {
              "color": "white"
             }
            },
            "type": "table"
           }
          ]
         },
         "layout": {
          "annotationdefaults": {
           "arrowcolor": "#2a3f5f",
           "arrowhead": 0,
           "arrowwidth": 1
          },
          "autotypenumbers": "strict",
          "coloraxis": {
           "colorbar": {
            "outlinewidth": 0,
            "ticks": ""
           }
          },
          "colorscale": {
           "diverging": [
            [
             0,
             "#8e0152"
            ],
            [
             0.1,
             "#c51b7d"
            ],
            [
             0.2,
             "#de77ae"
            ],
            [
             0.3,
             "#f1b6da"
            ],
            [
             0.4,
             "#fde0ef"
            ],
            [
             0.5,
             "#f7f7f7"
            ],
            [
             0.6,
             "#e6f5d0"
            ],
            [
             0.7,
             "#b8e186"
            ],
            [
             0.8,
             "#7fbc41"
            ],
            [
             0.9,
             "#4d9221"
            ],
            [
             1,
             "#276419"
            ]
           ],
           "sequential": [
            [
             0,
             "#0d0887"
            ],
            [
             0.1111111111111111,
             "#46039f"
            ],
            [
             0.2222222222222222,
             "#7201a8"
            ],
            [
             0.3333333333333333,
             "#9c179e"
            ],
            [
             0.4444444444444444,
             "#bd3786"
            ],
            [
             0.5555555555555556,
             "#d8576b"
            ],
            [
             0.6666666666666666,
             "#ed7953"
            ],
            [
             0.7777777777777778,
             "#fb9f3a"
            ],
            [
             0.8888888888888888,
             "#fdca26"
            ],
            [
             1,
             "#f0f921"
            ]
           ],
           "sequentialminus": [
            [
             0,
             "#0d0887"
            ],
            [
             0.1111111111111111,
             "#46039f"
            ],
            [
             0.2222222222222222,
             "#7201a8"
            ],
            [
             0.3333333333333333,
             "#9c179e"
            ],
            [
             0.4444444444444444,
             "#bd3786"
            ],
            [
             0.5555555555555556,
             "#d8576b"
            ],
            [
             0.6666666666666666,
             "#ed7953"
            ],
            [
             0.7777777777777778,
             "#fb9f3a"
            ],
            [
             0.8888888888888888,
             "#fdca26"
            ],
            [
             1,
             "#f0f921"
            ]
           ]
          },
          "colorway": [
           "#636efa",
           "#EF553B",
           "#00cc96",
           "#ab63fa",
           "#FFA15A",
           "#19d3f3",
           "#FF6692",
           "#B6E880",
           "#FF97FF",
           "#FECB52"
          ],
          "font": {
           "color": "#2a3f5f"
          },
          "geo": {
           "bgcolor": "white",
           "lakecolor": "white",
           "landcolor": "#E5ECF6",
           "showlakes": true,
           "showland": true,
           "subunitcolor": "white"
          },
          "hoverlabel": {
           "align": "left"
          },
          "hovermode": "closest",
          "mapbox": {
           "style": "light"
          },
          "paper_bgcolor": "white",
          "plot_bgcolor": "#E5ECF6",
          "polar": {
           "angularaxis": {
            "gridcolor": "white",
            "linecolor": "white",
            "ticks": ""
           },
           "bgcolor": "#E5ECF6",
           "radialaxis": {
            "gridcolor": "white",
            "linecolor": "white",
            "ticks": ""
           }
          },
          "scene": {
           "xaxis": {
            "backgroundcolor": "#E5ECF6",
            "gridcolor": "white",
            "gridwidth": 2,
            "linecolor": "white",
            "showbackground": true,
            "ticks": "",
            "zerolinecolor": "white"
           },
           "yaxis": {
            "backgroundcolor": "#E5ECF6",
            "gridcolor": "white",
            "gridwidth": 2,
            "linecolor": "white",
            "showbackground": true,
            "ticks": "",
            "zerolinecolor": "white"
           },
           "zaxis": {
            "backgroundcolor": "#E5ECF6",
            "gridcolor": "white",
            "gridwidth": 2,
            "linecolor": "white",
            "showbackground": true,
            "ticks": "",
            "zerolinecolor": "white"
           }
          },
          "shapedefaults": {
           "line": {
            "color": "#2a3f5f"
           }
          },
          "ternary": {
           "aaxis": {
            "gridcolor": "white",
            "linecolor": "white",
            "ticks": ""
           },
           "baxis": {
            "gridcolor": "white",
            "linecolor": "white",
            "ticks": ""
           },
           "bgcolor": "#E5ECF6",
           "caxis": {
            "gridcolor": "white",
            "linecolor": "white",
            "ticks": ""
           }
          },
          "title": {
           "x": 0.05
          },
          "xaxis": {
           "automargin": true,
           "gridcolor": "white",
           "linecolor": "white",
           "ticks": "",
           "title": {
            "standoff": 15
           },
           "zerolinecolor": "white",
           "zerolinewidth": 2
          },
          "yaxis": {
           "automargin": true,
           "gridcolor": "white",
           "linecolor": "white",
           "ticks": "",
           "title": {
            "standoff": 15
           },
           "zerolinecolor": "white",
           "zerolinewidth": 2
          }
         }
        },
        "title": {
         "text": "First Author Countries grouped by Income Level vs Publications count"
        },
        "xaxis": {
         "anchor": "y",
         "autorange": true,
         "categoryarray": [
          "High income",
          "Upper middle income",
          "Lower middle income",
          "Low income"
         ],
         "categoryorder": "array",
         "domain": [
          0,
          1
         ],
         "range": [
          -0.5,
          3.5
         ],
         "title": {
          "text": "Income group"
         },
         "type": "category"
        },
        "yaxis": {
         "anchor": "x",
         "autorange": true,
         "domain": [
          0,
          1
         ],
         "range": [
          0,
          525735.7894736843
         ],
         "title": {
          "text": "Articles Count"
         },
         "type": "linear"
        }
       }
      },
      "image/png": "[encoded data removed]",
      "text/html": [
       "<div>                            <div id=\"c7e2037c-d9ce-41e9-8c8a-e73905ff8d1a\" class=\"plotly-graph-div\" style=\"height:525px; width:100%;\"></div>            <script type=\"text/javascript\">                require([\"plotly\"], function(Plotly) {                    window.PLOTLYENV=window.PLOTLYENV || {};                                    if (document.getElementById(\"c7e2037c-d9ce-41e9-8c8a-e73905ff8d1a\")) {                    Plotly.newPlot(                        \"c7e2037c-d9ce-41e9-8c8a-e73905ff8d1a\",                        [{\"alignmentgroup\":\"True\",\"hovertemplate\":\"Income group=%{x}<br>Articles Count=%{y}<extra></extra>\",\"legendgroup\":\"High income\",\"marker\":{\"color\":\"#636efa\",\"pattern\":{\"shape\":\"\"}},\"name\":\"High income\",\"offsetgroup\":\"High income\",\"orientation\":\"v\",\"showlegend\":true,\"textposition\":\"auto\",\"texttemplate\":\"%{y}\",\"x\":[\"High income\"],\"xaxis\":\"x\",\"y\":[499449],\"yaxis\":\"y\",\"type\":\"bar\"},{\"alignmentgroup\":\"True\",\"hovertemplate\":\"Income group=%{x}<br>Articles Count=%{y}<extra></extra>\",\"legendgroup\":\"Upper middle income\",\"marker\":{\"color\":\"#EF553B\",\"pattern\":{\"shape\":\"\"}},\"name\":\"Upper middle income\",\"offsetgroup\":\"Upper middle income\",\"orientation\":\"v\",\"showlegend\":true,\"textposition\":\"auto\",\"texttemplate\":\"%{y}\",\"x\":[\"Upper middle income\"],\"xaxis\":\"x\",\"y\":[410349],\"yaxis\":\"y\",\"type\":\"bar\"},{\"alignmentgroup\":\"True\",\"hovertemplate\":\"Income group=%{x}<br>Articles Count=%{y}<extra></extra>\",\"legendgroup\":\"Lower middle income\",\"marker\":{\"color\":\"#00cc96\",\"pattern\":{\"shape\":\"\"}},\"name\":\"Lower middle income\",\"offsetgroup\":\"Lower middle income\",\"orientation\":\"v\",\"showlegend\":true,\"textposition\":\"auto\",\"texttemplate\":\"%{y}\",\"x\":[\"Lower middle income\"],\"xaxis\":\"x\",\"y\":[99842],\"yaxis\":\"y\",\"type\":\"bar\"},{\"alignmentgroup\":\"True\",\"hovertemplate\":\"Income group=%{x}<br>Articles Count=%{y}<extra></extra>\",\"legendgroup\":\"Low income\",\"marker\":{\"color\":\"#ab63fa\",\"pattern\":{\"shape\":\"\"}},\"name\":\"Low income\",\"offsetgroup\":\"Low income\",\"orientation\":\"v\",\"showlegend\":true,\"textposition\":\"auto\",\"texttemplate\":\"%{y}\",\"x\":[\"Low income\"],\"xaxis\":\"x\",\"y\":[3296],\"yaxis\":\"y\",\"type\":\"bar\"}],                        {\"template\":{\"data\":{\"histogram2dcontour\":[{\"type\":\"histogram2dcontour\",\"colorbar\":{\"outlinewidth\":0,\"ticks\":\"\"},\"colorscale\":[[0.0,\"#0d0887\"],[0.1111111111111111,\"#46039f\"],[0.2222222222222222,\"#7201a8\"],[0.3333333333333333,\"#9c179e\"],[0.4444444444444444,\"#bd3786\"],[0.5555555555555556,\"#d8576b\"],[0.6666666666666666,\"#ed7953\"],[0.7777777777777778,\"#fb9f3a\"],[0.8888888888888888,\"#fdca26\"],[1.0,\"#f0f921\"]]}],\"choropleth\":[{\"type\":\"choropleth\",\"colorbar\":{\"outlinewidth\":0,\"ticks\":\"\"}}],\"histogram2d\":[{\"type\":\"histogram2d\",\"colorbar\":{\"outlinewidth\":0,\"ticks\":\"\"},\"colorscale\":[[0.0,\"#0d0887\"],[0.1111111111111111,\"#46039f\"],[0.2222222222222222,\"#7201a8\"],[0.3333333333333333,\"#9c179e\"],[0.4444444444444444,\"#bd3786\"],[0.5555555555555556,\"#d8576b\"],[0.6666666666666666,\"#ed7953\"],[0.7777777777777778,\"#fb9f3a\"],[0.8888888888888888,\"#fdca26\"],[1.0,\"#f0f921\"]]}],\"heatmap\":[{\"type\":\"heatmap\",\"colorbar\":{\"outlinewidth\":0,\"ticks\":\"\"},\"colorscale\":[[0.0,\"#0d0887\"],[0.1111111111111111,\"#46039f\"],[0.2222222222222222,\"#7201a8\"],[0.3333333333333333,\"#9c179e\"],[0.4444444444444444,\"#bd3786\"],[0.5555555555555556,\"#d8576b\"],[0.6666666666666666,\"#ed7953\"],[0.7777777777777778,\"#fb9f3a\"],[0.8888888888888888,\"#fdca26\"],[1.0,\"#f0f921\"]]}],\"heatmapgl\":[{\"type\":\"heatmapgl\",\"colorbar\":{\"outlinewidth\":0,\"ticks\":\"\"},\"colorscale\":[[0.0,\"#0d0887\"],[0.1111111111111111,\"#46039f\"],[0.2222222222222222,\"#7201a8\"],[0.3333333333333333,\"#9c179e\"],[0.4444444444444444,\"#bd3786\"],[0.5555555555555556,\"#d8576b\"],[0.6666666666666666,\"#ed7953\"],[0.7777777777777778,\"#fb9f3a\"],[0.8888888888888888,\"#fdca26\"],[1.0,\"#f0f921\"]]}],\"contourcarpet\":[{\"type\":\"contourcarpet\",\"colorbar\":{\"outlinewidth\":0,\"ticks\":\"\"}}],\"contour\":[{\"type\":\"contour\",\"colorbar\":{\"outlinewidth\":0,\"ticks\":\"\"},\"colorscale\":[[0.0,\"#0d0887\"],[0.1111111111111111,\"#46039f\"],[0.2222222222222222,\"#7201a8\"],[0.3333333333333333,\"#9c179e\"],[0.4444444444444444,\"#bd3786\"],[0.5555555555555556,\"#d8576b\"],[0.6666666666666666,\"#ed7953\"],[0.7777777777777778,\"#fb9f3a\"],[0.8888888888888888,\"#fdca26\"],[1.0,\"#f0f921\"]]}],\"surface\":[{\"type\":\"surface\",\"colorbar\":{\"outlinewidth\":0,\"ticks\":\"\"},\"colorscale\":[[0.0,\"#0d0887\"],[0.1111111111111111,\"#46039f\"],[0.2222222222222222,\"#7201a8\"],[0.3333333333333333,\"#9c179e\"],[0.4444444444444444,\"#bd3786\"],[0.5555555555555556,\"#d8576b\"],[0.6666666666666666,\"#ed7953\"],[0.7777777777777778,\"#fb9f3a\"],[0.8888888888888888,\"#fdca26\"],[1.0,\"#f0f921\"]]}],\"mesh3d\":[{\"type\":\"mesh3d\",\"colorbar\":{\"outlinewidth\":0,\"ticks\":\"\"}}],\"scatter\":[{\"fillpattern\":{\"fillmode\":\"overlay\",\"size\":10,\"solidity\":0.2},\"type\":\"scatter\"}],\"parcoords\":[{\"type\":\"parcoords\",\"line\":{\"colorbar\":{\"outlinewidth\":0,\"ticks\":\"\"}}}],\"scatterpolargl\":[{\"type\":\"scatterpolargl\",\"marker\":{\"colorbar\":{\"outlinewidth\":0,\"ticks\":\"\"}}}],\"bar\":[{\"error_x\":{\"color\":\"#2a3f5f\"},\"error_y\":{\"color\":\"#2a3f5f\"},\"marker\":{\"line\":{\"color\":\"#E5ECF6\",\"width\":0.5},\"pattern\":{\"fillmode\":\"overlay\",\"size\":10,\"solidity\":0.2}},\"type\":\"bar\"}],\"scattergeo\":[{\"type\":\"scattergeo\",\"marker\":{\"colorbar\":{\"outlinewidth\":0,\"ticks\":\"\"}}}],\"scatterpolar\":[{\"type\":\"scatterpolar\",\"marker\":{\"colorbar\":{\"outlinewidth\":0,\"ticks\":\"\"}}}],\"histogram\":[{\"marker\":{\"pattern\":{\"fillmode\":\"overlay\",\"size\":10,\"solidity\":0.2}},\"type\":\"histogram\"}],\"scattergl\":[{\"type\":\"scattergl\",\"marker\":{\"colorbar\":{\"outlinewidth\":0,\"ticks\":\"\"}}}],\"scatter3d\":[{\"type\":\"scatter3d\",\"line\":{\"colorbar\":{\"outlinewidth\":0,\"ticks\":\"\"}},\"marker\":{\"colorbar\":{\"outlinewidth\":0,\"ticks\":\"\"}}}],\"scattermapbox\":[{\"type\":\"scattermapbox\",\"marker\":{\"colorbar\":{\"outlinewidth\":0,\"ticks\":\"\"}}}],\"scatterternary\":[{\"type\":\"scatterternary\",\"marker\":{\"colorbar\":{\"outlinewidth\":0,\"ticks\":\"\"}}}],\"scattercarpet\":[{\"type\":\"scattercarpet\",\"marker\":{\"colorbar\":{\"outlinewidth\":0,\"ticks\":\"\"}}}],\"carpet\":[{\"aaxis\":{\"endlinecolor\":\"#2a3f5f\",\"gridcolor\":\"white\",\"linecolor\":\"white\",\"minorgridcolor\":\"white\",\"startlinecolor\":\"#2a3f5f\"},\"baxis\":{\"endlinecolor\":\"#2a3f5f\",\"gridcolor\":\"white\",\"linecolor\":\"white\",\"minorgridcolor\":\"white\",\"startlinecolor\":\"#2a3f5f\"},\"type\":\"carpet\"}],\"table\":[{\"cells\":{\"fill\":{\"color\":\"#EBF0F8\"},\"line\":{\"color\":\"white\"}},\"header\":{\"fill\":{\"color\":\"#C8D4E3\"},\"line\":{\"color\":\"white\"}},\"type\":\"table\"}],\"barpolar\":[{\"marker\":{\"line\":{\"color\":\"#E5ECF6\",\"width\":0.5},\"pattern\":{\"fillmode\":\"overlay\",\"size\":10,\"solidity\":0.2}},\"type\":\"barpolar\"}],\"pie\":[{\"automargin\":true,\"type\":\"pie\"}]},\"layout\":{\"autotypenumbers\":\"strict\",\"colorway\":[\"#636efa\",\"#EF553B\",\"#00cc96\",\"#ab63fa\",\"#FFA15A\",\"#19d3f3\",\"#FF6692\",\"#B6E880\",\"#FF97FF\",\"#FECB52\"],\"font\":{\"color\":\"#2a3f5f\"},\"hovermode\":\"closest\",\"hoverlabel\":{\"align\":\"left\"},\"paper_bgcolor\":\"white\",\"plot_bgcolor\":\"#E5ECF6\",\"polar\":{\"bgcolor\":\"#E5ECF6\",\"angularaxis\":{\"gridcolor\":\"white\",\"linecolor\":\"white\",\"ticks\":\"\"},\"radialaxis\":{\"gridcolor\":\"white\",\"linecolor\":\"white\",\"ticks\":\"\"}},\"ternary\":{\"bgcolor\":\"#E5ECF6\",\"aaxis\":{\"gridcolor\":\"white\",\"linecolor\":\"white\",\"ticks\":\"\"},\"baxis\":{\"gridcolor\":\"white\",\"linecolor\":\"white\",\"ticks\":\"\"},\"caxis\":{\"gridcolor\":\"white\",\"linecolor\":\"white\",\"ticks\":\"\"}},\"coloraxis\":{\"colorbar\":{\"outlinewidth\":0,\"ticks\":\"\"}},\"colorscale\":{\"sequential\":[[0.0,\"#0d0887\"],[0.1111111111111111,\"#46039f\"],[0.2222222222222222,\"#7201a8\"],[0.3333333333333333,\"#9c179e\"],[0.4444444444444444,\"#bd3786\"],[0.5555555555555556,\"#d8576b\"],[0.6666666666666666,\"#ed7953\"],[0.7777777777777778,\"#fb9f3a\"],[0.8888888888888888,\"#fdca26\"],[1.0,\"#f0f921\"]],\"sequentialminus\":[[0.0,\"#0d0887\"],[0.1111111111111111,\"#46039f\"],[0.2222222222222222,\"#7201a8\"],[0.3333333333333333,\"#9c179e\"],[0.4444444444444444,\"#bd3786\"],[0.5555555555555556,\"#d8576b\"],[0.6666666666666666,\"#ed7953\"],[0.7777777777777778,\"#fb9f3a\"],[0.8888888888888888,\"#fdca26\"],[1.0,\"#f0f921\"]],\"diverging\":[[0,\"#8e0152\"],[0.1,\"#c51b7d\"],[0.2,\"#de77ae\"],[0.3,\"#f1b6da\"],[0.4,\"#fde0ef\"],[0.5,\"#f7f7f7\"],[0.6,\"#e6f5d0\"],[0.7,\"#b8e186\"],[0.8,\"#7fbc41\"],[0.9,\"#4d9221\"],[1,\"#276419\"]]},\"xaxis\":{\"gridcolor\":\"white\",\"linecolor\":\"white\",\"ticks\":\"\",\"title\":{\"standoff\":15},\"zerolinecolor\":\"white\",\"automargin\":true,\"zerolinewidth\":2},\"yaxis\":{\"gridcolor\":\"white\",\"linecolor\":\"white\",\"ticks\":\"\",\"title\":{\"standoff\":15},\"zerolinecolor\":\"white\",\"automargin\":true,\"zerolinewidth\":2},\"scene\":{\"xaxis\":{\"backgroundcolor\":\"#E5ECF6\",\"gridcolor\":\"white\",\"linecolor\":\"white\",\"showbackground\":true,\"ticks\":\"\",\"zerolinecolor\":\"white\",\"gridwidth\":2},\"yaxis\":{\"backgroundcolor\":\"#E5ECF6\",\"gridcolor\":\"white\",\"linecolor\":\"white\",\"showbackground\":true,\"ticks\":\"\",\"zerolinecolor\":\"white\",\"gridwidth\":2},\"zaxis\":{\"backgroundcolor\":\"#E5ECF6\",\"gridcolor\":\"white\",\"linecolor\":\"white\",\"showbackground\":true,\"ticks\":\"\",\"zerolinecolor\":\"white\",\"gridwidth\":2}},\"shapedefaults\":{\"line\":{\"color\":\"#2a3f5f\"}},\"annotationdefaults\":{\"arrowcolor\":\"#2a3f5f\",\"arrowhead\":0,\"arrowwidth\":1},\"geo\":{\"bgcolor\":\"white\",\"landcolor\":\"#E5ECF6\",\"subunitcolor\":\"white\",\"showland\":true,\"showlakes\":true,\"lakecolor\":\"white\"},\"title\":{\"x\":0.05},\"mapbox\":{\"style\":\"light\"}}},\"xaxis\":{\"anchor\":\"y\",\"domain\":[0.0,1.0],\"title\":{\"text\":\"Income group\"},\"categoryorder\":\"array\",\"categoryarray\":[\"High income\",\"Upper middle income\",\"Lower middle income\",\"Low income\"]},\"yaxis\":{\"anchor\":\"x\",\"domain\":[0.0,1.0],\"title\":{\"text\":\"Articles Count\"}},\"legend\":{\"title\":{\"text\":\"Income group\"},\"tracegroupgap\":0},\"title\":{\"text\":\"First Author Countries grouped by Income Level vs Publications count\"},\"barmode\":\"relative\"},                        {\"responsive\": true}                    ).then(function(){\n",
       "                            \n",
       "var gd = document.getElementById('c7e2037c-d9ce-41e9-8c8a-e73905ff8d1a');\n",
       "var x = new MutationObserver(function (mutations, observer) {{\n",
       "        var display = window.getComputedStyle(gd).display;\n",
       "        if (!display || display === 'none') {{\n",
       "            console.log([gd, 'removed!']);\n",
       "            Plotly.purge(gd);\n",
       "            observer.disconnect();\n",
       "        }}\n",
       "}});\n",
       "\n",
       "// Listen for the removal of the full notebook cells\n",
       "var notebookContainer = gd.closest('#notebook-container');\n",
       "if (notebookContainer) {{\n",
       "    x.observe(notebookContainer, {childList: true});\n",
       "}}\n",
       "\n",
       "// Listen for the clearing of the current output cell\n",
       "var outputEl = gd.closest('.output');\n",
       "if (outputEl) {{\n",
       "    x.observe(outputEl, {childList: true});\n",
       "}}\n",
       "\n",
       "                        })                };                });            </script>        </div>"
      ]
     },
     "metadata": {},
     "output_type": "display_data"
    }
   ],
   "source": [
    "fig=px.bar(first_aut_ctry_Income_grp, x=first_aut_ctry_Income_grp.index, y='Articles Count', color=first_aut_ctry_Income_grp.index, text_auto=True,\n",
    "           title='First Author Countries grouped by Income Level vs Publications count',)\n",
    "fig.show()"
   ]
  },
  {
   "cell_type": "markdown",
   "id": "bbbb1d9b",
   "metadata": {},
   "source": [
    "# Visualization-2 (Last Author Country with Corresponding Income level)"
   ]
  },
  {
   "cell_type": "code",
   "execution_count": 53,
   "id": "3107a205",
   "metadata": {},
   "outputs": [
    {
     "data": {
      "application/vnd.plotly.v1+json": {
       "config": {
        "plotlyServerURL": "https://plot.ly"
       },
       "data": [
        {
         "alignmentgroup": "True",
         "cliponaxis": false,
         "hovertemplate": "Income group=High income<br>Country Name=%{x}<br>Log of Articles Count=%{y}<extra></extra>",
         "legendgroup": "High income",
         "marker": {
          "color": "blue",
          "pattern": {
           "shape": ""
          }
         },
         "name": "High income",
         "offsetgroup": "High income",
         "orientation": "v",
         "showlegend": true,
         "textposition": "auto",
         "texttemplate": "%{y}",
         "type": "bar",
         "x": [
          "United States",
          "Spain",
          "United Kingdom",
          "Italy",
          "Germany",
          "Australia",
          "Canada",
          "Korea, Rep.",
          "Japan",
          "Poland",
          "France",
          "Netherlands",
          "Sweden",
          "Portugal",
          "Switzerland",
          "Belgium",
          "Denmark",
          "Greece",
          "Finland",
          "Norway",
          "Austria",
          "Czechia",
          "Saudi Arabia",
          "Romania",
          "New Zealand",
          "Chile",
          "Singapore",
          "Hungary",
          "Israel",
          "Ireland",
          "Slovak Republic",
          "Slovenia",
          "Lithuania",
          "Croatia",
          "United Arab Emirates",
          "Estonia",
          "Cyprus",
          "Qatar",
          "Oman",
          "Kuwait",
          "Iceland",
          "Latvia",
          "Luxembourg",
          "Uruguay",
          "Brunei Darussalam",
          "Trinidad and Tobago",
          "Panama",
          "Monaco",
          "Bahrain",
          "Malta",
          "Greenland",
          "New Caledonia",
          "French Polynesia",
          "Barbados",
          "Bermuda",
          "Seychelles",
          "Guyana",
          "Faroe Islands",
          "Bahamas, The",
          "Andorra",
          "St. Kitts and Nevis",
          "Liechtenstein",
          "Isle of Man",
          "Curacao",
          "San Marino"
         ],
         "xaxis": "x",
         "y": [
          132677,
          33032,
          32439,
          30663,
          30094,
          28444,
          27646,
          25173,
          20901,
          19625,
          18169,
          12608,
          10436,
          9790,
          8564,
          7323,
          6494,
          6327,
          6264,
          5934,
          5013,
          4924,
          4911,
          4168,
          3448,
          3218,
          3216,
          3144,
          2859,
          2744,
          2058,
          1563,
          1511,
          1422,
          1100,
          968,
          875,
          823,
          770,
          399,
          346,
          304,
          263,
          262,
          137,
          108,
          85,
          79,
          77,
          76,
          66,
          65,
          40,
          31,
          21,
          17,
          13,
          9,
          8,
          7,
          3,
          2,
          1,
          1,
          1
         ],
         "yaxis": "y"
        },
        {
         "alignmentgroup": "True",
         "cliponaxis": false,
         "hovertemplate": "Income group=Upper middle income<br>Country Name=%{x}<br>Log of Articles Count=%{y}<extra></extra>",
         "legendgroup": "Upper middle income",
         "marker": {
          "color": "green",
          "pattern": {
           "shape": ""
          }
         },
         "name": "Upper middle income",
         "offsetgroup": "Upper middle income",
         "orientation": "v",
         "showlegend": true,
         "textposition": "auto",
         "texttemplate": "%{y}",
         "type": "bar",
         "x": [
          "China",
          "Brazil",
          "Russian Federation",
          "Indonesia",
          "Malaysia",
          "Turkiye",
          "Mexico",
          "South Africa",
          "Thailand",
          "Argentina",
          "Colombia",
          "Serbia",
          "Iraq",
          "Kazakhstan",
          "Peru",
          "Ecuador",
          "Bulgaria",
          "Costa Rica",
          "Georgia",
          "Belarus",
          "West Bank and Gaza",
          "Botswana",
          "North Macedonia",
          "Cuba",
          "Azerbaijan",
          "Bosnia and Herzegovina",
          "Fiji",
          "Armenia",
          "Kosovo",
          "Namibia",
          "Mauritius",
          "Albania",
          "Moldova",
          "Montenegro",
          "Jamaica",
          "Libya",
          "Guatemala",
          "Turkmenistan",
          "Paraguay",
          "Suriname",
          "Maldives",
          "Palau",
          "Dominican Republic",
          "Grenada",
          "Belize",
          "Tonga",
          "El Salvador",
          "Gabon",
          "St. Vincent and the Grenadines",
          "St. Lucia",
          "Tuvalu"
         ],
         "xaxis": "x",
         "y": [
          261895,
          24530,
          24432,
          23765,
          12048,
          10328,
          8649,
          7332,
          4759,
          3867,
          2495,
          2408,
          1580,
          1096,
          686,
          624,
          623,
          326,
          291,
          198,
          189,
          160,
          144,
          123,
          120,
          113,
          91,
          90,
          81,
          76,
          69,
          63,
          61,
          59,
          36,
          27,
          20,
          19,
          15,
          13,
          11,
          9,
          8,
          6,
          4,
          4,
          4,
          4,
          2,
          2,
          1
         ],
         "yaxis": "y"
        },
        {
         "alignmentgroup": "True",
         "cliponaxis": false,
         "hovertemplate": "Income group=Lower middle income<br>Country Name=%{x}<br>Log of Articles Count=%{y}<extra></extra>",
         "legendgroup": "Lower middle income",
         "marker": {
          "color": "yellow",
          "pattern": {
           "shape": ""
          }
         },
         "name": "Lower middle income",
         "offsetgroup": "Lower middle income",
         "orientation": "v",
         "showlegend": true,
         "textposition": "auto",
         "texttemplate": "%{y}",
         "type": "bar",
         "x": [
          "India",
          "Iran, Islamic Rep.",
          "Pakistan",
          "Egypt, Arab Rep.",
          "Nigeria",
          "Vietnam",
          "Morocco",
          "Tunisia",
          "Bangladesh",
          "Uzbekistan",
          "Ukraine",
          "Algeria",
          "Philippines",
          "Ghana",
          "Nepal",
          "Kenya",
          "Sri Lanka",
          "Jordan",
          "Lebanon",
          "Tanzania",
          "Cameroon",
          "Zimbabwe",
          "Benin",
          "Mongolia",
          "Kyrgyz Republic",
          "Cote d'Ivoire",
          "Senegal",
          "Zambia",
          "Cambodia",
          "Bolivia",
          "Tajikistan",
          "Myanmar",
          "Lao PDR",
          "Bhutan",
          "Papua New Guinea",
          "Lesotho",
          "Nicaragua",
          "Honduras",
          "Samoa",
          "Vanuatu",
          "Eswatini",
          "Djibouti",
          "Mauritania",
          "Micronesia, Fed. Sts.",
          "Congo, Rep.",
          "Haiti",
          "Angola",
          "Timor-Leste",
          "Solomon Islands",
          "Sao Tome and Principe",
          "Cabo Verde"
         ],
         "xaxis": "x",
         "y": [
          38635,
          18636,
          6534,
          5001,
          3329,
          2551,
          2111,
          1980,
          1822,
          1672,
          1635,
          1409,
          1092,
          988,
          887,
          859,
          747,
          547,
          505,
          370,
          312,
          217,
          143,
          131,
          117,
          100,
          85,
          66,
          61,
          60,
          57,
          36,
          28,
          20,
          18,
          14,
          14,
          13,
          11,
          10,
          10,
          9,
          8,
          7,
          7,
          6,
          4,
          3,
          2,
          1,
          1
         ],
         "yaxis": "y"
        },
        {
         "alignmentgroup": "True",
         "cliponaxis": false,
         "hovertemplate": "Income group=Low income<br>Country Name=%{x}<br>Log of Articles Count=%{y}<extra></extra>",
         "legendgroup": "Low income",
         "marker": {
          "color": "#FFA15A",
          "pattern": {
           "shape": ""
          }
         },
         "name": "Low income",
         "offsetgroup": "Low income",
         "orientation": "v",
         "showlegend": true,
         "textposition": "auto",
         "texttemplate": "%{y}",
         "type": "bar",
         "x": [
          "Ethiopia",
          "Uganda",
          "Syrian Arab Republic",
          "Malawi",
          "Burkina Faso",
          "Rwanda",
          "Congo, Dem. Rep.",
          "Togo",
          "Mozambique",
          "Sudan",
          "Mali",
          "Yemen, Rep.",
          "Madagascar",
          "Niger",
          "Burundi",
          "Afghanistan",
          "Sierra Leone",
          "Gambia, The",
          "Somalia",
          "South Sudan",
          "Liberia",
          "Chad",
          "Guinea-Bissau",
          "Central African Republic"
         ],
         "xaxis": "x",
         "y": [
          1156,
          298,
          105,
          82,
          80,
          72,
          70,
          49,
          49,
          48,
          44,
          32,
          30,
          27,
          23,
          21,
          20,
          12,
          8,
          2,
          2,
          2,
          1,
          1
         ],
         "yaxis": "y"
        }
       ],
       "layout": {
        "barmode": "relative",
        "height": 800,
        "legend": {
         "title": {
          "text": "Income group"
         },
         "tracegroupgap": 0
        },
        "template": {
         "data": {
          "bar": [
           {
            "error_x": {
             "color": "#2a3f5f"
            },
            "error_y": {
             "color": "#2a3f5f"
            },
            "marker": {
             "line": {
              "color": "#E5ECF6",
              "width": 0.5
             },
             "pattern": {
              "fillmode": "overlay",
              "size": 10,
              "solidity": 0.2
             }
            },
            "type": "bar"
           }
          ],
          "barpolar": [
           {
            "marker": {
             "line": {
              "color": "#E5ECF6",
              "width": 0.5
             },
             "pattern": {
              "fillmode": "overlay",
              "size": 10,
              "solidity": 0.2
             }
            },
            "type": "barpolar"
           }
          ],
          "carpet": [
           {
            "aaxis": {
             "endlinecolor": "#2a3f5f",
             "gridcolor": "white",
             "linecolor": "white",
             "minorgridcolor": "white",
             "startlinecolor": "#2a3f5f"
            },
            "baxis": {
             "endlinecolor": "#2a3f5f",
             "gridcolor": "white",
             "linecolor": "white",
             "minorgridcolor": "white",
             "startlinecolor": "#2a3f5f"
            },
            "type": "carpet"
           }
          ],
          "choropleth": [
           {
            "colorbar": {
             "outlinewidth": 0,
             "ticks": ""
            },
            "type": "choropleth"
           }
          ],
          "contour": [
           {
            "colorbar": {
             "outlinewidth": 0,
             "ticks": ""
            },
            "colorscale": [
             [
              0,
              "#0d0887"
             ],
             [
              0.1111111111111111,
              "#46039f"
             ],
             [
              0.2222222222222222,
              "#7201a8"
             ],
             [
              0.3333333333333333,
              "#9c179e"
             ],
             [
              0.4444444444444444,
              "#bd3786"
             ],
             [
              0.5555555555555556,
              "#d8576b"
             ],
             [
              0.6666666666666666,
              "#ed7953"
             ],
             [
              0.7777777777777778,
              "#fb9f3a"
             ],
             [
              0.8888888888888888,
              "#fdca26"
             ],
             [
              1,
              "#f0f921"
             ]
            ],
            "type": "contour"
           }
          ],
          "contourcarpet": [
           {
            "colorbar": {
             "outlinewidth": 0,
             "ticks": ""
            },
            "type": "contourcarpet"
           }
          ],
          "heatmap": [
           {
            "colorbar": {
             "outlinewidth": 0,
             "ticks": ""
            },
            "colorscale": [
             [
              0,
              "#0d0887"
             ],
             [
              0.1111111111111111,
              "#46039f"
             ],
             [
              0.2222222222222222,
              "#7201a8"
             ],
             [
              0.3333333333333333,
              "#9c179e"
             ],
             [
              0.4444444444444444,
              "#bd3786"
             ],
             [
              0.5555555555555556,
              "#d8576b"
             ],
             [
              0.6666666666666666,
              "#ed7953"
             ],
             [
              0.7777777777777778,
              "#fb9f3a"
             ],
             [
              0.8888888888888888,
              "#fdca26"
             ],
             [
              1,
              "#f0f921"
             ]
            ],
            "type": "heatmap"
           }
          ],
          "heatmapgl": [
           {
            "colorbar": {
             "outlinewidth": 0,
             "ticks": ""
            },
            "colorscale": [
             [
              0,
              "#0d0887"
             ],
             [
              0.1111111111111111,
              "#46039f"
             ],
             [
              0.2222222222222222,
              "#7201a8"
             ],
             [
              0.3333333333333333,
              "#9c179e"
             ],
             [
              0.4444444444444444,
              "#bd3786"
             ],
             [
              0.5555555555555556,
              "#d8576b"
             ],
             [
              0.6666666666666666,
              "#ed7953"
             ],
             [
              0.7777777777777778,
              "#fb9f3a"
             ],
             [
              0.8888888888888888,
              "#fdca26"
             ],
             [
              1,
              "#f0f921"
             ]
            ],
            "type": "heatmapgl"
           }
          ],
          "histogram": [
           {
            "marker": {
             "pattern": {
              "fillmode": "overlay",
              "size": 10,
              "solidity": 0.2
             }
            },
            "type": "histogram"
           }
          ],
          "histogram2d": [
           {
            "colorbar": {
             "outlinewidth": 0,
             "ticks": ""
            },
            "colorscale": [
             [
              0,
              "#0d0887"
             ],
             [
              0.1111111111111111,
              "#46039f"
             ],
             [
              0.2222222222222222,
              "#7201a8"
             ],
             [
              0.3333333333333333,
              "#9c179e"
             ],
             [
              0.4444444444444444,
              "#bd3786"
             ],
             [
              0.5555555555555556,
              "#d8576b"
             ],
             [
              0.6666666666666666,
              "#ed7953"
             ],
             [
              0.7777777777777778,
              "#fb9f3a"
             ],
             [
              0.8888888888888888,
              "#fdca26"
             ],
             [
              1,
              "#f0f921"
             ]
            ],
            "type": "histogram2d"
           }
          ],
          "histogram2dcontour": [
           {
            "colorbar": {
             "outlinewidth": 0,
             "ticks": ""
            },
            "colorscale": [
             [
              0,
              "#0d0887"
             ],
             [
              0.1111111111111111,
              "#46039f"
             ],
             [
              0.2222222222222222,
              "#7201a8"
             ],
             [
              0.3333333333333333,
              "#9c179e"
             ],
             [
              0.4444444444444444,
              "#bd3786"
             ],
             [
              0.5555555555555556,
              "#d8576b"
             ],
             [
              0.6666666666666666,
              "#ed7953"
             ],
             [
              0.7777777777777778,
              "#fb9f3a"
             ],
             [
              0.8888888888888888,
              "#fdca26"
             ],
             [
              1,
              "#f0f921"
             ]
            ],
            "type": "histogram2dcontour"
           }
          ],
          "mesh3d": [
           {
            "colorbar": {
             "outlinewidth": 0,
             "ticks": ""
            },
            "type": "mesh3d"
           }
          ],
          "parcoords": [
           {
            "line": {
             "colorbar": {
              "outlinewidth": 0,
              "ticks": ""
             }
            },
            "type": "parcoords"
           }
          ],
          "pie": [
           {
            "automargin": true,
            "type": "pie"
           }
          ],
          "scatter": [
           {
            "fillpattern": {
             "fillmode": "overlay",
             "size": 10,
             "solidity": 0.2
            },
            "type": "scatter"
           }
          ],
          "scatter3d": [
           {
            "line": {
             "colorbar": {
              "outlinewidth": 0,
              "ticks": ""
             }
            },
            "marker": {
             "colorbar": {
              "outlinewidth": 0,
              "ticks": ""
             }
            },
            "type": "scatter3d"
           }
          ],
          "scattercarpet": [
           {
            "marker": {
             "colorbar": {
              "outlinewidth": 0,
              "ticks": ""
             }
            },
            "type": "scattercarpet"
           }
          ],
          "scattergeo": [
           {
            "marker": {
             "colorbar": {
              "outlinewidth": 0,
              "ticks": ""
             }
            },
            "type": "scattergeo"
           }
          ],
          "scattergl": [
           {
            "marker": {
             "colorbar": {
              "outlinewidth": 0,
              "ticks": ""
             }
            },
            "type": "scattergl"
           }
          ],
          "scattermapbox": [
           {
            "marker": {
             "colorbar": {
              "outlinewidth": 0,
              "ticks": ""
             }
            },
            "type": "scattermapbox"
           }
          ],
          "scatterpolar": [
           {
            "marker": {
             "colorbar": {
              "outlinewidth": 0,
              "ticks": ""
             }
            },
            "type": "scatterpolar"
           }
          ],
          "scatterpolargl": [
           {
            "marker": {
             "colorbar": {
              "outlinewidth": 0,
              "ticks": ""
             }
            },
            "type": "scatterpolargl"
           }
          ],
          "scatterternary": [
           {
            "marker": {
             "colorbar": {
              "outlinewidth": 0,
              "ticks": ""
             }
            },
            "type": "scatterternary"
           }
          ],
          "surface": [
           {
            "colorbar": {
             "outlinewidth": 0,
             "ticks": ""
            },
            "colorscale": [
             [
              0,
              "#0d0887"
             ],
             [
              0.1111111111111111,
              "#46039f"
             ],
             [
              0.2222222222222222,
              "#7201a8"
             ],
             [
              0.3333333333333333,
              "#9c179e"
             ],
             [
              0.4444444444444444,
              "#bd3786"
             ],
             [
              0.5555555555555556,
              "#d8576b"
             ],
             [
              0.6666666666666666,
              "#ed7953"
             ],
             [
              0.7777777777777778,
              "#fb9f3a"
             ],
             [
              0.8888888888888888,
              "#fdca26"
             ],
             [
              1,
              "#f0f921"
             ]
            ],
            "type": "surface"
           }
          ],
          "table": [
           {
            "cells": {
             "fill": {
              "color": "#EBF0F8"
             },
             "line": {
              "color": "white"
             }
            },
            "header": {
             "fill": {
              "color": "#C8D4E3"
             },
             "line": {
              "color": "white"
             }
            },
            "type": "table"
           }
          ]
         },
         "layout": {
          "annotationdefaults": {
           "arrowcolor": "#2a3f5f",
           "arrowhead": 0,
           "arrowwidth": 1
          },
          "autotypenumbers": "strict",
          "coloraxis": {
           "colorbar": {
            "outlinewidth": 0,
            "ticks": ""
           }
          },
          "colorscale": {
           "diverging": [
            [
             0,
             "#8e0152"
            ],
            [
             0.1,
             "#c51b7d"
            ],
            [
             0.2,
             "#de77ae"
            ],
            [
             0.3,
             "#f1b6da"
            ],
            [
             0.4,
             "#fde0ef"
            ],
            [
             0.5,
             "#f7f7f7"
            ],
            [
             0.6,
             "#e6f5d0"
            ],
            [
             0.7,
             "#b8e186"
            ],
            [
             0.8,
             "#7fbc41"
            ],
            [
             0.9,
             "#4d9221"
            ],
            [
             1,
             "#276419"
            ]
           ],
           "sequential": [
            [
             0,
             "#0d0887"
            ],
            [
             0.1111111111111111,
             "#46039f"
            ],
            [
             0.2222222222222222,
             "#7201a8"
            ],
            [
             0.3333333333333333,
             "#9c179e"
            ],
            [
             0.4444444444444444,
             "#bd3786"
            ],
            [
             0.5555555555555556,
             "#d8576b"
            ],
            [
             0.6666666666666666,
             "#ed7953"
            ],
            [
             0.7777777777777778,
             "#fb9f3a"
            ],
            [
             0.8888888888888888,
             "#fdca26"
            ],
            [
             1,
             "#f0f921"
            ]
           ],
           "sequentialminus": [
            [
             0,
             "#0d0887"
            ],
            [
             0.1111111111111111,
             "#46039f"
            ],
            [
             0.2222222222222222,
             "#7201a8"
            ],
            [
             0.3333333333333333,
             "#9c179e"
            ],
            [
             0.4444444444444444,
             "#bd3786"
            ],
            [
             0.5555555555555556,
             "#d8576b"
            ],
            [
             0.6666666666666666,
             "#ed7953"
            ],
            [
             0.7777777777777778,
             "#fb9f3a"
            ],
            [
             0.8888888888888888,
             "#fdca26"
            ],
            [
             1,
             "#f0f921"
            ]
           ]
          },
          "colorway": [
           "#636efa",
           "#EF553B",
           "#00cc96",
           "#ab63fa",
           "#FFA15A",
           "#19d3f3",
           "#FF6692",
           "#B6E880",
           "#FF97FF",
           "#FECB52"
          ],
          "font": {
           "color": "#2a3f5f"
          },
          "geo": {
           "bgcolor": "white",
           "lakecolor": "white",
           "landcolor": "#E5ECF6",
           "showlakes": true,
           "showland": true,
           "subunitcolor": "white"
          },
          "hoverlabel": {
           "align": "left"
          },
          "hovermode": "closest",
          "mapbox": {
           "style": "light"
          },
          "paper_bgcolor": "white",
          "plot_bgcolor": "#E5ECF6",
          "polar": {
           "angularaxis": {
            "gridcolor": "white",
            "linecolor": "white",
            "ticks": ""
           },
           "bgcolor": "#E5ECF6",
           "radialaxis": {
            "gridcolor": "white",
            "linecolor": "white",
            "ticks": ""
           }
          },
          "scene": {
           "xaxis": {
            "backgroundcolor": "#E5ECF6",
            "gridcolor": "white",
            "gridwidth": 2,
            "linecolor": "white",
            "showbackground": true,
            "ticks": "",
            "zerolinecolor": "white"
           },
           "yaxis": {
            "backgroundcolor": "#E5ECF6",
            "gridcolor": "white",
            "gridwidth": 2,
            "linecolor": "white",
            "showbackground": true,
            "ticks": "",
            "zerolinecolor": "white"
           },
           "zaxis": {
            "backgroundcolor": "#E5ECF6",
            "gridcolor": "white",
            "gridwidth": 2,
            "linecolor": "white",
            "showbackground": true,
            "ticks": "",
            "zerolinecolor": "white"
           }
          },
          "shapedefaults": {
           "line": {
            "color": "#2a3f5f"
           }
          },
          "ternary": {
           "aaxis": {
            "gridcolor": "white",
            "linecolor": "white",
            "ticks": ""
           },
           "baxis": {
            "gridcolor": "white",
            "linecolor": "white",
            "ticks": ""
           },
           "bgcolor": "#E5ECF6",
           "caxis": {
            "gridcolor": "white",
            "linecolor": "white",
            "ticks": ""
           }
          },
          "title": {
           "x": 0.05
          },
          "xaxis": {
           "automargin": true,
           "gridcolor": "white",
           "linecolor": "white",
           "ticks": "",
           "title": {
            "standoff": 15
           },
           "zerolinecolor": "white",
           "zerolinewidth": 2
          },
          "yaxis": {
           "automargin": true,
           "gridcolor": "white",
           "linecolor": "white",
           "ticks": "",
           "title": {
            "standoff": 15
           },
           "zerolinecolor": "white",
           "zerolinewidth": 2
          }
         }
        },
        "title": {
         "text": "Last Author Country with Corresponding Income level"
        },
        "width": 1500,
        "xaxis": {
         "anchor": "y",
         "autorange": true,
         "categoryorder": "total descending",
         "domain": [
          0,
          1
         ],
         "range": [
          -0.5,
          190.5
         ],
         "tickfont": {
          "size": 5
         },
         "title": {
          "text": "Country Name"
         },
         "type": "category"
        },
        "yaxis": {
         "anchor": "x",
         "autorange": true,
         "domain": [
          0,
          1
         ],
         "range": [
          -0.30100706706215913,
          5.719134274181022
         ],
         "title": {
          "text": "Log of Articles Count"
         },
         "type": "log"
        }
       }
      },
      "image/png": "[encoded data removed]",
      "text/html": [
       "<div>                            <div id=\"9df8c937-59a3-4343-b091-c7c91ea43670\" class=\"plotly-graph-div\" style=\"height:800px; width:1500px;\"></div>            <script type=\"text/javascript\">                require([\"plotly\"], function(Plotly) {                    window.PLOTLYENV=window.PLOTLYENV || {};                                    if (document.getElementById(\"9df8c937-59a3-4343-b091-c7c91ea43670\")) {                    Plotly.newPlot(                        \"9df8c937-59a3-4343-b091-c7c91ea43670\",                        [{\"alignmentgroup\":\"True\",\"hovertemplate\":\"Income group=High income<br>Country Name=%{x}<br>Log of Articles Count=%{y}<extra></extra>\",\"legendgroup\":\"High income\",\"marker\":{\"color\":\"blue\",\"pattern\":{\"shape\":\"\"}},\"name\":\"High income\",\"offsetgroup\":\"High income\",\"orientation\":\"v\",\"showlegend\":true,\"textposition\":\"auto\",\"texttemplate\":\"%{y}\",\"x\":[\"United States\",\"Spain\",\"United Kingdom\",\"Italy\",\"Germany\",\"Australia\",\"Canada\",\"Korea, Rep.\",\"Japan\",\"Poland\",\"France\",\"Netherlands\",\"Sweden\",\"Portugal\",\"Switzerland\",\"Belgium\",\"Denmark\",\"Greece\",\"Finland\",\"Norway\",\"Austria\",\"Czechia\",\"Saudi Arabia\",\"Romania\",\"New Zealand\",\"Chile\",\"Singapore\",\"Hungary\",\"Israel\",\"Ireland\",\"Slovak Republic\",\"Slovenia\",\"Lithuania\",\"Croatia\",\"United Arab Emirates\",\"Estonia\",\"Cyprus\",\"Qatar\",\"Oman\",\"Kuwait\",\"Iceland\",\"Latvia\",\"Luxembourg\",\"Uruguay\",\"Brunei Darussalam\",\"Trinidad and Tobago\",\"Panama\",\"Monaco\",\"Bahrain\",\"Malta\",\"Greenland\",\"New Caledonia\",\"French Polynesia\",\"Barbados\",\"Bermuda\",\"Seychelles\",\"Guyana\",\"Faroe Islands\",\"Bahamas, The\",\"Andorra\",\"St. Kitts and Nevis\",\"Liechtenstein\",\"Isle of Man\",\"Curacao\",\"San Marino\"],\"xaxis\":\"x\",\"y\":[132677,33032,32439,30663,30094,28444,27646,25173,20901,19625,18169,12608,10436,9790,8564,7323,6494,6327,6264,5934,5013,4924,4911,4168,3448,3218,3216,3144,2859,2744,2058,1563,1511,1422,1100,968,875,823,770,399,346,304,263,262,137,108,85,79,77,76,66,65,40,31,21,17,13,9,8,7,3,2,1,1,1],\"yaxis\":\"y\",\"type\":\"bar\",\"cliponaxis\":false},{\"alignmentgroup\":\"True\",\"hovertemplate\":\"Income group=Upper middle income<br>Country Name=%{x}<br>Log of Articles Count=%{y}<extra></extra>\",\"legendgroup\":\"Upper middle income\",\"marker\":{\"color\":\"green\",\"pattern\":{\"shape\":\"\"}},\"name\":\"Upper middle income\",\"offsetgroup\":\"Upper middle income\",\"orientation\":\"v\",\"showlegend\":true,\"textposition\":\"auto\",\"texttemplate\":\"%{y}\",\"x\":[\"China\",\"Brazil\",\"Russian Federation\",\"Indonesia\",\"Malaysia\",\"Turkiye\",\"Mexico\",\"South Africa\",\"Thailand\",\"Argentina\",\"Colombia\",\"Serbia\",\"Iraq\",\"Kazakhstan\",\"Peru\",\"Ecuador\",\"Bulgaria\",\"Costa Rica\",\"Georgia\",\"Belarus\",\"West Bank and Gaza\",\"Botswana\",\"North Macedonia\",\"Cuba\",\"Azerbaijan\",\"Bosnia and Herzegovina\",\"Fiji\",\"Armenia\",\"Kosovo\",\"Namibia\",\"Mauritius\",\"Albania\",\"Moldova\",\"Montenegro\",\"Jamaica\",\"Libya\",\"Guatemala\",\"Turkmenistan\",\"Paraguay\",\"Suriname\",\"Maldives\",\"Palau\",\"Dominican Republic\",\"Grenada\",\"Belize\",\"Tonga\",\"El Salvador\",\"Gabon\",\"St. Vincent and the Grenadines\",\"St. Lucia\",\"Tuvalu\"],\"xaxis\":\"x\",\"y\":[261895,24530,24432,23765,12048,10328,8649,7332,4759,3867,2495,2408,1580,1096,686,624,623,326,291,198,189,160,144,123,120,113,91,90,81,76,69,63,61,59,36,27,20,19,15,13,11,9,8,6,4,4,4,4,2,2,1],\"yaxis\":\"y\",\"type\":\"bar\",\"cliponaxis\":false},{\"alignmentgroup\":\"True\",\"hovertemplate\":\"Income group=Lower middle income<br>Country Name=%{x}<br>Log of Articles Count=%{y}<extra></extra>\",\"legendgroup\":\"Lower middle income\",\"marker\":{\"color\":\"yellow\",\"pattern\":{\"shape\":\"\"}},\"name\":\"Lower middle income\",\"offsetgroup\":\"Lower middle income\",\"orientation\":\"v\",\"showlegend\":true,\"textposition\":\"auto\",\"texttemplate\":\"%{y}\",\"x\":[\"India\",\"Iran, Islamic Rep.\",\"Pakistan\",\"Egypt, Arab Rep.\",\"Nigeria\",\"Vietnam\",\"Morocco\",\"Tunisia\",\"Bangladesh\",\"Uzbekistan\",\"Ukraine\",\"Algeria\",\"Philippines\",\"Ghana\",\"Nepal\",\"Kenya\",\"Sri Lanka\",\"Jordan\",\"Lebanon\",\"Tanzania\",\"Cameroon\",\"Zimbabwe\",\"Benin\",\"Mongolia\",\"Kyrgyz Republic\",\"Cote d'Ivoire\",\"Senegal\",\"Zambia\",\"Cambodia\",\"Bolivia\",\"Tajikistan\",\"Myanmar\",\"Lao PDR\",\"Bhutan\",\"Papua New Guinea\",\"Lesotho\",\"Nicaragua\",\"Honduras\",\"Samoa\",\"Vanuatu\",\"Eswatini\",\"Djibouti\",\"Mauritania\",\"Micronesia, Fed. Sts.\",\"Congo, Rep.\",\"Haiti\",\"Angola\",\"Timor-Leste\",\"Solomon Islands\",\"Sao Tome and Principe\",\"Cabo Verde\"],\"xaxis\":\"x\",\"y\":[38635,18636,6534,5001,3329,2551,2111,1980,1822,1672,1635,1409,1092,988,887,859,747,547,505,370,312,217,143,131,117,100,85,66,61,60,57,36,28,20,18,14,14,13,11,10,10,9,8,7,7,6,4,3,2,1,1],\"yaxis\":\"y\",\"type\":\"bar\",\"cliponaxis\":false},{\"alignmentgroup\":\"True\",\"hovertemplate\":\"Income group=Low income<br>Country Name=%{x}<br>Log of Articles Count=%{y}<extra></extra>\",\"legendgroup\":\"Low income\",\"marker\":{\"color\":\"#FFA15A\",\"pattern\":{\"shape\":\"\"}},\"name\":\"Low income\",\"offsetgroup\":\"Low income\",\"orientation\":\"v\",\"showlegend\":true,\"textposition\":\"auto\",\"texttemplate\":\"%{y}\",\"x\":[\"Ethiopia\",\"Uganda\",\"Syrian Arab Republic\",\"Malawi\",\"Burkina Faso\",\"Rwanda\",\"Congo, Dem. Rep.\",\"Togo\",\"Mozambique\",\"Sudan\",\"Mali\",\"Yemen, Rep.\",\"Madagascar\",\"Niger\",\"Burundi\",\"Afghanistan\",\"Sierra Leone\",\"Gambia, The\",\"Somalia\",\"South Sudan\",\"Liberia\",\"Chad\",\"Guinea-Bissau\",\"Central African Republic\"],\"xaxis\":\"x\",\"y\":[1156,298,105,82,80,72,70,49,49,48,44,32,30,27,23,21,20,12,8,2,2,2,1,1],\"yaxis\":\"y\",\"type\":\"bar\",\"cliponaxis\":false}],                        {\"template\":{\"data\":{\"histogram2dcontour\":[{\"type\":\"histogram2dcontour\",\"colorbar\":{\"outlinewidth\":0,\"ticks\":\"\"},\"colorscale\":[[0.0,\"#0d0887\"],[0.1111111111111111,\"#46039f\"],[0.2222222222222222,\"#7201a8\"],[0.3333333333333333,\"#9c179e\"],[0.4444444444444444,\"#bd3786\"],[0.5555555555555556,\"#d8576b\"],[0.6666666666666666,\"#ed7953\"],[0.7777777777777778,\"#fb9f3a\"],[0.8888888888888888,\"#fdca26\"],[1.0,\"#f0f921\"]]}],\"choropleth\":[{\"type\":\"choropleth\",\"colorbar\":{\"outlinewidth\":0,\"ticks\":\"\"}}],\"histogram2d\":[{\"type\":\"histogram2d\",\"colorbar\":{\"outlinewidth\":0,\"ticks\":\"\"},\"colorscale\":[[0.0,\"#0d0887\"],[0.1111111111111111,\"#46039f\"],[0.2222222222222222,\"#7201a8\"],[0.3333333333333333,\"#9c179e\"],[0.4444444444444444,\"#bd3786\"],[0.5555555555555556,\"#d8576b\"],[0.6666666666666666,\"#ed7953\"],[0.7777777777777778,\"#fb9f3a\"],[0.8888888888888888,\"#fdca26\"],[1.0,\"#f0f921\"]]}],\"heatmap\":[{\"type\":\"heatmap\",\"colorbar\":{\"outlinewidth\":0,\"ticks\":\"\"},\"colorscale\":[[0.0,\"#0d0887\"],[0.1111111111111111,\"#46039f\"],[0.2222222222222222,\"#7201a8\"],[0.3333333333333333,\"#9c179e\"],[0.4444444444444444,\"#bd3786\"],[0.5555555555555556,\"#d8576b\"],[0.6666666666666666,\"#ed7953\"],[0.7777777777777778,\"#fb9f3a\"],[0.8888888888888888,\"#fdca26\"],[1.0,\"#f0f921\"]]}],\"heatmapgl\":[{\"type\":\"heatmapgl\",\"colorbar\":{\"outlinewidth\":0,\"ticks\":\"\"},\"colorscale\":[[0.0,\"#0d0887\"],[0.1111111111111111,\"#46039f\"],[0.2222222222222222,\"#7201a8\"],[0.3333333333333333,\"#9c179e\"],[0.4444444444444444,\"#bd3786\"],[0.5555555555555556,\"#d8576b\"],[0.6666666666666666,\"#ed7953\"],[0.7777777777777778,\"#fb9f3a\"],[0.8888888888888888,\"#fdca26\"],[1.0,\"#f0f921\"]]}],\"contourcarpet\":[{\"type\":\"contourcarpet\",\"colorbar\":{\"outlinewidth\":0,\"ticks\":\"\"}}],\"contour\":[{\"type\":\"contour\",\"colorbar\":{\"outlinewidth\":0,\"ticks\":\"\"},\"colorscale\":[[0.0,\"#0d0887\"],[0.1111111111111111,\"#46039f\"],[0.2222222222222222,\"#7201a8\"],[0.3333333333333333,\"#9c179e\"],[0.4444444444444444,\"#bd3786\"],[0.5555555555555556,\"#d8576b\"],[0.6666666666666666,\"#ed7953\"],[0.7777777777777778,\"#fb9f3a\"],[0.8888888888888888,\"#fdca26\"],[1.0,\"#f0f921\"]]}],\"surface\":[{\"type\":\"surface\",\"colorbar\":{\"outlinewidth\":0,\"ticks\":\"\"},\"colorscale\":[[0.0,\"#0d0887\"],[0.1111111111111111,\"#46039f\"],[0.2222222222222222,\"#7201a8\"],[0.3333333333333333,\"#9c179e\"],[0.4444444444444444,\"#bd3786\"],[0.5555555555555556,\"#d8576b\"],[0.6666666666666666,\"#ed7953\"],[0.7777777777777778,\"#fb9f3a\"],[0.8888888888888888,\"#fdca26\"],[1.0,\"#f0f921\"]]}],\"mesh3d\":[{\"type\":\"mesh3d\",\"colorbar\":{\"outlinewidth\":0,\"ticks\":\"\"}}],\"scatter\":[{\"fillpattern\":{\"fillmode\":\"overlay\",\"size\":10,\"solidity\":0.2},\"type\":\"scatter\"}],\"parcoords\":[{\"type\":\"parcoords\",\"line\":{\"colorbar\":{\"outlinewidth\":0,\"ticks\":\"\"}}}],\"scatterpolargl\":[{\"type\":\"scatterpolargl\",\"marker\":{\"colorbar\":{\"outlinewidth\":0,\"ticks\":\"\"}}}],\"bar\":[{\"error_x\":{\"color\":\"#2a3f5f\"},\"error_y\":{\"color\":\"#2a3f5f\"},\"marker\":{\"line\":{\"color\":\"#E5ECF6\",\"width\":0.5},\"pattern\":{\"fillmode\":\"overlay\",\"size\":10,\"solidity\":0.2}},\"type\":\"bar\"}],\"scattergeo\":[{\"type\":\"scattergeo\",\"marker\":{\"colorbar\":{\"outlinewidth\":0,\"ticks\":\"\"}}}],\"scatterpolar\":[{\"type\":\"scatterpolar\",\"marker\":{\"colorbar\":{\"outlinewidth\":0,\"ticks\":\"\"}}}],\"histogram\":[{\"marker\":{\"pattern\":{\"fillmode\":\"overlay\",\"size\":10,\"solidity\":0.2}},\"type\":\"histogram\"}],\"scattergl\":[{\"type\":\"scattergl\",\"marker\":{\"colorbar\":{\"outlinewidth\":0,\"ticks\":\"\"}}}],\"scatter3d\":[{\"type\":\"scatter3d\",\"line\":{\"colorbar\":{\"outlinewidth\":0,\"ticks\":\"\"}},\"marker\":{\"colorbar\":{\"outlinewidth\":0,\"ticks\":\"\"}}}],\"scattermapbox\":[{\"type\":\"scattermapbox\",\"marker\":{\"colorbar\":{\"outlinewidth\":0,\"ticks\":\"\"}}}],\"scatterternary\":[{\"type\":\"scatterternary\",\"marker\":{\"colorbar\":{\"outlinewidth\":0,\"ticks\":\"\"}}}],\"scattercarpet\":[{\"type\":\"scattercarpet\",\"marker\":{\"colorbar\":{\"outlinewidth\":0,\"ticks\":\"\"}}}],\"carpet\":[{\"aaxis\":{\"endlinecolor\":\"#2a3f5f\",\"gridcolor\":\"white\",\"linecolor\":\"white\",\"minorgridcolor\":\"white\",\"startlinecolor\":\"#2a3f5f\"},\"baxis\":{\"endlinecolor\":\"#2a3f5f\",\"gridcolor\":\"white\",\"linecolor\":\"white\",\"minorgridcolor\":\"white\",\"startlinecolor\":\"#2a3f5f\"},\"type\":\"carpet\"}],\"table\":[{\"cells\":{\"fill\":{\"color\":\"#EBF0F8\"},\"line\":{\"color\":\"white\"}},\"header\":{\"fill\":{\"color\":\"#C8D4E3\"},\"line\":{\"color\":\"white\"}},\"type\":\"table\"}],\"barpolar\":[{\"marker\":{\"line\":{\"color\":\"#E5ECF6\",\"width\":0.5},\"pattern\":{\"fillmode\":\"overlay\",\"size\":10,\"solidity\":0.2}},\"type\":\"barpolar\"}],\"pie\":[{\"automargin\":true,\"type\":\"pie\"}]},\"layout\":{\"autotypenumbers\":\"strict\",\"colorway\":[\"#636efa\",\"#EF553B\",\"#00cc96\",\"#ab63fa\",\"#FFA15A\",\"#19d3f3\",\"#FF6692\",\"#B6E880\",\"#FF97FF\",\"#FECB52\"],\"font\":{\"color\":\"#2a3f5f\"},\"hovermode\":\"closest\",\"hoverlabel\":{\"align\":\"left\"},\"paper_bgcolor\":\"white\",\"plot_bgcolor\":\"#E5ECF6\",\"polar\":{\"bgcolor\":\"#E5ECF6\",\"angularaxis\":{\"gridcolor\":\"white\",\"linecolor\":\"white\",\"ticks\":\"\"},\"radialaxis\":{\"gridcolor\":\"white\",\"linecolor\":\"white\",\"ticks\":\"\"}},\"ternary\":{\"bgcolor\":\"#E5ECF6\",\"aaxis\":{\"gridcolor\":\"white\",\"linecolor\":\"white\",\"ticks\":\"\"},\"baxis\":{\"gridcolor\":\"white\",\"linecolor\":\"white\",\"ticks\":\"\"},\"caxis\":{\"gridcolor\":\"white\",\"linecolor\":\"white\",\"ticks\":\"\"}},\"coloraxis\":{\"colorbar\":{\"outlinewidth\":0,\"ticks\":\"\"}},\"colorscale\":{\"sequential\":[[0.0,\"#0d0887\"],[0.1111111111111111,\"#46039f\"],[0.2222222222222222,\"#7201a8\"],[0.3333333333333333,\"#9c179e\"],[0.4444444444444444,\"#bd3786\"],[0.5555555555555556,\"#d8576b\"],[0.6666666666666666,\"#ed7953\"],[0.7777777777777778,\"#fb9f3a\"],[0.8888888888888888,\"#fdca26\"],[1.0,\"#f0f921\"]],\"sequentialminus\":[[0.0,\"#0d0887\"],[0.1111111111111111,\"#46039f\"],[0.2222222222222222,\"#7201a8\"],[0.3333333333333333,\"#9c179e\"],[0.4444444444444444,\"#bd3786\"],[0.5555555555555556,\"#d8576b\"],[0.6666666666666666,\"#ed7953\"],[0.7777777777777778,\"#fb9f3a\"],[0.8888888888888888,\"#fdca26\"],[1.0,\"#f0f921\"]],\"diverging\":[[0,\"#8e0152\"],[0.1,\"#c51b7d\"],[0.2,\"#de77ae\"],[0.3,\"#f1b6da\"],[0.4,\"#fde0ef\"],[0.5,\"#f7f7f7\"],[0.6,\"#e6f5d0\"],[0.7,\"#b8e186\"],[0.8,\"#7fbc41\"],[0.9,\"#4d9221\"],[1,\"#276419\"]]},\"xaxis\":{\"gridcolor\":\"white\",\"linecolor\":\"white\",\"ticks\":\"\",\"title\":{\"standoff\":15},\"zerolinecolor\":\"white\",\"automargin\":true,\"zerolinewidth\":2},\"yaxis\":{\"gridcolor\":\"white\",\"linecolor\":\"white\",\"ticks\":\"\",\"title\":{\"standoff\":15},\"zerolinecolor\":\"white\",\"automargin\":true,\"zerolinewidth\":2},\"scene\":{\"xaxis\":{\"backgroundcolor\":\"#E5ECF6\",\"gridcolor\":\"white\",\"linecolor\":\"white\",\"showbackground\":true,\"ticks\":\"\",\"zerolinecolor\":\"white\",\"gridwidth\":2},\"yaxis\":{\"backgroundcolor\":\"#E5ECF6\",\"gridcolor\":\"white\",\"linecolor\":\"white\",\"showbackground\":true,\"ticks\":\"\",\"zerolinecolor\":\"white\",\"gridwidth\":2},\"zaxis\":{\"backgroundcolor\":\"#E5ECF6\",\"gridcolor\":\"white\",\"linecolor\":\"white\",\"showbackground\":true,\"ticks\":\"\",\"zerolinecolor\":\"white\",\"gridwidth\":2}},\"shapedefaults\":{\"line\":{\"color\":\"#2a3f5f\"}},\"annotationdefaults\":{\"arrowcolor\":\"#2a3f5f\",\"arrowhead\":0,\"arrowwidth\":1},\"geo\":{\"bgcolor\":\"white\",\"landcolor\":\"#E5ECF6\",\"subunitcolor\":\"white\",\"showland\":true,\"showlakes\":true,\"lakecolor\":\"white\"},\"title\":{\"x\":0.05},\"mapbox\":{\"style\":\"light\"}}},\"xaxis\":{\"anchor\":\"y\",\"domain\":[0.0,1.0],\"title\":{\"text\":\"Country Name\"},\"categoryorder\":\"total descending\",\"tickfont\":{\"size\":5}},\"yaxis\":{\"anchor\":\"x\",\"domain\":[0.0,1.0],\"title\":{\"text\":\"Log of Articles Count\"},\"type\":\"log\"},\"legend\":{\"title\":{\"text\":\"Income group\"},\"tracegroupgap\":0},\"title\":{\"text\":\"Last Author Country with Corresponding Income level\"},\"barmode\":\"relative\",\"height\":800,\"width\":1500},                        {\"responsive\": true}                    ).then(function(){\n",
       "                            \n",
       "var gd = document.getElementById('9df8c937-59a3-4343-b091-c7c91ea43670');\n",
       "var x = new MutationObserver(function (mutations, observer) {{\n",
       "        var display = window.getComputedStyle(gd).display;\n",
       "        if (!display || display === 'none') {{\n",
       "            console.log([gd, 'removed!']);\n",
       "            Plotly.purge(gd);\n",
       "            observer.disconnect();\n",
       "        }}\n",
       "}});\n",
       "\n",
       "// Listen for the removal of the full notebook cells\n",
       "var notebookContainer = gd.closest('#notebook-container');\n",
       "if (notebookContainer) {{\n",
       "    x.observe(notebookContainer, {childList: true});\n",
       "}}\n",
       "\n",
       "// Listen for the clearing of the current output cell\n",
       "var outputEl = gd.closest('.output');\n",
       "if (outputEl) {{\n",
       "    x.observe(outputEl, {childList: true});\n",
       "}}\n",
       "\n",
       "                        })                };                });            </script>        </div>"
      ]
     },
     "metadata": {},
     "output_type": "display_data"
    }
   ],
   "source": [
    "import plotly.express as px\n",
    "fig=px.bar(last_author_ctry_data, x='Country Name', y='Articles Count', color='Income group', log_y=True, color_discrete_map={\n",
    "                'High income': 'blue',\n",
    "                'Upper middle income' : 'green',\n",
    "                'Lower middle income': 'yellow',\n",
    "                'Low Income' : 'red'},\n",
    "           labels={\"Articles Count\": \"Log of Articles Count\"},\n",
    "           title='Last Author Country with Corresponding Income level',\n",
    "               category_orders={'Income group':['High income', 'Upper middle income', 'Lower middle income','Low Income']}, width=1500, height=800, text_auto=True)\n",
    "fig.update_layout(xaxis_categoryorder = 'total descending')\n",
    "fig.update_layout(\n",
    "xaxis = dict(\n",
    "tickfont = dict(size=5)))\n",
    "fig.update_traces(cliponaxis=False)\n",
    "'''\n",
    "fig.update_layout(color_discrete_map={\n",
    "                'High income': 'blue',\n",
    "                'Upper middle income' : 'green',\n",
    "                'Lower middle income': 'yellow',\n",
    "                'Low Income' : 'red'})\n",
    "'''\n",
    "#fig.write_html(\"/Users/prathimagodha/Desktop/plot1.html\")\n",
    "fig.show()"
   ]
  },
  {
   "cell_type": "code",
   "execution_count": 57,
   "id": "e10a7d41",
   "metadata": {},
   "outputs": [],
   "source": [
    "last_aut_ctry_Income_grp=last_author_ctry_data.loc[:, ['Income group','Articles Count']].groupby('Income group').sum()\n",
    "last_aut_ctry_Income_grp=last_aut_ctry_Income_grp.sort_values(by='Articles Count', ascending=False)"
   ]
  },
  {
   "cell_type": "code",
   "execution_count": 58,
   "id": "da0deed4",
   "metadata": {},
   "outputs": [
    {
     "data": {
      "application/vnd.plotly.v1+json": {
       "config": {
        "plotlyServerURL": "https://plot.ly"
       },
       "data": [
        {
         "alignmentgroup": "True",
         "hovertemplate": "Income group=%{x}<br>Articles Count=%{y}<extra></extra>",
         "legendgroup": "High income",
         "marker": {
          "color": "#636efa",
          "pattern": {
           "shape": ""
          }
         },
         "name": "High income",
         "offsetgroup": "High income",
         "orientation": "v",
         "showlegend": true,
         "textposition": "auto",
         "texttemplate": "%{y}",
         "type": "bar",
         "x": [
          "High income"
         ],
         "xaxis": "x",
         "y": [
          523759
         ],
         "yaxis": "y"
        },
        {
         "alignmentgroup": "True",
         "hovertemplate": "Income group=%{x}<br>Articles Count=%{y}<extra></extra>",
         "legendgroup": "Upper middle income",
         "marker": {
          "color": "#EF553B",
          "pattern": {
           "shape": ""
          }
         },
         "name": "Upper middle income",
         "offsetgroup": "Upper middle income",
         "orientation": "v",
         "showlegend": true,
         "textposition": "auto",
         "texttemplate": "%{y}",
         "type": "bar",
         "x": [
          "Upper middle income"
         ],
         "xaxis": "x",
         "y": [
          393556
         ],
         "yaxis": "y"
        },
        {
         "alignmentgroup": "True",
         "hovertemplate": "Income group=%{x}<br>Articles Count=%{y}<extra></extra>",
         "legendgroup": "Lower middle income",
         "marker": {
          "color": "#00cc96",
          "pattern": {
           "shape": ""
          }
         },
         "name": "Lower middle income",
         "offsetgroup": "Lower middle income",
         "orientation": "v",
         "showlegend": true,
         "textposition": "auto",
         "texttemplate": "%{y}",
         "type": "bar",
         "x": [
          "Lower middle income"
         ],
         "xaxis": "x",
         "y": [
          92881
         ],
         "yaxis": "y"
        },
        {
         "alignmentgroup": "True",
         "hovertemplate": "Income group=%{x}<br>Articles Count=%{y}<extra></extra>",
         "legendgroup": "Low income",
         "marker": {
          "color": "#ab63fa",
          "pattern": {
           "shape": ""
          }
         },
         "name": "Low income",
         "offsetgroup": "Low income",
         "orientation": "v",
         "showlegend": true,
         "textposition": "auto",
         "texttemplate": "%{y}",
         "type": "bar",
         "x": [
          "Low income"
         ],
         "xaxis": "x",
         "y": [
          2234
         ],
         "yaxis": "y"
        }
       ],
       "layout": {
        "autosize": true,
        "barmode": "relative",
        "legend": {
         "title": {
          "text": "Income group"
         },
         "tracegroupgap": 0
        },
        "template": {
         "data": {
          "bar": [
           {
            "error_x": {
             "color": "#2a3f5f"
            },
            "error_y": {
             "color": "#2a3f5f"
            },
            "marker": {
             "line": {
              "color": "#E5ECF6",
              "width": 0.5
             },
             "pattern": {
              "fillmode": "overlay",
              "size": 10,
              "solidity": 0.2
             }
            },
            "type": "bar"
           }
          ],
          "barpolar": [
           {
            "marker": {
             "line": {
              "color": "#E5ECF6",
              "width": 0.5
             },
             "pattern": {
              "fillmode": "overlay",
              "size": 10,
              "solidity": 0.2
             }
            },
            "type": "barpolar"
           }
          ],
          "carpet": [
           {
            "aaxis": {
             "endlinecolor": "#2a3f5f",
             "gridcolor": "white",
             "linecolor": "white",
             "minorgridcolor": "white",
             "startlinecolor": "#2a3f5f"
            },
            "baxis": {
             "endlinecolor": "#2a3f5f",
             "gridcolor": "white",
             "linecolor": "white",
             "minorgridcolor": "white",
             "startlinecolor": "#2a3f5f"
            },
            "type": "carpet"
           }
          ],
          "choropleth": [
           {
            "colorbar": {
             "outlinewidth": 0,
             "ticks": ""
            },
            "type": "choropleth"
           }
          ],
          "contour": [
           {
            "colorbar": {
             "outlinewidth": 0,
             "ticks": ""
            },
            "colorscale": [
             [
              0,
              "#0d0887"
             ],
             [
              0.1111111111111111,
              "#46039f"
             ],
             [
              0.2222222222222222,
              "#7201a8"
             ],
             [
              0.3333333333333333,
              "#9c179e"
             ],
             [
              0.4444444444444444,
              "#bd3786"
             ],
             [
              0.5555555555555556,
              "#d8576b"
             ],
             [
              0.6666666666666666,
              "#ed7953"
             ],
             [
              0.7777777777777778,
              "#fb9f3a"
             ],
             [
              0.8888888888888888,
              "#fdca26"
             ],
             [
              1,
              "#f0f921"
             ]
            ],
            "type": "contour"
           }
          ],
          "contourcarpet": [
           {
            "colorbar": {
             "outlinewidth": 0,
             "ticks": ""
            },
            "type": "contourcarpet"
           }
          ],
          "heatmap": [
           {
            "colorbar": {
             "outlinewidth": 0,
             "ticks": ""
            },
            "colorscale": [
             [
              0,
              "#0d0887"
             ],
             [
              0.1111111111111111,
              "#46039f"
             ],
             [
              0.2222222222222222,
              "#7201a8"
             ],
             [
              0.3333333333333333,
              "#9c179e"
             ],
             [
              0.4444444444444444,
              "#bd3786"
             ],
             [
              0.5555555555555556,
              "#d8576b"
             ],
             [
              0.6666666666666666,
              "#ed7953"
             ],
             [
              0.7777777777777778,
              "#fb9f3a"
             ],
             [
              0.8888888888888888,
              "#fdca26"
             ],
             [
              1,
              "#f0f921"
             ]
            ],
            "type": "heatmap"
           }
          ],
          "heatmapgl": [
           {
            "colorbar": {
             "outlinewidth": 0,
             "ticks": ""
            },
            "colorscale": [
             [
              0,
              "#0d0887"
             ],
             [
              0.1111111111111111,
              "#46039f"
             ],
             [
              0.2222222222222222,
              "#7201a8"
             ],
             [
              0.3333333333333333,
              "#9c179e"
             ],
             [
              0.4444444444444444,
              "#bd3786"
             ],
             [
              0.5555555555555556,
              "#d8576b"
             ],
             [
              0.6666666666666666,
              "#ed7953"
             ],
             [
              0.7777777777777778,
              "#fb9f3a"
             ],
             [
              0.8888888888888888,
              "#fdca26"
             ],
             [
              1,
              "#f0f921"
             ]
            ],
            "type": "heatmapgl"
           }
          ],
          "histogram": [
           {
            "marker": {
             "pattern": {
              "fillmode": "overlay",
              "size": 10,
              "solidity": 0.2
             }
            },
            "type": "histogram"
           }
          ],
          "histogram2d": [
           {
            "colorbar": {
             "outlinewidth": 0,
             "ticks": ""
            },
            "colorscale": [
             [
              0,
              "#0d0887"
             ],
             [
              0.1111111111111111,
              "#46039f"
             ],
             [
              0.2222222222222222,
              "#7201a8"
             ],
             [
              0.3333333333333333,
              "#9c179e"
             ],
             [
              0.4444444444444444,
              "#bd3786"
             ],
             [
              0.5555555555555556,
              "#d8576b"
             ],
             [
              0.6666666666666666,
              "#ed7953"
             ],
             [
              0.7777777777777778,
              "#fb9f3a"
             ],
             [
              0.8888888888888888,
              "#fdca26"
             ],
             [
              1,
              "#f0f921"
             ]
            ],
            "type": "histogram2d"
           }
          ],
          "histogram2dcontour": [
           {
            "colorbar": {
             "outlinewidth": 0,
             "ticks": ""
            },
            "colorscale": [
             [
              0,
              "#0d0887"
             ],
             [
              0.1111111111111111,
              "#46039f"
             ],
             [
              0.2222222222222222,
              "#7201a8"
             ],
             [
              0.3333333333333333,
              "#9c179e"
             ],
             [
              0.4444444444444444,
              "#bd3786"
             ],
             [
              0.5555555555555556,
              "#d8576b"
             ],
             [
              0.6666666666666666,
              "#ed7953"
             ],
             [
              0.7777777777777778,
              "#fb9f3a"
             ],
             [
              0.8888888888888888,
              "#fdca26"
             ],
             [
              1,
              "#f0f921"
             ]
            ],
            "type": "histogram2dcontour"
           }
          ],
          "mesh3d": [
           {
            "colorbar": {
             "outlinewidth": 0,
             "ticks": ""
            },
            "type": "mesh3d"
           }
          ],
          "parcoords": [
           {
            "line": {
             "colorbar": {
              "outlinewidth": 0,
              "ticks": ""
             }
            },
            "type": "parcoords"
           }
          ],
          "pie": [
           {
            "automargin": true,
            "type": "pie"
           }
          ],
          "scatter": [
           {
            "fillpattern": {
             "fillmode": "overlay",
             "size": 10,
             "solidity": 0.2
            },
            "type": "scatter"
           }
          ],
          "scatter3d": [
           {
            "line": {
             "colorbar": {
              "outlinewidth": 0,
              "ticks": ""
             }
            },
            "marker": {
             "colorbar": {
              "outlinewidth": 0,
              "ticks": ""
             }
            },
            "type": "scatter3d"
           }
          ],
          "scattercarpet": [
           {
            "marker": {
             "colorbar": {
              "outlinewidth": 0,
              "ticks": ""
             }
            },
            "type": "scattercarpet"
           }
          ],
          "scattergeo": [
           {
            "marker": {
             "colorbar": {
              "outlinewidth": 0,
              "ticks": ""
             }
            },
            "type": "scattergeo"
           }
          ],
          "scattergl": [
           {
            "marker": {
             "colorbar": {
              "outlinewidth": 0,
              "ticks": ""
             }
            },
            "type": "scattergl"
           }
          ],
          "scattermapbox": [
           {
            "marker": {
             "colorbar": {
              "outlinewidth": 0,
              "ticks": ""
             }
            },
            "type": "scattermapbox"
           }
          ],
          "scatterpolar": [
           {
            "marker": {
             "colorbar": {
              "outlinewidth": 0,
              "ticks": ""
             }
            },
            "type": "scatterpolar"
           }
          ],
          "scatterpolargl": [
           {
            "marker": {
             "colorbar": {
              "outlinewidth": 0,
              "ticks": ""
             }
            },
            "type": "scatterpolargl"
           }
          ],
          "scatterternary": [
           {
            "marker": {
             "colorbar": {
              "outlinewidth": 0,
              "ticks": ""
             }
            },
            "type": "scatterternary"
           }
          ],
          "surface": [
           {
            "colorbar": {
             "outlinewidth": 0,
             "ticks": ""
            },
            "colorscale": [
             [
              0,
              "#0d0887"
             ],
             [
              0.1111111111111111,
              "#46039f"
             ],
             [
              0.2222222222222222,
              "#7201a8"
             ],
             [
              0.3333333333333333,
              "#9c179e"
             ],
             [
              0.4444444444444444,
              "#bd3786"
             ],
             [
              0.5555555555555556,
              "#d8576b"
             ],
             [
              0.6666666666666666,
              "#ed7953"
             ],
             [
              0.7777777777777778,
              "#fb9f3a"
             ],
             [
              0.8888888888888888,
              "#fdca26"
             ],
             [
              1,
              "#f0f921"
             ]
            ],
            "type": "surface"
           }
          ],
          "table": [
           {
            "cells": {
             "fill": {
              "color": "#EBF0F8"
             },
             "line": {
              "color": "white"
             }
            },
            "header": {
             "fill": {
              "color": "#C8D4E3"
             },
             "line": {
              "color": "white"
             }
            },
            "type": "table"
           }
          ]
         },
         "layout": {
          "annotationdefaults": {
           "arrowcolor": "#2a3f5f",
           "arrowhead": 0,
           "arrowwidth": 1
          },
          "autotypenumbers": "strict",
          "coloraxis": {
           "colorbar": {
            "outlinewidth": 0,
            "ticks": ""
           }
          },
          "colorscale": {
           "diverging": [
            [
             0,
             "#8e0152"
            ],
            [
             0.1,
             "#c51b7d"
            ],
            [
             0.2,
             "#de77ae"
            ],
            [
             0.3,
             "#f1b6da"
            ],
            [
             0.4,
             "#fde0ef"
            ],
            [
             0.5,
             "#f7f7f7"
            ],
            [
             0.6,
             "#e6f5d0"
            ],
            [
             0.7,
             "#b8e186"
            ],
            [
             0.8,
             "#7fbc41"
            ],
            [
             0.9,
             "#4d9221"
            ],
            [
             1,
             "#276419"
            ]
           ],
           "sequential": [
            [
             0,
             "#0d0887"
            ],
            [
             0.1111111111111111,
             "#46039f"
            ],
            [
             0.2222222222222222,
             "#7201a8"
            ],
            [
             0.3333333333333333,
             "#9c179e"
            ],
            [
             0.4444444444444444,
             "#bd3786"
            ],
            [
             0.5555555555555556,
             "#d8576b"
            ],
            [
             0.6666666666666666,
             "#ed7953"
            ],
            [
             0.7777777777777778,
             "#fb9f3a"
            ],
            [
             0.8888888888888888,
             "#fdca26"
            ],
            [
             1,
             "#f0f921"
            ]
           ],
           "sequentialminus": [
            [
             0,
             "#0d0887"
            ],
            [
             0.1111111111111111,
             "#46039f"
            ],
            [
             0.2222222222222222,
             "#7201a8"
            ],
            [
             0.3333333333333333,
             "#9c179e"
            ],
            [
             0.4444444444444444,
             "#bd3786"
            ],
            [
             0.5555555555555556,
             "#d8576b"
            ],
            [
             0.6666666666666666,
             "#ed7953"
            ],
            [
             0.7777777777777778,
             "#fb9f3a"
            ],
            [
             0.8888888888888888,
             "#fdca26"
            ],
            [
             1,
             "#f0f921"
            ]
           ]
          },
          "colorway": [
           "#636efa",
           "#EF553B",
           "#00cc96",
           "#ab63fa",
           "#FFA15A",
           "#19d3f3",
           "#FF6692",
           "#B6E880",
           "#FF97FF",
           "#FECB52"
          ],
          "font": {
           "color": "#2a3f5f"
          },
          "geo": {
           "bgcolor": "white",
           "lakecolor": "white",
           "landcolor": "#E5ECF6",
           "showlakes": true,
           "showland": true,
           "subunitcolor": "white"
          },
          "hoverlabel": {
           "align": "left"
          },
          "hovermode": "closest",
          "mapbox": {
           "style": "light"
          },
          "paper_bgcolor": "white",
          "plot_bgcolor": "#E5ECF6",
          "polar": {
           "angularaxis": {
            "gridcolor": "white",
            "linecolor": "white",
            "ticks": ""
           },
           "bgcolor": "#E5ECF6",
           "radialaxis": {
            "gridcolor": "white",
            "linecolor": "white",
            "ticks": ""
           }
          },
          "scene": {
           "xaxis": {
            "backgroundcolor": "#E5ECF6",
            "gridcolor": "white",
            "gridwidth": 2,
            "linecolor": "white",
            "showbackground": true,
            "ticks": "",
            "zerolinecolor": "white"
           },
           "yaxis": {
            "backgroundcolor": "#E5ECF6",
            "gridcolor": "white",
            "gridwidth": 2,
            "linecolor": "white",
            "showbackground": true,
            "ticks": "",
            "zerolinecolor": "white"
           },
           "zaxis": {
            "backgroundcolor": "#E5ECF6",
            "gridcolor": "white",
            "gridwidth": 2,
            "linecolor": "white",
            "showbackground": true,
            "ticks": "",
            "zerolinecolor": "white"
           }
          },
          "shapedefaults": {
           "line": {
            "color": "#2a3f5f"
           }
          },
          "ternary": {
           "aaxis": {
            "gridcolor": "white",
            "linecolor": "white",
            "ticks": ""
           },
           "baxis": {
            "gridcolor": "white",
            "linecolor": "white",
            "ticks": ""
           },
           "bgcolor": "#E5ECF6",
           "caxis": {
            "gridcolor": "white",
            "linecolor": "white",
            "ticks": ""
           }
          },
          "title": {
           "x": 0.05
          },
          "xaxis": {
           "automargin": true,
           "gridcolor": "white",
           "linecolor": "white",
           "ticks": "",
           "title": {
            "standoff": 15
           },
           "zerolinecolor": "white",
           "zerolinewidth": 2
          },
          "yaxis": {
           "automargin": true,
           "gridcolor": "white",
           "linecolor": "white",
           "ticks": "",
           "title": {
            "standoff": 15
           },
           "zerolinecolor": "white",
           "zerolinewidth": 2
          }
         }
        },
        "title": {
         "text": "Last Author Countries grouped by Income Level vs Publications count"
        },
        "xaxis": {
         "anchor": "y",
         "autorange": true,
         "categoryarray": [
          "High income",
          "Upper middle income",
          "Lower middle income",
          "Low income"
         ],
         "categoryorder": "array",
         "domain": [
          0,
          1
         ],
         "range": [
          -0.5,
          3.5
         ],
         "title": {
          "text": "Income group"
         },
         "type": "category"
        },
        "yaxis": {
         "anchor": "x",
         "autorange": true,
         "domain": [
          0,
          1
         ],
         "range": [
          0,
          551325.2631578947
         ],
         "title": {
          "text": "Articles Count"
         },
         "type": "linear"
        }
       }
      },
      "image/png": "[encoded data removed]",
      "text/html": [
       "<div>                            <div id=\"74cd99c5-80b2-45f3-9c62-433dd9c530ac\" class=\"plotly-graph-div\" style=\"height:525px; width:100%;\"></div>            <script type=\"text/javascript\">                require([\"plotly\"], function(Plotly) {                    window.PLOTLYENV=window.PLOTLYENV || {};                                    if (document.getElementById(\"74cd99c5-80b2-45f3-9c62-433dd9c530ac\")) {                    Plotly.newPlot(                        \"74cd99c5-80b2-45f3-9c62-433dd9c530ac\",                        [{\"alignmentgroup\":\"True\",\"hovertemplate\":\"Income group=%{x}<br>Articles Count=%{y}<extra></extra>\",\"legendgroup\":\"High income\",\"marker\":{\"color\":\"#636efa\",\"pattern\":{\"shape\":\"\"}},\"name\":\"High income\",\"offsetgroup\":\"High income\",\"orientation\":\"v\",\"showlegend\":true,\"textposition\":\"auto\",\"texttemplate\":\"%{y}\",\"x\":[\"High income\"],\"xaxis\":\"x\",\"y\":[523759],\"yaxis\":\"y\",\"type\":\"bar\"},{\"alignmentgroup\":\"True\",\"hovertemplate\":\"Income group=%{x}<br>Articles Count=%{y}<extra></extra>\",\"legendgroup\":\"Upper middle income\",\"marker\":{\"color\":\"#EF553B\",\"pattern\":{\"shape\":\"\"}},\"name\":\"Upper middle income\",\"offsetgroup\":\"Upper middle income\",\"orientation\":\"v\",\"showlegend\":true,\"textposition\":\"auto\",\"texttemplate\":\"%{y}\",\"x\":[\"Upper middle income\"],\"xaxis\":\"x\",\"y\":[393556],\"yaxis\":\"y\",\"type\":\"bar\"},{\"alignmentgroup\":\"True\",\"hovertemplate\":\"Income group=%{x}<br>Articles Count=%{y}<extra></extra>\",\"legendgroup\":\"Lower middle income\",\"marker\":{\"color\":\"#00cc96\",\"pattern\":{\"shape\":\"\"}},\"name\":\"Lower middle income\",\"offsetgroup\":\"Lower middle income\",\"orientation\":\"v\",\"showlegend\":true,\"textposition\":\"auto\",\"texttemplate\":\"%{y}\",\"x\":[\"Lower middle income\"],\"xaxis\":\"x\",\"y\":[92881],\"yaxis\":\"y\",\"type\":\"bar\"},{\"alignmentgroup\":\"True\",\"hovertemplate\":\"Income group=%{x}<br>Articles Count=%{y}<extra></extra>\",\"legendgroup\":\"Low income\",\"marker\":{\"color\":\"#ab63fa\",\"pattern\":{\"shape\":\"\"}},\"name\":\"Low income\",\"offsetgroup\":\"Low income\",\"orientation\":\"v\",\"showlegend\":true,\"textposition\":\"auto\",\"texttemplate\":\"%{y}\",\"x\":[\"Low income\"],\"xaxis\":\"x\",\"y\":[2234],\"yaxis\":\"y\",\"type\":\"bar\"}],                        {\"template\":{\"data\":{\"histogram2dcontour\":[{\"type\":\"histogram2dcontour\",\"colorbar\":{\"outlinewidth\":0,\"ticks\":\"\"},\"colorscale\":[[0.0,\"#0d0887\"],[0.1111111111111111,\"#46039f\"],[0.2222222222222222,\"#7201a8\"],[0.3333333333333333,\"#9c179e\"],[0.4444444444444444,\"#bd3786\"],[0.5555555555555556,\"#d8576b\"],[0.6666666666666666,\"#ed7953\"],[0.7777777777777778,\"#fb9f3a\"],[0.8888888888888888,\"#fdca26\"],[1.0,\"#f0f921\"]]}],\"choropleth\":[{\"type\":\"choropleth\",\"colorbar\":{\"outlinewidth\":0,\"ticks\":\"\"}}],\"histogram2d\":[{\"type\":\"histogram2d\",\"colorbar\":{\"outlinewidth\":0,\"ticks\":\"\"},\"colorscale\":[[0.0,\"#0d0887\"],[0.1111111111111111,\"#46039f\"],[0.2222222222222222,\"#7201a8\"],[0.3333333333333333,\"#9c179e\"],[0.4444444444444444,\"#bd3786\"],[0.5555555555555556,\"#d8576b\"],[0.6666666666666666,\"#ed7953\"],[0.7777777777777778,\"#fb9f3a\"],[0.8888888888888888,\"#fdca26\"],[1.0,\"#f0f921\"]]}],\"heatmap\":[{\"type\":\"heatmap\",\"colorbar\":{\"outlinewidth\":0,\"ticks\":\"\"},\"colorscale\":[[0.0,\"#0d0887\"],[0.1111111111111111,\"#46039f\"],[0.2222222222222222,\"#7201a8\"],[0.3333333333333333,\"#9c179e\"],[0.4444444444444444,\"#bd3786\"],[0.5555555555555556,\"#d8576b\"],[0.6666666666666666,\"#ed7953\"],[0.7777777777777778,\"#fb9f3a\"],[0.8888888888888888,\"#fdca26\"],[1.0,\"#f0f921\"]]}],\"heatmapgl\":[{\"type\":\"heatmapgl\",\"colorbar\":{\"outlinewidth\":0,\"ticks\":\"\"},\"colorscale\":[[0.0,\"#0d0887\"],[0.1111111111111111,\"#46039f\"],[0.2222222222222222,\"#7201a8\"],[0.3333333333333333,\"#9c179e\"],[0.4444444444444444,\"#bd3786\"],[0.5555555555555556,\"#d8576b\"],[0.6666666666666666,\"#ed7953\"],[0.7777777777777778,\"#fb9f3a\"],[0.8888888888888888,\"#fdca26\"],[1.0,\"#f0f921\"]]}],\"contourcarpet\":[{\"type\":\"contourcarpet\",\"colorbar\":{\"outlinewidth\":0,\"ticks\":\"\"}}],\"contour\":[{\"type\":\"contour\",\"colorbar\":{\"outlinewidth\":0,\"ticks\":\"\"},\"colorscale\":[[0.0,\"#0d0887\"],[0.1111111111111111,\"#46039f\"],[0.2222222222222222,\"#7201a8\"],[0.3333333333333333,\"#9c179e\"],[0.4444444444444444,\"#bd3786\"],[0.5555555555555556,\"#d8576b\"],[0.6666666666666666,\"#ed7953\"],[0.7777777777777778,\"#fb9f3a\"],[0.8888888888888888,\"#fdca26\"],[1.0,\"#f0f921\"]]}],\"surface\":[{\"type\":\"surface\",\"colorbar\":{\"outlinewidth\":0,\"ticks\":\"\"},\"colorscale\":[[0.0,\"#0d0887\"],[0.1111111111111111,\"#46039f\"],[0.2222222222222222,\"#7201a8\"],[0.3333333333333333,\"#9c179e\"],[0.4444444444444444,\"#bd3786\"],[0.5555555555555556,\"#d8576b\"],[0.6666666666666666,\"#ed7953\"],[0.7777777777777778,\"#fb9f3a\"],[0.8888888888888888,\"#fdca26\"],[1.0,\"#f0f921\"]]}],\"mesh3d\":[{\"type\":\"mesh3d\",\"colorbar\":{\"outlinewidth\":0,\"ticks\":\"\"}}],\"scatter\":[{\"fillpattern\":{\"fillmode\":\"overlay\",\"size\":10,\"solidity\":0.2},\"type\":\"scatter\"}],\"parcoords\":[{\"type\":\"parcoords\",\"line\":{\"colorbar\":{\"outlinewidth\":0,\"ticks\":\"\"}}}],\"scatterpolargl\":[{\"type\":\"scatterpolargl\",\"marker\":{\"colorbar\":{\"outlinewidth\":0,\"ticks\":\"\"}}}],\"bar\":[{\"error_x\":{\"color\":\"#2a3f5f\"},\"error_y\":{\"color\":\"#2a3f5f\"},\"marker\":{\"line\":{\"color\":\"#E5ECF6\",\"width\":0.5},\"pattern\":{\"fillmode\":\"overlay\",\"size\":10,\"solidity\":0.2}},\"type\":\"bar\"}],\"scattergeo\":[{\"type\":\"scattergeo\",\"marker\":{\"colorbar\":{\"outlinewidth\":0,\"ticks\":\"\"}}}],\"scatterpolar\":[{\"type\":\"scatterpolar\",\"marker\":{\"colorbar\":{\"outlinewidth\":0,\"ticks\":\"\"}}}],\"histogram\":[{\"marker\":{\"pattern\":{\"fillmode\":\"overlay\",\"size\":10,\"solidity\":0.2}},\"type\":\"histogram\"}],\"scattergl\":[{\"type\":\"scattergl\",\"marker\":{\"colorbar\":{\"outlinewidth\":0,\"ticks\":\"\"}}}],\"scatter3d\":[{\"type\":\"scatter3d\",\"line\":{\"colorbar\":{\"outlinewidth\":0,\"ticks\":\"\"}},\"marker\":{\"colorbar\":{\"outlinewidth\":0,\"ticks\":\"\"}}}],\"scattermapbox\":[{\"type\":\"scattermapbox\",\"marker\":{\"colorbar\":{\"outlinewidth\":0,\"ticks\":\"\"}}}],\"scatterternary\":[{\"type\":\"scatterternary\",\"marker\":{\"colorbar\":{\"outlinewidth\":0,\"ticks\":\"\"}}}],\"scattercarpet\":[{\"type\":\"scattercarpet\",\"marker\":{\"colorbar\":{\"outlinewidth\":0,\"ticks\":\"\"}}}],\"carpet\":[{\"aaxis\":{\"endlinecolor\":\"#2a3f5f\",\"gridcolor\":\"white\",\"linecolor\":\"white\",\"minorgridcolor\":\"white\",\"startlinecolor\":\"#2a3f5f\"},\"baxis\":{\"endlinecolor\":\"#2a3f5f\",\"gridcolor\":\"white\",\"linecolor\":\"white\",\"minorgridcolor\":\"white\",\"startlinecolor\":\"#2a3f5f\"},\"type\":\"carpet\"}],\"table\":[{\"cells\":{\"fill\":{\"color\":\"#EBF0F8\"},\"line\":{\"color\":\"white\"}},\"header\":{\"fill\":{\"color\":\"#C8D4E3\"},\"line\":{\"color\":\"white\"}},\"type\":\"table\"}],\"barpolar\":[{\"marker\":{\"line\":{\"color\":\"#E5ECF6\",\"width\":0.5},\"pattern\":{\"fillmode\":\"overlay\",\"size\":10,\"solidity\":0.2}},\"type\":\"barpolar\"}],\"pie\":[{\"automargin\":true,\"type\":\"pie\"}]},\"layout\":{\"autotypenumbers\":\"strict\",\"colorway\":[\"#636efa\",\"#EF553B\",\"#00cc96\",\"#ab63fa\",\"#FFA15A\",\"#19d3f3\",\"#FF6692\",\"#B6E880\",\"#FF97FF\",\"#FECB52\"],\"font\":{\"color\":\"#2a3f5f\"},\"hovermode\":\"closest\",\"hoverlabel\":{\"align\":\"left\"},\"paper_bgcolor\":\"white\",\"plot_bgcolor\":\"#E5ECF6\",\"polar\":{\"bgcolor\":\"#E5ECF6\",\"angularaxis\":{\"gridcolor\":\"white\",\"linecolor\":\"white\",\"ticks\":\"\"},\"radialaxis\":{\"gridcolor\":\"white\",\"linecolor\":\"white\",\"ticks\":\"\"}},\"ternary\":{\"bgcolor\":\"#E5ECF6\",\"aaxis\":{\"gridcolor\":\"white\",\"linecolor\":\"white\",\"ticks\":\"\"},\"baxis\":{\"gridcolor\":\"white\",\"linecolor\":\"white\",\"ticks\":\"\"},\"caxis\":{\"gridcolor\":\"white\",\"linecolor\":\"white\",\"ticks\":\"\"}},\"coloraxis\":{\"colorbar\":{\"outlinewidth\":0,\"ticks\":\"\"}},\"colorscale\":{\"sequential\":[[0.0,\"#0d0887\"],[0.1111111111111111,\"#46039f\"],[0.2222222222222222,\"#7201a8\"],[0.3333333333333333,\"#9c179e\"],[0.4444444444444444,\"#bd3786\"],[0.5555555555555556,\"#d8576b\"],[0.6666666666666666,\"#ed7953\"],[0.7777777777777778,\"#fb9f3a\"],[0.8888888888888888,\"#fdca26\"],[1.0,\"#f0f921\"]],\"sequentialminus\":[[0.0,\"#0d0887\"],[0.1111111111111111,\"#46039f\"],[0.2222222222222222,\"#7201a8\"],[0.3333333333333333,\"#9c179e\"],[0.4444444444444444,\"#bd3786\"],[0.5555555555555556,\"#d8576b\"],[0.6666666666666666,\"#ed7953\"],[0.7777777777777778,\"#fb9f3a\"],[0.8888888888888888,\"#fdca26\"],[1.0,\"#f0f921\"]],\"diverging\":[[0,\"#8e0152\"],[0.1,\"#c51b7d\"],[0.2,\"#de77ae\"],[0.3,\"#f1b6da\"],[0.4,\"#fde0ef\"],[0.5,\"#f7f7f7\"],[0.6,\"#e6f5d0\"],[0.7,\"#b8e186\"],[0.8,\"#7fbc41\"],[0.9,\"#4d9221\"],[1,\"#276419\"]]},\"xaxis\":{\"gridcolor\":\"white\",\"linecolor\":\"white\",\"ticks\":\"\",\"title\":{\"standoff\":15},\"zerolinecolor\":\"white\",\"automargin\":true,\"zerolinewidth\":2},\"yaxis\":{\"gridcolor\":\"white\",\"linecolor\":\"white\",\"ticks\":\"\",\"title\":{\"standoff\":15},\"zerolinecolor\":\"white\",\"automargin\":true,\"zerolinewidth\":2},\"scene\":{\"xaxis\":{\"backgroundcolor\":\"#E5ECF6\",\"gridcolor\":\"white\",\"linecolor\":\"white\",\"showbackground\":true,\"ticks\":\"\",\"zerolinecolor\":\"white\",\"gridwidth\":2},\"yaxis\":{\"backgroundcolor\":\"#E5ECF6\",\"gridcolor\":\"white\",\"linecolor\":\"white\",\"showbackground\":true,\"ticks\":\"\",\"zerolinecolor\":\"white\",\"gridwidth\":2},\"zaxis\":{\"backgroundcolor\":\"#E5ECF6\",\"gridcolor\":\"white\",\"linecolor\":\"white\",\"showbackground\":true,\"ticks\":\"\",\"zerolinecolor\":\"white\",\"gridwidth\":2}},\"shapedefaults\":{\"line\":{\"color\":\"#2a3f5f\"}},\"annotationdefaults\":{\"arrowcolor\":\"#2a3f5f\",\"arrowhead\":0,\"arrowwidth\":1},\"geo\":{\"bgcolor\":\"white\",\"landcolor\":\"#E5ECF6\",\"subunitcolor\":\"white\",\"showland\":true,\"showlakes\":true,\"lakecolor\":\"white\"},\"title\":{\"x\":0.05},\"mapbox\":{\"style\":\"light\"}}},\"xaxis\":{\"anchor\":\"y\",\"domain\":[0.0,1.0],\"title\":{\"text\":\"Income group\"},\"categoryorder\":\"array\",\"categoryarray\":[\"High income\",\"Upper middle income\",\"Lower middle income\",\"Low income\"]},\"yaxis\":{\"anchor\":\"x\",\"domain\":[0.0,1.0],\"title\":{\"text\":\"Articles Count\"}},\"legend\":{\"title\":{\"text\":\"Income group\"},\"tracegroupgap\":0},\"title\":{\"text\":\"Last Author Countries grouped by Income Level vs Publications count\"},\"barmode\":\"relative\"},                        {\"responsive\": true}                    ).then(function(){\n",
       "                            \n",
       "var gd = document.getElementById('74cd99c5-80b2-45f3-9c62-433dd9c530ac');\n",
       "var x = new MutationObserver(function (mutations, observer) {{\n",
       "        var display = window.getComputedStyle(gd).display;\n",
       "        if (!display || display === 'none') {{\n",
       "            console.log([gd, 'removed!']);\n",
       "            Plotly.purge(gd);\n",
       "            observer.disconnect();\n",
       "        }}\n",
       "}});\n",
       "\n",
       "// Listen for the removal of the full notebook cells\n",
       "var notebookContainer = gd.closest('#notebook-container');\n",
       "if (notebookContainer) {{\n",
       "    x.observe(notebookContainer, {childList: true});\n",
       "}}\n",
       "\n",
       "// Listen for the clearing of the current output cell\n",
       "var outputEl = gd.closest('.output');\n",
       "if (outputEl) {{\n",
       "    x.observe(outputEl, {childList: true});\n",
       "}}\n",
       "\n",
       "                        })                };                });            </script>        </div>"
      ]
     },
     "metadata": {},
     "output_type": "display_data"
    }
   ],
   "source": [
    "fig=px.bar(last_aut_ctry_Income_grp, x=last_aut_ctry_Income_grp.index, y='Articles Count', color=last_aut_ctry_Income_grp.index, text_auto=True,\n",
    "           title='Last Author Countries grouped by Income Level vs Publications count',)\n",
    "fig.show()"
   ]
  },
  {
   "cell_type": "code",
   "execution_count": null,
   "id": "e3062882",
   "metadata": {},
   "outputs": [],
   "source": []
  }
 ],
 "metadata": {
  "kernelspec": {
   "display_name": "Python 3 (ipykernel)",
   "language": "python",
   "name": "python3"
  },
  "language_info": {
   "codemirror_mode": {
    "name": "ipython",
    "version": 3
   },
   "file_extension": ".py",
   "mimetype": "text/x-python",
   "name": "python",
   "nbconvert_exporter": "python",
   "pygments_lexer": "ipython3",
   "version": "3.11.4"
  }
 },
 "nbformat": 4,
 "nbformat_minor": 5
}
